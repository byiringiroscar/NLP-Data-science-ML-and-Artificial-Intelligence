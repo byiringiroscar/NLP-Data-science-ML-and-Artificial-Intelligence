{
  "nbformat": 4,
  "nbformat_minor": 0,
  "metadata": {
    "colab": {
      "provenance": [],
      "collapsed_sections": [],
      "include_colab_link": true
    },
    "kernelspec": {
      "name": "python3",
      "display_name": "Python 3"
    },
    "language_info": {
      "name": "python"
    }
  },
  "cells": [
    {
      "cell_type": "markdown",
      "metadata": {
        "id": "view-in-github",
        "colab_type": "text"
      },
      "source": [
        "<a href=\"https://colab.research.google.com/github/byiringiroscar/NLP_FELLOWSHIP/blob/main/assginment%20.ipynb\" target=\"_parent\"><img src=\"https://colab.research.google.com/assets/colab-badge.svg\" alt=\"Open In Colab\"/></a>"
      ]
    },
    {
      "cell_type": "markdown",
      "source": [
        "# Working with JSON Day 1\n",
        "Json stands for JavaScript Object Notation. Json is formed in a key, value format. It can take Strings, Numbers, Lists and even other Json Objects. \n",
        "\n",
        "You will find json object as responses from APIs.\n",
        "\n",
        "## Objective of this sessions\n",
        "\n",
        "\n",
        "1.   Learn how to read a json file\n",
        "2.   Learn how to request data from an API\n",
        "3.   Learn how to get values from a json object\n",
        "4.   Learn how to add values\n",
        "5.   Learn how to update values\n",
        "6.   Learn how to delete values\n",
        "\n"
      ],
      "metadata": {
        "id": "u2dtvbb_DpCQ"
      }
    },
    {
      "cell_type": "code",
      "execution_count": null,
      "metadata": {
        "colab": {
          "base_uri": "https://localhost:8080/"
        },
        "id": "cJkjPu3EDn5j",
        "outputId": "086abf18-cee5-47fa-a868-6fe73fbd0561"
      },
      "outputs": [
        {
          "output_type": "stream",
          "name": "stdout",
          "text": [
            "{'country': {'name': 'Rwanda', 'continent': 'Africa'}}\n"
          ]
        }
      ],
      "source": [
        "import json\n",
        "# create a json object\n",
        "data = {\n",
        "    \"country\": {\n",
        "        \"name\": \"Rwanda\",\n",
        "        \"continent\": \"Africa\"\n",
        "    }\n",
        "}\n",
        "\n",
        "print(data)"
      ]
    },
    {
      "cell_type": "markdown",
      "source": [
        "## dump vs dumps | load vs loads\n",
        "### Serializating JSON\n",
        "\n",
        "When you was to write the json object to a file, you use:\n",
        "\n",
        " `json.dump(object,filename)`\n",
        " \n",
        " When you want to change it to a json string:\n",
        "\n",
        " `json_string = json.dumps(object)`\n",
        "\n",
        " ### Deserializing JSON\n",
        " When you want to read from a json file, use:\n",
        "\n",
        " `json.load(filename)`\n",
        "\n",
        " When you want to change from json string:\n",
        "\n",
        "  `json_object = json.loads(json_string)`"
      ],
      "metadata": {
        "id": "CsQdYuFjZJJv"
      }
    },
    {
      "cell_type": "markdown",
      "source": [
        "# New Section"
      ],
      "metadata": {
        "id": "VLH911ShPVxl"
      }
    },
    {
      "cell_type": "code",
      "source": [
        "# Accessing the values\n",
        "print(data['country'])\n",
        "print('------------------------')\n",
        "print(data['country']['continent'])"
      ],
      "metadata": {
        "colab": {
          "base_uri": "https://localhost:8080/"
        },
        "id": "UHzkgChomwxc",
        "outputId": "d2482bec-6e23-4f3d-be54-9a97095b16ff"
      },
      "execution_count": null,
      "outputs": [
        {
          "output_type": "stream",
          "name": "stdout",
          "text": [
            "{'name': 'Rwanda', 'continent': 'Africa'}\n",
            "------------------------\n",
            "Africa\n"
          ]
        }
      ]
    },
    {
      "cell_type": "code",
      "source": [
        "# updating values\n",
        "#data['country']['name'] = 'Rwanda'\n",
        "\n",
        "# adding new values\n",
        "#data['country']['population'] = 14000000\n",
        "\n",
        "\n",
        "# removing values\n",
        "del data['country']['population']\n",
        "\n",
        "print(data)"
      ],
      "metadata": {
        "colab": {
          "base_uri": "https://localhost:8080/"
        },
        "id": "uw3VPX9Qp0mm",
        "outputId": "4d8aae98-6235-4c21-b3cf-cbc37c58f22b"
      },
      "execution_count": null,
      "outputs": [
        {
          "output_type": "stream",
          "name": "stdout",
          "text": [
            "{'country': {'name': 'Rwanda', 'continent': 'Africa'}}\n"
          ]
        }
      ]
    },
    {
      "cell_type": "markdown",
      "source": [
        "## Working with APIs\n"
      ],
      "metadata": {
        "id": "3CqcHzyeuX91"
      }
    },
    {
      "cell_type": "code",
      "source": [
        "import requests\n",
        "\n",
        "response = requests.get(\"https://jsonplaceholder.typicode.com/albums\")\n",
        "albums = json.loads(response.text)\n",
        "\n",
        "print(len(albums))\n",
        "print(response.json())"
      ],
      "metadata": {
        "colab": {
          "base_uri": "https://localhost:8080/"
        },
        "id": "0OgpzHMluVkR",
        "outputId": "0e93a186-c308-4bd2-9098-3eab868a481a"
      },
      "execution_count": null,
      "outputs": [
        {
          "output_type": "stream",
          "name": "stdout",
          "text": [
            "100\n",
            "[{'userId': 1, 'id': 1, 'title': 'quidem molestiae enim'}, {'userId': 1, 'id': 2, 'title': 'sunt qui excepturi placeat culpa'}, {'userId': 1, 'id': 3, 'title': 'omnis laborum odio'}, {'userId': 1, 'id': 4, 'title': 'non esse culpa molestiae omnis sed optio'}, {'userId': 1, 'id': 5, 'title': 'eaque aut omnis a'}, {'userId': 1, 'id': 6, 'title': 'natus impedit quibusdam illo est'}, {'userId': 1, 'id': 7, 'title': 'quibusdam autem aliquid et et quia'}, {'userId': 1, 'id': 8, 'title': 'qui fuga est a eum'}, {'userId': 1, 'id': 9, 'title': 'saepe unde necessitatibus rem'}, {'userId': 1, 'id': 10, 'title': 'distinctio laborum qui'}, {'userId': 2, 'id': 11, 'title': 'quam nostrum impedit mollitia quod et dolor'}, {'userId': 2, 'id': 12, 'title': 'consequatur autem doloribus natus consectetur'}, {'userId': 2, 'id': 13, 'title': 'ab rerum non rerum consequatur ut ea unde'}, {'userId': 2, 'id': 14, 'title': 'ducimus molestias eos animi atque nihil'}, {'userId': 2, 'id': 15, 'title': 'ut pariatur rerum ipsum natus repellendus praesentium'}, {'userId': 2, 'id': 16, 'title': 'voluptatem aut maxime inventore autem magnam atque repellat'}, {'userId': 2, 'id': 17, 'title': 'aut minima voluptatem ut velit'}, {'userId': 2, 'id': 18, 'title': 'nesciunt quia et doloremque'}, {'userId': 2, 'id': 19, 'title': 'velit pariatur quaerat similique libero omnis quia'}, {'userId': 2, 'id': 20, 'title': 'voluptas rerum iure ut enim'}, {'userId': 3, 'id': 21, 'title': 'repudiandae voluptatem optio est consequatur rem in temporibus et'}, {'userId': 3, 'id': 22, 'title': 'et rem non provident vel ut'}, {'userId': 3, 'id': 23, 'title': 'incidunt quisquam hic adipisci sequi'}, {'userId': 3, 'id': 24, 'title': 'dolores ut et facere placeat'}, {'userId': 3, 'id': 25, 'title': 'vero maxime id possimus sunt neque et consequatur'}, {'userId': 3, 'id': 26, 'title': 'quibusdam saepe ipsa vel harum'}, {'userId': 3, 'id': 27, 'title': 'id non nostrum expedita'}, {'userId': 3, 'id': 28, 'title': 'omnis neque exercitationem sed dolor atque maxime aut cum'}, {'userId': 3, 'id': 29, 'title': 'inventore ut quasi magnam itaque est fugit'}, {'userId': 3, 'id': 30, 'title': 'tempora assumenda et similique odit distinctio error'}, {'userId': 4, 'id': 31, 'title': 'adipisci laborum fuga laboriosam'}, {'userId': 4, 'id': 32, 'title': 'reiciendis dolores a ut qui debitis non quo labore'}, {'userId': 4, 'id': 33, 'title': 'iste eos nostrum'}, {'userId': 4, 'id': 34, 'title': 'cumque voluptatibus rerum architecto blanditiis'}, {'userId': 4, 'id': 35, 'title': 'et impedit nisi quae magni necessitatibus sed aut pariatur'}, {'userId': 4, 'id': 36, 'title': 'nihil cupiditate voluptate neque'}, {'userId': 4, 'id': 37, 'title': 'est placeat dicta ut nisi rerum iste'}, {'userId': 4, 'id': 38, 'title': 'unde a sequi id'}, {'userId': 4, 'id': 39, 'title': 'ratione porro illum labore eum aperiam sed'}, {'userId': 4, 'id': 40, 'title': 'voluptas neque et sint aut quo odit'}, {'userId': 5, 'id': 41, 'title': 'ea voluptates maiores eos accusantium officiis tempore mollitia consequatur'}, {'userId': 5, 'id': 42, 'title': 'tenetur explicabo ea'}, {'userId': 5, 'id': 43, 'title': 'aperiam doloremque nihil'}, {'userId': 5, 'id': 44, 'title': 'sapiente cum numquam officia consequatur vel natus quos suscipit'}, {'userId': 5, 'id': 45, 'title': 'tenetur quos ea unde est enim corrupti qui'}, {'userId': 5, 'id': 46, 'title': 'molestiae voluptate non'}, {'userId': 5, 'id': 47, 'title': 'temporibus molestiae aut'}, {'userId': 5, 'id': 48, 'title': 'modi consequatur culpa aut quam soluta alias perspiciatis laudantium'}, {'userId': 5, 'id': 49, 'title': 'ut aut vero repudiandae voluptas ullam voluptas at consequatur'}, {'userId': 5, 'id': 50, 'title': 'sed qui sed quas sit ducimus dolor'}, {'userId': 6, 'id': 51, 'title': 'odit laboriosam sint quia cupiditate animi quis'}, {'userId': 6, 'id': 52, 'title': 'necessitatibus quas et sunt at voluptatem'}, {'userId': 6, 'id': 53, 'title': 'est vel sequi voluptatem nemo quam molestiae modi enim'}, {'userId': 6, 'id': 54, 'title': 'aut non illo amet perferendis'}, {'userId': 6, 'id': 55, 'title': 'qui culpa itaque omnis in nesciunt architecto error'}, {'userId': 6, 'id': 56, 'title': 'omnis qui maiores tempora officiis omnis rerum sed repellat'}, {'userId': 6, 'id': 57, 'title': 'libero excepturi voluptatem est architecto quae voluptatum officia tempora'}, {'userId': 6, 'id': 58, 'title': 'nulla illo consequatur aspernatur veritatis aut error delectus et'}, {'userId': 6, 'id': 59, 'title': 'eligendi similique provident nihil'}, {'userId': 6, 'id': 60, 'title': 'omnis mollitia sunt aliquid eum consequatur fugit minus laudantium'}, {'userId': 7, 'id': 61, 'title': 'delectus iusto et'}, {'userId': 7, 'id': 62, 'title': 'eos ea non recusandae iste ut quasi'}, {'userId': 7, 'id': 63, 'title': 'velit est quam'}, {'userId': 7, 'id': 64, 'title': 'autem voluptatem amet iure quae'}, {'userId': 7, 'id': 65, 'title': 'voluptates delectus iure iste qui'}, {'userId': 7, 'id': 66, 'title': 'velit sed quia dolor dolores delectus'}, {'userId': 7, 'id': 67, 'title': 'ad voluptas nostrum et nihil'}, {'userId': 7, 'id': 68, 'title': 'qui quasi nihil aut voluptatum sit dolore minima'}, {'userId': 7, 'id': 69, 'title': 'qui aut est'}, {'userId': 7, 'id': 70, 'title': 'et deleniti unde'}, {'userId': 8, 'id': 71, 'title': 'et vel corporis'}, {'userId': 8, 'id': 72, 'title': 'unde exercitationem ut'}, {'userId': 8, 'id': 73, 'title': 'quos omnis officia'}, {'userId': 8, 'id': 74, 'title': 'quia est eius vitae dolor'}, {'userId': 8, 'id': 75, 'title': 'aut quia expedita non'}, {'userId': 8, 'id': 76, 'title': 'dolorem magnam facere itaque ut reprehenderit tenetur corrupti'}, {'userId': 8, 'id': 77, 'title': 'cupiditate sapiente maiores iusto ducimus cum excepturi veritatis quia'}, {'userId': 8, 'id': 78, 'title': 'est minima eius possimus ea ratione velit et'}, {'userId': 8, 'id': 79, 'title': 'ipsa quae voluptas natus ut suscipit soluta quia quidem'}, {'userId': 8, 'id': 80, 'title': 'id nihil reprehenderit'}, {'userId': 9, 'id': 81, 'title': 'quibusdam sapiente et'}, {'userId': 9, 'id': 82, 'title': 'recusandae consequatur vel amet unde'}, {'userId': 9, 'id': 83, 'title': 'aperiam odio fugiat'}, {'userId': 9, 'id': 84, 'title': 'est et at eos expedita'}, {'userId': 9, 'id': 85, 'title': 'qui voluptatem consequatur aut ab quis temporibus praesentium'}, {'userId': 9, 'id': 86, 'title': 'eligendi mollitia alias aspernatur vel ut iusto'}, {'userId': 9, 'id': 87, 'title': 'aut aut architecto'}, {'userId': 9, 'id': 88, 'title': 'quas perspiciatis optio'}, {'userId': 9, 'id': 89, 'title': 'sit optio id voluptatem est eum et'}, {'userId': 9, 'id': 90, 'title': 'est vel dignissimos'}, {'userId': 10, 'id': 91, 'title': 'repellendus praesentium debitis officiis'}, {'userId': 10, 'id': 92, 'title': 'incidunt et et eligendi assumenda soluta quia recusandae'}, {'userId': 10, 'id': 93, 'title': 'nisi qui dolores perspiciatis'}, {'userId': 10, 'id': 94, 'title': 'quisquam a dolores et earum vitae'}, {'userId': 10, 'id': 95, 'title': 'consectetur vel rerum qui aperiam modi eos aspernatur ipsa'}, {'userId': 10, 'id': 96, 'title': 'unde et ut molestiae est molestias voluptatem sint'}, {'userId': 10, 'id': 97, 'title': 'est quod aut'}, {'userId': 10, 'id': 98, 'title': 'omnis quia possimus nesciunt deleniti assumenda sed autem'}, {'userId': 10, 'id': 99, 'title': 'consectetur ut id impedit dolores sit ad ex aut'}, {'userId': 10, 'id': 100, 'title': 'enim repellat iste'}]\n"
          ]
        }
      ]
    },
    {
      "cell_type": "code",
      "source": [
        "albums[0]"
      ],
      "metadata": {
        "colab": {
          "base_uri": "https://localhost:8080/"
        },
        "id": "CfR8VZPlwIp0",
        "outputId": "45da3c31-9e79-4cc6-d26c-66b24282c13a"
      },
      "execution_count": null,
      "outputs": [
        {
          "output_type": "execute_result",
          "data": {
            "text/plain": [
              "{'userId': 1, 'id': 1, 'title': 'quidem molestiae enim'}"
            ]
          },
          "metadata": {},
          "execution_count": 10
        }
      ]
    },
    {
      "cell_type": "code",
      "source": [
        "# TODO: Get products from https://dummyjson.com\n",
        "\n",
        "# Enter code here #\n",
        "import requests\n",
        "response = requests.get(\"https://dummyjson.com/products\")\n",
        "products = response.json()\n",
        "all_products = products['products']\n",
        "for pro in all_products:\n",
        "  print(pro)"
      ],
      "metadata": {
        "id": "1n679t5WEe2d"
      },
      "execution_count": null,
      "outputs": []
    },
    {
      "cell_type": "code",
      "source": [
        "# TODO Get the last 20 products\n",
        "# Enter code here #\n",
        "import requests\n",
        "response = requests.get(\"https://dummyjson.com/products\")\n",
        "data = response.json()\n",
        "products = data['products'][-20:]\n",
        "for pro in products:\n",
        "  print(pro)"
      ],
      "metadata": {
        "id": "J1n2KHZ5YeZp",
        "colab": {
          "base_uri": "https://localhost:8080/"
        },
        "outputId": "fb1d1390-4148-48b0-e773-2c31c81ce470"
      },
      "execution_count": null,
      "outputs": [
        {
          "output_type": "stream",
          "name": "stdout",
          "text": [
            "{'id': 11, 'title': 'perfume Oil', 'description': 'Mega Discount, Impression of Acqua Di Gio by GiorgioArmani concentrated attar perfume Oil', 'price': 13, 'discountPercentage': 8.4, 'rating': 4.26, 'stock': 65, 'brand': 'Impression of Acqua Di Gio', 'category': 'fragrances', 'thumbnail': 'https://dummyjson.com/image/i/products/11/thumbnail.jpg', 'images': ['https://dummyjson.com/image/i/products/11/1.jpg', 'https://dummyjson.com/image/i/products/11/2.jpg', 'https://dummyjson.com/image/i/products/11/3.jpg', 'https://dummyjson.com/image/i/products/11/thumbnail.jpg']}\n",
            "{'id': 12, 'title': 'Brown Perfume', 'description': 'Royal_Mirage Sport Brown Perfume for Men & Women - 120ml', 'price': 40, 'discountPercentage': 15.66, 'rating': 4, 'stock': 52, 'brand': 'Royal_Mirage', 'category': 'fragrances', 'thumbnail': 'https://dummyjson.com/image/i/products/12/thumbnail.jpg', 'images': ['https://dummyjson.com/image/i/products/12/1.jpg', 'https://dummyjson.com/image/i/products/12/2.jpg', 'https://dummyjson.com/image/i/products/12/3.png', 'https://dummyjson.com/image/i/products/12/4.jpg', 'https://dummyjson.com/image/i/products/12/thumbnail.jpg']}\n",
            "{'id': 13, 'title': 'Fog Scent Xpressio Perfume', 'description': 'Product details of Best Fog Scent Xpressio Perfume 100ml For Men cool long lasting perfumes for Men', 'price': 13, 'discountPercentage': 8.14, 'rating': 4.59, 'stock': 61, 'brand': 'Fog Scent Xpressio', 'category': 'fragrances', 'thumbnail': 'https://dummyjson.com/image/i/products/13/thumbnail.webp', 'images': ['https://dummyjson.com/image/i/products/13/1.jpg', 'https://dummyjson.com/image/i/products/13/2.png', 'https://dummyjson.com/image/i/products/13/3.jpg', 'https://dummyjson.com/image/i/products/13/4.jpg', 'https://dummyjson.com/image/i/products/13/thumbnail.webp']}\n",
            "{'id': 14, 'title': 'Non-Alcoholic Concentrated Perfume Oil', 'description': 'Original Al Munakh® by Mahal Al Musk | Our Impression of Climate | 6ml Non-Alcoholic Concentrated Perfume Oil', 'price': 120, 'discountPercentage': 15.6, 'rating': 4.21, 'stock': 114, 'brand': 'Al Munakh', 'category': 'fragrances', 'thumbnail': 'https://dummyjson.com/image/i/products/14/thumbnail.jpg', 'images': ['https://dummyjson.com/image/i/products/14/1.jpg', 'https://dummyjson.com/image/i/products/14/2.jpg', 'https://dummyjson.com/image/i/products/14/3.jpg', 'https://dummyjson.com/image/i/products/14/thumbnail.jpg']}\n",
            "{'id': 15, 'title': 'Eau De Perfume Spray', 'description': 'Genuine  Al-Rehab spray perfume from UAE/Saudi Arabia/Yemen High Quality', 'price': 30, 'discountPercentage': 10.99, 'rating': 4.7, 'stock': 105, 'brand': 'Lord - Al-Rehab', 'category': 'fragrances', 'thumbnail': 'https://dummyjson.com/image/i/products/15/thumbnail.jpg', 'images': ['https://dummyjson.com/image/i/products/15/1.jpg', 'https://dummyjson.com/image/i/products/15/2.jpg', 'https://dummyjson.com/image/i/products/15/3.jpg', 'https://dummyjson.com/image/i/products/15/4.jpg', 'https://dummyjson.com/image/i/products/15/thumbnail.jpg']}\n",
            "{'id': 16, 'title': 'Hyaluronic Acid Serum', 'description': \"L'OrÃ©al Paris introduces Hyaluron Expert Replumping Serum formulated with 1.5% Hyaluronic Acid\", 'price': 19, 'discountPercentage': 13.31, 'rating': 4.83, 'stock': 110, 'brand': \"L'Oreal Paris\", 'category': 'skincare', 'thumbnail': 'https://dummyjson.com/image/i/products/16/thumbnail.jpg', 'images': ['https://dummyjson.com/image/i/products/16/1.png', 'https://dummyjson.com/image/i/products/16/2.webp', 'https://dummyjson.com/image/i/products/16/3.jpg', 'https://dummyjson.com/image/i/products/16/4.jpg', 'https://dummyjson.com/image/i/products/16/thumbnail.jpg']}\n",
            "{'id': 17, 'title': 'Tree Oil 30ml', 'description': 'Tea tree oil contains a number of compounds, including terpinen-4-ol, that have been shown to kill certain bacteria,', 'price': 12, 'discountPercentage': 4.09, 'rating': 4.52, 'stock': 78, 'brand': 'Hemani Tea', 'category': 'skincare', 'thumbnail': 'https://dummyjson.com/image/i/products/17/thumbnail.jpg', 'images': ['https://dummyjson.com/image/i/products/17/1.jpg', 'https://dummyjson.com/image/i/products/17/2.jpg', 'https://dummyjson.com/image/i/products/17/3.jpg', 'https://dummyjson.com/image/i/products/17/thumbnail.jpg']}\n",
            "{'id': 18, 'title': 'Oil Free Moisturizer 100ml', 'description': 'Dermive Oil Free Moisturizer with SPF 20 is specifically formulated with ceramides, hyaluronic acid & sunscreen.', 'price': 40, 'discountPercentage': 13.1, 'rating': 4.56, 'stock': 88, 'brand': 'Dermive', 'category': 'skincare', 'thumbnail': 'https://dummyjson.com/image/i/products/18/thumbnail.jpg', 'images': ['https://dummyjson.com/image/i/products/18/1.jpg', 'https://dummyjson.com/image/i/products/18/2.jpg', 'https://dummyjson.com/image/i/products/18/3.jpg', 'https://dummyjson.com/image/i/products/18/4.jpg', 'https://dummyjson.com/image/i/products/18/thumbnail.jpg']}\n",
            "{'id': 19, 'title': 'Skin Beauty Serum.', 'description': 'Product name: rorec collagen hyaluronic acid white face serum riceNet weight: 15 m', 'price': 46, 'discountPercentage': 10.68, 'rating': 4.42, 'stock': 54, 'brand': 'ROREC White Rice', 'category': 'skincare', 'thumbnail': 'https://dummyjson.com/image/i/products/19/thumbnail.jpg', 'images': ['https://dummyjson.com/image/i/products/19/1.jpg', 'https://dummyjson.com/image/i/products/19/2.jpg', 'https://dummyjson.com/image/i/products/19/3.png', 'https://dummyjson.com/image/i/products/19/thumbnail.jpg']}\n",
            "{'id': 20, 'title': 'Freckle Treatment Cream- 15gm', 'description': \"Fair & Clear is Pakistan's only pure Freckle cream which helpsfade Freckles, Darkspots and pigments. Mercury level is 0%, so there are no side effects.\", 'price': 70, 'discountPercentage': 16.99, 'rating': 4.06, 'stock': 140, 'brand': 'Fair & Clear', 'category': 'skincare', 'thumbnail': 'https://dummyjson.com/image/i/products/20/thumbnail.jpg', 'images': ['https://dummyjson.com/image/i/products/20/1.jpg', 'https://dummyjson.com/image/i/products/20/2.jpg', 'https://dummyjson.com/image/i/products/20/3.jpg', 'https://dummyjson.com/image/i/products/20/4.jpg', 'https://dummyjson.com/image/i/products/20/thumbnail.jpg']}\n",
            "{'id': 21, 'title': '- Daal Masoor 500 grams', 'description': 'Fine quality Branded Product Keep in a cool and dry place', 'price': 20, 'discountPercentage': 4.81, 'rating': 4.44, 'stock': 133, 'brand': 'Saaf & Khaas', 'category': 'groceries', 'thumbnail': 'https://dummyjson.com/image/i/products/21/thumbnail.png', 'images': ['https://dummyjson.com/image/i/products/21/1.png', 'https://dummyjson.com/image/i/products/21/2.jpg', 'https://dummyjson.com/image/i/products/21/3.jpg']}\n",
            "{'id': 22, 'title': 'Elbow Macaroni - 400 gm', 'description': 'Product details of Bake Parlor Big Elbow Macaroni - 400 gm', 'price': 14, 'discountPercentage': 15.58, 'rating': 4.57, 'stock': 146, 'brand': 'Bake Parlor Big', 'category': 'groceries', 'thumbnail': 'https://dummyjson.com/image/i/products/22/thumbnail.jpg', 'images': ['https://dummyjson.com/image/i/products/22/1.jpg', 'https://dummyjson.com/image/i/products/22/2.jpg', 'https://dummyjson.com/image/i/products/22/3.jpg']}\n",
            "{'id': 23, 'title': 'Orange Essence Food Flavou', 'description': 'Specifications of Orange Essence Food Flavour For Cakes and Baking Food Item', 'price': 14, 'discountPercentage': 8.04, 'rating': 4.85, 'stock': 26, 'brand': 'Baking Food Items', 'category': 'groceries', 'thumbnail': 'https://dummyjson.com/image/i/products/23/thumbnail.jpg', 'images': ['https://dummyjson.com/image/i/products/23/1.jpg', 'https://dummyjson.com/image/i/products/23/2.jpg', 'https://dummyjson.com/image/i/products/23/3.jpg', 'https://dummyjson.com/image/i/products/23/4.jpg', 'https://dummyjson.com/image/i/products/23/thumbnail.jpg']}\n",
            "{'id': 24, 'title': 'cereals muesli fruit nuts', 'description': 'original fauji cereal muesli 250gm box pack original fauji cereals muesli fruit nuts flakes breakfast cereal break fast faujicereals cerels cerel foji fouji', 'price': 46, 'discountPercentage': 16.8, 'rating': 4.94, 'stock': 113, 'brand': 'fauji', 'category': 'groceries', 'thumbnail': 'https://dummyjson.com/image/i/products/24/thumbnail.jpg', 'images': ['https://dummyjson.com/image/i/products/24/1.jpg', 'https://dummyjson.com/image/i/products/24/2.jpg', 'https://dummyjson.com/image/i/products/24/3.jpg', 'https://dummyjson.com/image/i/products/24/4.jpg', 'https://dummyjson.com/image/i/products/24/thumbnail.jpg']}\n",
            "{'id': 25, 'title': 'Gulab Powder 50 Gram', 'description': 'Dry Rose Flower Powder Gulab Powder 50 Gram • Treats Wounds', 'price': 70, 'discountPercentage': 13.58, 'rating': 4.87, 'stock': 47, 'brand': 'Dry Rose', 'category': 'groceries', 'thumbnail': 'https://dummyjson.com/image/i/products/25/thumbnail.jpg', 'images': ['https://dummyjson.com/image/i/products/25/1.png', 'https://dummyjson.com/image/i/products/25/2.jpg', 'https://dummyjson.com/image/i/products/25/3.png', 'https://dummyjson.com/image/i/products/25/4.jpg', 'https://dummyjson.com/image/i/products/25/thumbnail.jpg']}\n",
            "{'id': 26, 'title': 'Plant Hanger For Home', 'description': 'Boho Decor Plant Hanger For Home Wall Decoration Macrame Wall Hanging Shelf', 'price': 41, 'discountPercentage': 17.86, 'rating': 4.08, 'stock': 131, 'brand': 'Boho Decor', 'category': 'home-decoration', 'thumbnail': 'https://dummyjson.com/image/i/products/26/thumbnail.jpg', 'images': ['https://dummyjson.com/image/i/products/26/1.jpg', 'https://dummyjson.com/image/i/products/26/2.jpg', 'https://dummyjson.com/image/i/products/26/3.jpg', 'https://dummyjson.com/image/i/products/26/4.jpg', 'https://dummyjson.com/image/i/products/26/5.jpg', 'https://dummyjson.com/image/i/products/26/thumbnail.jpg']}\n",
            "{'id': 27, 'title': 'Flying Wooden Bird', 'description': 'Package Include 6 Birds with Adhesive Tape Shape: 3D Shaped Wooden Birds Material: Wooden MDF, Laminated 3.5mm', 'price': 51, 'discountPercentage': 15.58, 'rating': 4.41, 'stock': 17, 'brand': 'Flying Wooden', 'category': 'home-decoration', 'thumbnail': 'https://dummyjson.com/image/i/products/27/thumbnail.webp', 'images': ['https://dummyjson.com/image/i/products/27/1.jpg', 'https://dummyjson.com/image/i/products/27/2.jpg', 'https://dummyjson.com/image/i/products/27/3.jpg', 'https://dummyjson.com/image/i/products/27/4.jpg', 'https://dummyjson.com/image/i/products/27/thumbnail.webp']}\n",
            "{'id': 28, 'title': '3D Embellishment Art Lamp', 'description': '3D led lamp sticker Wall sticker 3d wall art light on/off button  cell operated (included)', 'price': 20, 'discountPercentage': 16.49, 'rating': 4.82, 'stock': 54, 'brand': 'LED Lights', 'category': 'home-decoration', 'thumbnail': 'https://dummyjson.com/image/i/products/28/thumbnail.jpg', 'images': ['https://dummyjson.com/image/i/products/28/1.jpg', 'https://dummyjson.com/image/i/products/28/2.jpg', 'https://dummyjson.com/image/i/products/28/3.png', 'https://dummyjson.com/image/i/products/28/4.jpg', 'https://dummyjson.com/image/i/products/28/thumbnail.jpg']}\n",
            "{'id': 29, 'title': 'Handcraft Chinese style', 'description': 'Handcraft Chinese style art luxury palace hotel villa mansion home decor ceramic vase with brass fruit plate', 'price': 60, 'discountPercentage': 15.34, 'rating': 4.44, 'stock': 7, 'brand': 'luxury palace', 'category': 'home-decoration', 'thumbnail': 'https://dummyjson.com/image/i/products/29/thumbnail.webp', 'images': ['https://dummyjson.com/image/i/products/29/1.jpg', 'https://dummyjson.com/image/i/products/29/2.jpg', 'https://dummyjson.com/image/i/products/29/3.webp', 'https://dummyjson.com/image/i/products/29/4.webp', 'https://dummyjson.com/image/i/products/29/thumbnail.webp']}\n",
            "{'id': 30, 'title': 'Key Holder', 'description': 'Attractive DesignMetallic materialFour key hooksReliable & DurablePremium Quality', 'price': 30, 'discountPercentage': 2.92, 'rating': 4.92, 'stock': 54, 'brand': 'Golden', 'category': 'home-decoration', 'thumbnail': 'https://dummyjson.com/image/i/products/30/thumbnail.jpg', 'images': ['https://dummyjson.com/image/i/products/30/1.jpg', 'https://dummyjson.com/image/i/products/30/2.jpg', 'https://dummyjson.com/image/i/products/30/3.jpg', 'https://dummyjson.com/image/i/products/30/thumbnail.jpg']}\n"
          ]
        }
      ]
    },
    {
      "cell_type": "code",
      "source": [
        "# Create a new json consisting of aggregated data of the products: {category, brand : list of products, average price}\n",
        "# Enter code here #\n",
        "\n",
        "import requests\n",
        "\n",
        "response = requests.get(\"https://dummyjson.com/products\")\n",
        "data = response.json()\n",
        "products = []\n",
        "\n",
        "all_products = [product for product in data['products']]\n",
        "\n",
        "\n",
        "def get_category(all_pro):\n",
        "    all_category = []\n",
        "    for all_p in all_pro:\n",
        "        all_category.append(all_p['category'])\n",
        "    return all_category\n",
        "\n",
        "\n",
        "mylist = list(dict.fromkeys(get_category(all_products)))\n",
        "\n",
        "final_pro = []\n",
        "\n",
        "final_brand = []\n",
        "final_price = []\n",
        "\n",
        "\n",
        "def get_brand_same_category(category):\n",
        "    for all_pro in all_products:\n",
        "        if all_pro['category'] == category:\n",
        "            final_brand.append(all_pro['brand'])\n",
        "    return final_brand\n",
        "\n",
        "\n",
        "def get_brand_same_price(category):\n",
        "    for all_pro in all_products:\n",
        "        if all_pro['category'] == category:\n",
        "            final_price.append(all_pro['price'])\n",
        "            final_brand.append(all_pro['brand'])\n",
        "    average_final = sum(final_price) / len(final_price)\n",
        "    return average_final\n",
        "\n",
        "\n",
        "for my in mylist:\n",
        "    final_pro.append({\n",
        "        my: {\n",
        "            'brand': list(dict.fromkeys(get_brand_same_category(my))),\n",
        "            'average': get_brand_same_price(my)\n",
        "        }\n",
        "    })\n",
        "\n",
        "print(final_pro)\n",
        "\n",
        "\n"
      ],
      "metadata": {
        "id": "VDwkT2MV3wxQ",
        "colab": {
          "base_uri": "https://localhost:8080/"
        },
        "outputId": "482ae4ba-9372-43ad-fffb-848ea878d73f"
      },
      "execution_count": null,
      "outputs": [
        {
          "output_type": "stream",
          "name": "stdout",
          "text": [
            "[{'smartphones': {'brand': ['Apple', 'Samsung', 'OPPO', 'Huawei'], 'average': 695.2}}, {'laptops': {'brand': ['Apple', 'Samsung', 'OPPO', 'Huawei', 'APPle', 'Microsoft Surface', 'Infinix', 'HP Pavilion'], 'average': 1042.1}}, {'fragrances': {'brand': ['Apple', 'Samsung', 'OPPO', 'Huawei', 'APPle', 'Microsoft Surface', 'Infinix', 'HP Pavilion', 'Impression of Acqua Di Gio', 'Royal_Mirage', 'Fog Scent Xpressio', 'Al Munakh', 'Lord - Al-Rehab'], 'average': 709.1333333333333}}, {'skincare': {'brand': ['Apple', 'Samsung', 'OPPO', 'Huawei', 'APPle', 'Microsoft Surface', 'Infinix', 'HP Pavilion', 'Impression of Acqua Di Gio', 'Royal_Mirage', 'Fog Scent Xpressio', 'Al Munakh', 'Lord - Al-Rehab', \"L'Oreal Paris\", 'Hemani Tea', 'Dermive', 'ROREC White Rice', 'Fair & Clear'], 'average': 541.2}}, {'groceries': {'brand': ['Apple', 'Samsung', 'OPPO', 'Huawei', 'APPle', 'Microsoft Surface', 'Infinix', 'HP Pavilion', 'Impression of Acqua Di Gio', 'Royal_Mirage', 'Fog Scent Xpressio', 'Al Munakh', 'Lord - Al-Rehab', \"L'Oreal Paris\", 'Hemani Tea', 'Dermive', 'ROREC White Rice', 'Fair & Clear', 'Saaf & Khaas', 'Bake Parlor Big', 'Baking Food Items', 'fauji', 'Dry Rose'], 'average': 439.52}}, {'home-decoration': {'brand': ['Apple', 'Samsung', 'OPPO', 'Huawei', 'APPle', 'Microsoft Surface', 'Infinix', 'HP Pavilion', 'Impression of Acqua Di Gio', 'Royal_Mirage', 'Fog Scent Xpressio', 'Al Munakh', 'Lord - Al-Rehab', \"L'Oreal Paris\", 'Hemani Tea', 'Dermive', 'ROREC White Rice', 'Fair & Clear', 'Saaf & Khaas', 'Bake Parlor Big', 'Baking Food Items', 'fauji', 'Dry Rose', 'Boho Decor', 'Flying Wooden', 'LED Lights', 'luxury palace', 'Golden'], 'average': 373.0}}]\n"
          ]
        }
      ]
    },
    {
      "cell_type": "code",
      "source": [
        "# Write the new json to a file\n",
        "# Enter code here #\n",
        "\n",
        "# Create a new json consisting of aggregated data of the products: {category, brand : list of products, average price}\n",
        "# Enter code here #\n",
        "\n",
        "import requests\n",
        "import json\n",
        "\n",
        "response = requests.get(\"https://dummyjson.com/products\")\n",
        "data = response.json()\n",
        "products = []\n",
        "\n",
        "all_products = [product for product in data['products']]\n",
        "\n",
        "\n",
        "def get_category(all_pro):\n",
        "    all_category = []\n",
        "    for all_p in all_pro:\n",
        "        all_category.append(all_p['category'])\n",
        "    return all_category\n",
        "\n",
        "\n",
        "mylist = list(dict.fromkeys(get_category(all_products)))\n",
        "\n",
        "final_pro = []\n",
        "\n",
        "final_brand = []\n",
        "final_price = []\n",
        "\n",
        "\n",
        "def get_brand_same_category(category):\n",
        "    for all_pro in all_products:\n",
        "        if all_pro['category'] == category:\n",
        "            final_brand.append(all_pro['brand'])\n",
        "    return final_brand\n",
        "\n",
        "\n",
        "def get_brand_same_price(category):\n",
        "    for all_pro in all_products:\n",
        "        if all_pro['category'] == category:\n",
        "            final_price.append(all_pro['price'])\n",
        "            final_brand.append(all_pro['brand'])\n",
        "    average_final = sum(final_price) / len(final_price)\n",
        "    return average_final\n",
        "\n",
        "\n",
        "for my in mylist:\n",
        "    final_pro.append({\n",
        "        my: {\n",
        "            'brand': list(dict.fromkeys(get_brand_same_category(my))),\n",
        "            'average': get_brand_same_price(my)\n",
        "        }\n",
        "    })\n",
        "\n",
        "\n",
        "\n",
        "with open('/content/convert.txt', 'w') as convert_files:\n",
        "    convert_files.write(json.dumps(final_pro))\n",
        "\n"
      ],
      "metadata": {
        "id": "uYq4WWJA443O"
      },
      "execution_count": null,
      "outputs": []
    },
    {
      "cell_type": "code",
      "source": [
        "import urllib\n",
        "import json\n",
        "import pandas as pd\n",
        "import requests\n",
        "import csv\n",
        "\n",
        "\n",
        "def get_drivers_data():\n",
        "    response = requests.get('http://ergast.com/api/f1/2018/drivers.json')\n",
        "\n",
        "    data = response.json()\n",
        "    final_drivers = data['MRData']['DriverTable']['Drivers']\n",
        "    return final_drivers\n",
        "\n",
        "\n",
        "final_dict = []\n",
        "for data in get_drivers_data():\n",
        "    final_dict.append({\n",
        "        'driver_name': data['driverId'],\n",
        "        'nationality': data['nationality'],\n",
        "        'code': data['code']\n",
        "    })\n",
        "\n",
        "\n",
        "\n",
        "\n",
        "def jsonExtracter(file_path):\n",
        "    products_set = final_dict[:3]\n",
        "    field_names = ['driver_name', 'nationality', 'code']\n",
        "    with open(f'{file_path}', 'w') as csvfile:\n",
        "        writer = csv.DictWriter(csvfile, fieldnames=field_names)\n",
        "        writer.writeheader()\n",
        "        writer.writerows(products_set)\n",
        "        return products_set\n",
        "\n",
        "\n",
        "jsonExtracter('/content/race.csv')\n"
      ],
      "metadata": {
        "id": "tDjS4_AjONs0",
        "colab": {
          "base_uri": "https://localhost:8080/"
        },
        "outputId": "ddc0c152-cd62-49e7-a4ee-7c612f819a04"
      },
      "execution_count": 7,
      "outputs": [
        {
          "output_type": "execute_result",
          "data": {
            "text/plain": [
              "[{'driver_name': 'alonso', 'nationality': 'Spanish', 'code': 'ALO'},\n",
              " {'driver_name': 'bottas', 'nationality': 'Finnish', 'code': 'BOT'},\n",
              " {'driver_name': 'ericsson', 'nationality': 'Swedish', 'code': 'ERI'}]"
            ]
          },
          "metadata": {},
          "execution_count": 7
        }
      ]
    },
    {
      "cell_type": "code",
      "source": [],
      "metadata": {
        "id": "bo5SyqcQOfty"
      },
      "execution_count": null,
      "outputs": []
    }
  ]
}