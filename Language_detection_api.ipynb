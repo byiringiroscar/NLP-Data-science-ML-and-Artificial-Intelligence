{
  "nbformat": 4,
  "nbformat_minor": 0,
  "metadata": {
    "colab": {
      "provenance": [],
      "authorship_tag": "ABX9TyPOgWKuLEFJdhjynwu7bKX7",
      "include_colab_link": true
    },
    "kernelspec": {
      "name": "python3",
      "display_name": "Python 3"
    },
    "language_info": {
      "name": "python"
    }
  },
  "cells": [
    {
      "cell_type": "markdown",
      "metadata": {
        "id": "view-in-github",
        "colab_type": "text"
      },
      "source": [
        "<a href=\"https://colab.research.google.com/github/byiringiroscar/NLP_FELLOWSHIP/blob/main/Language_detection_api.ipynb\" target=\"_parent\"><img src=\"https://colab.research.google.com/assets/colab-badge.svg\" alt=\"Open In Colab\"/></a>"
      ]
    },
    {
      "cell_type": "code",
      "execution_count": null,
      "metadata": {
        "id": "0Ih0HiaKWZHy"
      },
      "outputs": [],
      "source": [
        "!pip install detectlanguage"
      ]
    },
    {
      "cell_type": "code",
      "source": [
        "import detectlanguage\n",
        "\n",
        "detectlanguage.configuration.api_key = \"API KEY\"\n",
        "\n",
        "# Enable secure mode (SSL) if you are passing sensitive data\n",
        "detectlanguage.configuration.secure = True"
      ],
      "metadata": {
        "id": "6PNmCUXXWfoL"
      },
      "execution_count": 17,
      "outputs": []
    },
    {
      "cell_type": "code",
      "source": [
        "text_detect = detectlanguage.detect(\"skddmsmsdosdksmksd\")\n"
      ],
      "metadata": {
        "id": "Br_bWMwTWluq"
      },
      "execution_count": 15,
      "outputs": []
    },
    {
      "cell_type": "code",
      "source": [
        "text_lang = ''\n",
        "text_conf = 0\n",
        "text_isReliable = False\n",
        "for t in text_detect:\n",
        "  if t['confidence'] > text_conf and t['isReliable'] == True:\n",
        "    text_lang = t['language']\n",
        "    text_conf = t['confidence']\n",
        "    text_isReliable = t['isReliable']\n",
        "print(text_lang)\n"
      ],
      "metadata": {
        "colab": {
          "base_uri": "https://localhost:8080/"
        },
        "id": "9nEPmrH3Wnif",
        "outputId": "79c6c92b-3fbe-4af5-ca10-3f7495cc1f9f"
      },
      "execution_count": 16,
      "outputs": [
        {
          "output_type": "stream",
          "name": "stdout",
          "text": [
            "\n"
          ]
        }
      ]
    },
    {
      "cell_type": "code",
      "source": [],
      "metadata": {
        "id": "yV21IF9gXVtH"
      },
      "execution_count": null,
      "outputs": []
    }
  ]
}