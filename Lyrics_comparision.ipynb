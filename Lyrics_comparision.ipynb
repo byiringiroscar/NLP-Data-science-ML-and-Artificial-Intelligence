{
  "nbformat": 4,
  "nbformat_minor": 0,
  "metadata": {
    "colab": {
      "provenance": [],
      "authorship_tag": "ABX9TyMp0+6LzEBSTQ4AYTOJT0xH",
      "include_colab_link": true
    },
    "kernelspec": {
      "name": "python3",
      "display_name": "Python 3"
    },
    "language_info": {
      "name": "python"
    }
  },
  "cells": [
    {
      "cell_type": "markdown",
      "metadata": {
        "id": "view-in-github",
        "colab_type": "text"
      },
      "source": [
        "<a href=\"https://colab.research.google.com/github/byiringiroscar/NLP-Data-science-ML-and-Artificial-Intelligence/blob/main/Lyrics_comparision.ipynb\" target=\"_parent\"><img src=\"https://colab.research.google.com/assets/colab-badge.svg\" alt=\"Open In Colab\"/></a>"
      ]
    },
    {
      "cell_type": "code",
      "source": [
        "import difflib\n",
        "\n",
        "# Define the two strings to compare\n",
        "string1 = \"What would I do without your smart mouth Drawing me in, and you kicking me out\"\n",
        "string2 = \"What would I do without your smart mouth Drawing me in, and you knocking me out\"\n",
        "\n",
        "# Create a SequenceMatcher object\n",
        "matcher = difflib.SequenceMatcher(None, string1, string2)\n",
        "\n",
        "# Calculate the similarity of the two strings\n",
        "similarity = matcher.ratio()\n",
        "\n",
        "# Print the similarity score\n",
        "print(similarity)"
      ],
      "metadata": {
        "colab": {
          "base_uri": "https://localhost:8080/"
        },
        "id": "yjEfF6mVzVMm",
        "outputId": "8e153a7c-c09d-4d60-a3d9-e01ea3ffdba5"
      },
      "execution_count": 2,
      "outputs": [
        {
          "output_type": "stream",
          "name": "stdout",
          "text": [
            "0.9808917197452229\n"
          ]
        }
      ]
    },
    {
      "cell_type": "code",
      "source": [
        "!pip install fuzzywuzzy"
      ],
      "metadata": {
        "colab": {
          "base_uri": "https://localhost:8080/"
        },
        "id": "Gqvg44u2zyDZ",
        "outputId": "b517bb6a-492b-4967-afcd-2e4c7ac71536"
      },
      "execution_count": 4,
      "outputs": [
        {
          "output_type": "stream",
          "name": "stdout",
          "text": [
            "Collecting fuzzywuzzy\n",
            "  Downloading fuzzywuzzy-0.18.0-py2.py3-none-any.whl (18 kB)\n",
            "Installing collected packages: fuzzywuzzy\n",
            "Successfully installed fuzzywuzzy-0.18.0\n"
          ]
        }
      ]
    },
    {
      "cell_type": "code",
      "source": [
        "from fuzzywuzzy import fuzz\n",
        "\n",
        "official_lyric = \"What would I do without your smart mouth Drawing me in, and you kicking me out\"\n",
        "\n",
        "sample_lyrics = [\n",
        "    {\"name\": \"oscar\", \"lyric\": \"What would I do without your smart mouth Drawing me in, and you kicking me out\"},\n",
        "    {\"name\": \"nelly\", \"lyric\": \"My head's under waterBut I'm breathing fine\"},\n",
        "    {\"name\": \"kellia\", \"lyric\": \"Cause all of me Loves all of you Love your curves and all your edges\"},\n",
        "]\n",
        "\n",
        "threshold = 90  # Adjust the threshold as needed\n",
        "\n",
        "matching_participants = []\n",
        "\n",
        "for participant in sample_lyrics:\n",
        "    similarity = fuzz.token_sort_ratio(participant[\"lyric\"], official_lyric)\n",
        "    if similarity >= threshold:\n",
        "        matching_participants.append(participant[\"name\"])\n",
        "\n",
        "if matching_participants:\n",
        "    print(\"Participants who matched the official lyric:\", matching_participants)\n",
        "else:\n",
        "    print(\"No participants matched the official lyric.\")\n"
      ],
      "metadata": {
        "colab": {
          "base_uri": "https://localhost:8080/"
        },
        "id": "khkpo4cszY7r",
        "outputId": "0d0926cd-174a-4d7c-f267-48c425fe4369"
      },
      "execution_count": 5,
      "outputs": [
        {
          "output_type": "stream",
          "name": "stdout",
          "text": [
            "Participants who matched the official lyric: ['oscar']\n"
          ]
        },
        {
          "output_type": "stream",
          "name": "stderr",
          "text": [
            "/usr/local/lib/python3.10/dist-packages/fuzzywuzzy/fuzz.py:11: UserWarning: Using slow pure-python SequenceMatcher. Install python-Levenshtein to remove this warning\n",
            "  warnings.warn('Using slow pure-python SequenceMatcher. Install python-Levenshtein to remove this warning')\n"
          ]
        }
      ]
    },
    {
      "cell_type": "code",
      "source": [
        "import difflib\n",
        "\n",
        "official_lyric = \"What would I do without your smart mouth Drawing me in, and you kicking me out\"\n",
        "\n",
        "sample_lyrics = [\n",
        "    {\"name\": \"oscar\", \"lyric\": \"What would I do without your smart mouth Drawing me in, and you kicking me out\"},\n",
        "    {\"name\": \"nelly\", \"lyric\": \"My head's under waterBut I'm breathing fine\"},\n",
        "    {\"name\": \"kellia\", \"lyric\": \"Cause all of me Loves all of you Love your curves and all your edges\"},\n",
        "]\n",
        "\n",
        "threshold = 0.8  # Adjust the threshold as needed\n",
        "\n",
        "matching_participants = []\n",
        "\n",
        "for participant in sample_lyrics:\n",
        "    similarity = difflib.SequenceMatcher(None, participant[\"lyric\"], official_lyric).ratio()\n",
        "    if similarity >= threshold:\n",
        "        matching_participants.append(participant[\"name\"])\n",
        "\n",
        "if matching_participants:\n",
        "    print(\"Participants who matched the official lyric:\", matching_participants)\n",
        "else:\n",
        "    print(\"No participants matched the official lyric.\")\n"
      ],
      "metadata": {
        "colab": {
          "base_uri": "https://localhost:8080/"
        },
        "id": "Mhqi4lyCztfZ",
        "outputId": "e87bff1b-5e51-4105-c062-63b04533a58a"
      },
      "execution_count": 6,
      "outputs": [
        {
          "output_type": "stream",
          "name": "stdout",
          "text": [
            "Participants who matched the official lyric: ['oscar']\n"
          ]
        }
      ]
    },
    {
      "cell_type": "code",
      "source": [],
      "metadata": {
        "id": "JiFIYkWxzqqY"
      },
      "execution_count": null,
      "outputs": []
    }
  ]
}