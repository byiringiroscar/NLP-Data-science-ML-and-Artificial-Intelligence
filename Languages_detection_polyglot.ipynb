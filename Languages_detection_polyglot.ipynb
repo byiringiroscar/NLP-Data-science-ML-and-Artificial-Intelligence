{
  "nbformat": 4,
  "nbformat_minor": 0,
  "metadata": {
    "colab": {
      "provenance": [],
      "authorship_tag": "ABX9TyO5Wbd0Z/qIH1lfwa6NQlk2",
      "include_colab_link": true
    },
    "kernelspec": {
      "name": "python3",
      "display_name": "Python 3"
    },
    "language_info": {
      "name": "python"
    }
  },
  "cells": [
    {
      "cell_type": "markdown",
      "metadata": {
        "id": "view-in-github",
        "colab_type": "text"
      },
      "source": [
        "<a href=\"https://colab.research.google.com/github/byiringiroscar/NLP_FELLOWSHIP/blob/main/Languages_detection_polyglot.ipynb\" target=\"_parent\"><img src=\"https://colab.research.google.com/assets/colab-badge.svg\" alt=\"Open In Colab\"/></a>"
      ]
    },
    {
      "cell_type": "code",
      "execution_count": null,
      "metadata": {
        "id": "yPKmrQ5mLtLp"
      },
      "outputs": [],
      "source": [
        "!pip install pycld2 pyicu polyglot"
      ]
    },
    {
      "cell_type": "code",
      "source": [
        "from polyglot.detect import Detector\n",
        "langu_conf = 0\n",
        "langu_name = ''\n",
        "langu_code = ''\n",
        "for lang in Detector(\"wo ist die Toilette\").languages:\n",
        "  if lang.confidence > langu_conf:\n",
        "    langu_conf = lang.confidence\n",
        "    langu_name = lang.name\n",
        "    langu_code = lang.code\n",
        "\n",
        "print(langu_code)"
      ],
      "metadata": {
        "colab": {
          "base_uri": "https://localhost:8080/"
        },
        "id": "Z486dT0ZL5e5",
        "outputId": "25e359df-61a3-448c-9b96-caeb326765b5"
      },
      "execution_count": 23,
      "outputs": [
        {
          "output_type": "stream",
          "name": "stdout",
          "text": [
            "de\n"
          ]
        }
      ]
    },
    {
      "cell_type": "code",
      "source": [
        "a = Detector(\"I like to eat banane and juice\")\n",
        "a"
      ],
      "metadata": {
        "colab": {
          "base_uri": "https://localhost:8080/"
        },
        "id": "SVR-EqUsOCw1",
        "outputId": "574ac6e3-363c-46c9-b782-6eea8f0eb8e6"
      },
      "execution_count": 9,
      "outputs": [
        {
          "output_type": "execute_result",
          "data": {
            "text/plain": [
              "<polyglot.detect.base.Detector at 0x7f583da7bd30>"
            ]
          },
          "metadata": {},
          "execution_count": 9
        }
      ]
    },
    {
      "cell_type": "code",
      "source": [],
      "metadata": {
        "id": "1EG4xqe8NVKg"
      },
      "execution_count": null,
      "outputs": []
    }
  ]
}