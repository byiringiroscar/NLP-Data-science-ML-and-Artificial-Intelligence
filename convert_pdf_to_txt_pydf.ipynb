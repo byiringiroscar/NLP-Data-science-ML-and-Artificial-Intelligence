{
  "nbformat": 4,
  "nbformat_minor": 0,
  "metadata": {
    "colab": {
      "provenance": [],
      "authorship_tag": "ABX9TyNYGzHmK6QkJROtKAvGMOw0",
      "include_colab_link": true
    },
    "kernelspec": {
      "name": "python3",
      "display_name": "Python 3"
    },
    "language_info": {
      "name": "python"
    }
  },
  "cells": [
    {
      "cell_type": "markdown",
      "metadata": {
        "id": "view-in-github",
        "colab_type": "text"
      },
      "source": [
        "<a href=\"https://colab.research.google.com/github/byiringiroscar/NLP_FELLOWSHIP/blob/main/convert_pdf_to_txt_pydf.ipynb\" target=\"_parent\"><img src=\"https://colab.research.google.com/assets/colab-badge.svg\" alt=\"Open In Colab\"/></a>"
      ]
    },
    {
      "cell_type": "code",
      "execution_count": null,
      "metadata": {
        "id": "0QyLKuR8BlTN"
      },
      "outputs": [],
      "source": [
        "!pip install textract"
      ]
    },
    {
      "cell_type": "code",
      "source": [
        "!pip install pypdf2"
      ],
      "metadata": {
        "colab": {
          "base_uri": "https://localhost:8080/"
        },
        "id": "3Y9ZtTY0B47v",
        "outputId": "03e9c0d3-ae77-4307-e17e-8e60c6a57cd1"
      },
      "execution_count": 5,
      "outputs": [
        {
          "output_type": "stream",
          "name": "stdout",
          "text": [
            "Looking in indexes: https://pypi.org/simple, https://us-python.pkg.dev/colab-wheels/public/simple/\n",
            "Collecting pypdf2\n",
            "  Downloading PyPDF2-2.11.1-py3-none-any.whl (220 kB)\n",
            "\u001b[K     |████████████████████████████████| 220 kB 7.4 MB/s \n",
            "\u001b[?25hRequirement already satisfied: typing-extensions>=3.10.0.0 in /usr/local/lib/python3.7/dist-packages (from pypdf2) (4.1.1)\n",
            "Installing collected packages: pypdf2\n",
            "Successfully installed pypdf2-2.11.1\n"
          ]
        }
      ]
    },
    {
      "cell_type": "code",
      "source": [
        "import textract\n",
        "import os\n",
        "import PyPDF2 as pd2"
      ],
      "metadata": {
        "id": "tAfInI-nCMWj"
      },
      "execution_count": 6,
      "outputs": []
    },
    {
      "cell_type": "code",
      "source": [
        "from google.colab import drive\n",
        "drive.mount('/content/gdrive')"
      ],
      "metadata": {
        "colab": {
          "base_uri": "https://localhost:8080/"
        },
        "id": "DaZukDxZCPk9",
        "outputId": "6ccb2265-006a-4b85-bdda-ec374edb467b"
      },
      "execution_count": 2,
      "outputs": [
        {
          "output_type": "stream",
          "name": "stdout",
          "text": [
            "Mounted at /content/gdrive\n"
          ]
        }
      ]
    },
    {
      "cell_type": "code",
      "source": [
        "#Scan this path!'\n",
        "base_path = '/content/gdrive/MyDrive/NLP Fellowship/huzalab_doc/week2/'\n",
        "doc_dir = os.listdir(base_path)\n",
        "doc_dir"
      ],
      "metadata": {
        "colab": {
          "base_uri": "https://localhost:8080/"
        },
        "id": "sWtEm-M7PZs8",
        "outputId": "340717e5-dcb1-4f2c-e7d8-12775cf74be5"
      },
      "execution_count": 12,
      "outputs": [
        {
          "output_type": "execute_result",
          "data": {
            "text/plain": [
              "['Hansard Report - Thursday, 13th October 2022 (P).pdf',\n",
              " 'Hansard Report - Wednesday, 12th October 2022 (P)_0.pdf',\n",
              " 'Hansard Report - Wednesday, 12th October 2022 (A).pdf',\n",
              " 'Hansard Report - Tuesday, 11th October 2022 (P).pdf',\n",
              " 'Hansard Report - Thursday 6th October 2022 (P).pdf',\n",
              " 'Eng_Kin-Paralleldata (1).csv',\n",
              " 'Tokenization.ipynb',\n",
              " 'Cleaning.ipynb',\n",
              " 'Copy_of_Word_and_PDF_Day3.ipynb']"
            ]
          },
          "metadata": {},
          "execution_count": 12
        }
      ]
    },
    {
      "cell_type": "code",
      "source": [
        "file = pd2.PdfFileReader(base_path+\"Hansard Report - Wednesday, 12th October 2022 (A).pdf\")"
      ],
      "metadata": {
        "id": "cZ_QVAmvRO-9"
      },
      "execution_count": 13,
      "outputs": []
    },
    {
      "cell_type": "code",
      "source": [
        "file.getNumPages()"
      ],
      "metadata": {
        "colab": {
          "base_uri": "https://localhost:8080/"
        },
        "id": "ZizVUny3Rbi0",
        "outputId": "22d46741-f79f-4625-fbf3-29537537f410"
      },
      "execution_count": 15,
      "outputs": [
        {
          "output_type": "execute_result",
          "data": {
            "text/plain": [
              "34"
            ]
          },
          "metadata": {},
          "execution_count": 15
        }
      ]
    },
    {
      "cell_type": "code",
      "source": [
        "file.getPage(0)"
      ],
      "metadata": {
        "id": "eqNVpWrLRm5Y"
      },
      "execution_count": null,
      "outputs": []
    },
    {
      "cell_type": "code",
      "source": [
        "def drop_pages(path):\n",
        "  file_original = pd2.PdfFileReader(path) \n",
        "  last_page =  file_original.getNumPages()-1\n",
        "  file_new = pd2.PdfFileWriter()\n",
        "\n",
        "  for page_number in range(1, last_page):\n",
        "    page_content = file_original.getPage(page_number)\n",
        "    file_new.add_page(page_content)\n",
        "  return file_new\n",
        "  \n",
        "\n"
      ],
      "metadata": {
        "id": "pGDGhb_QRxyd"
      },
      "execution_count": 20,
      "outputs": []
    },
    {
      "cell_type": "code",
      "source": [
        "test = drop_pages(base_path+\"Hansard Report - Wednesday, 12th October 2022 (A).pdf\")"
      ],
      "metadata": {
        "id": "IW1BjZQVUnFh"
      },
      "execution_count": 21,
      "outputs": []
    },
    {
      "cell_type": "code",
      "source": [
        "test.getNumPages()"
      ],
      "metadata": {
        "colab": {
          "base_uri": "https://localhost:8080/"
        },
        "id": "zRVQp9b_U6JJ",
        "outputId": "ddfec364-868a-40c4-f3c1-86f801078d15"
      },
      "execution_count": 22,
      "outputs": [
        {
          "output_type": "execute_result",
          "data": {
            "text/plain": [
              "32"
            ]
          },
          "metadata": {},
          "execution_count": 22
        }
      ]
    },
    {
      "cell_type": "code",
      "source": [
        "outputfilename = \"/content/temp/\" +\"test1.pdf\"\n",
        "with open(outputfilename, 'wb') as output:\n",
        "  test.write(output)"
      ],
      "metadata": {
        "id": "dm7Dq43HU-y_"
      },
      "execution_count": 24,
      "outputs": []
    },
    {
      "cell_type": "markdown",
      "source": [
        "=======  ===Above we removed first page and last page in one file then we are going to do it in the many file\n"
      ],
      "metadata": {
        "id": "MXfBTyltWAD2"
      }
    },
    {
      "cell_type": "code",
      "source": [
        "def file_save_pdf(name, file):\n",
        "  outputfilename = \"/content/temp/\" + name\n",
        "  with open(outputfilename, 'wb') as output:\n",
        "    file.write(output)"
      ],
      "metadata": {
        "id": "2pTREii_WSQ9"
      },
      "execution_count": 28,
      "outputs": []
    },
    {
      "cell_type": "code",
      "source": [
        "for element in doc_dir:\n",
        "  if element.endswith('.pdf'):\n",
        "    file_new = drop_pages(base_path+element)\n",
        "    file_save_pdf(element, file_new)"
      ],
      "metadata": {
        "id": "ntMXKkjqXMvs"
      },
      "execution_count": 30,
      "outputs": []
    }
  ]
}