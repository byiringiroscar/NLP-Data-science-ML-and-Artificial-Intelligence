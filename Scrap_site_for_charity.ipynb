{
  "nbformat": 4,
  "nbformat_minor": 0,
  "metadata": {
    "colab": {
      "provenance": [],
      "authorship_tag": "ABX9TyNINytvxZMwCrc2n6Zs5pZR",
      "include_colab_link": true
    },
    "kernelspec": {
      "name": "python3",
      "display_name": "Python 3"
    },
    "language_info": {
      "name": "python"
    }
  },
  "cells": [
    {
      "cell_type": "markdown",
      "metadata": {
        "id": "view-in-github",
        "colab_type": "text"
      },
      "source": [
        "<a href=\"https://colab.research.google.com/github/byiringiroscar/NLP_FELLOWSHIP/blob/main/Scrap_site_for_charity.ipynb\" target=\"_parent\"><img src=\"https://colab.research.google.com/assets/colab-badge.svg\" alt=\"Open In Colab\"/></a>"
      ]
    },
    {
      "cell_type": "code",
      "execution_count": 4,
      "metadata": {
        "id": "LcqDd6l0Phdn"
      },
      "outputs": [],
      "source": [
        "import requests\n",
        "from bs4 import BeautifulSoup\n",
        "import pandas as pd\n",
        "import re"
      ]
    },
    {
      "cell_type": "code",
      "source": [
        "df = pd.read_csv('/content/charity.csv', error_bad_lines=False)\n",
        "df.head(2)"
      ],
      "metadata": {
        "colab": {
          "base_uri": "https://localhost:8080/",
          "height": 384
        },
        "id": "jKWCRX9FP7Eq",
        "outputId": "f2b058b4-846d-495d-d9a5-e416dc2eb041"
      },
      "execution_count": 14,
      "outputs": [
        {
          "output_type": "stream",
          "name": "stderr",
          "text": [
            "<ipython-input-14-79e60b0af336>:1: FutureWarning: The error_bad_lines argument has been deprecated and will be removed in a future version. Use on_bad_lines in the future.\n",
            "\n",
            "\n",
            "  df = pd.read_csv('/content/charity.csv', error_bad_lines=False)\n",
            "Skipping line 10756: expected 17 fields, saw 18\n",
            "\n",
            "<ipython-input-14-79e60b0af336>:1: DtypeWarning: Columns (2,3) have mixed types. Specify dtype option on import or set low_memory=False.\n",
            "  df = pd.read_csv('/content/charity.csv', error_bad_lines=False)\n"
          ]
        },
        {
          "output_type": "execute_result",
          "data": {
            "text/plain": [
              "               id                         name charityNumber companyNumber  \\\n",
              "0  GB-CHC-1000000  THE ROYAL ANNIVERSARY TRUST       1000000           NaN   \n",
              "1  GB-CHC-1000001          THE ARTS FOUNDATION       1000001           NaN   \n",
              "\n",
              "  postalCode                               url  latestIncome latestIncomeDate  \\\n",
              "0   SW1P 3BT  www.royalanniversarytrust.org.uk      154155.0       2022-04-05   \n",
              "1     L1 3BX          www.artsfoundation.co.uk       47963.0       2022-12-31   \n",
              "\n",
              "  dateRegistered  dateRemoved  active                      dateModified  \\\n",
              "0     1990-08-03          NaN    True  2023-08-08 02:01:05.390831+00:00   \n",
              "1     1990-08-02          NaN    True  2023-08-08 02:01:05.390831+00:00   \n",
              "\n",
              "               orgIDs         linked_orgs  \\\n",
              "0  ['GB-CHC-1000000']  ['GB-CHC-1000000']   \n",
              "1  ['GB-CHC-1000001']  ['GB-CHC-1000001']   \n",
              "\n",
              "                                    organisationType organisationTypePrimary  \\\n",
              "0  ['registered-charity', 'registered-charity-eng...      Registered Charity   \n",
              "1  ['registered-charity', 'registered-charity-eng...      Registered Charity   \n",
              "\n",
              "  source  \n",
              "0   ccew  \n",
              "1   ccew  "
            ],
            "text/html": [
              "\n",
              "\n",
              "  <div id=\"df-e4f43d7b-81f1-466d-8d8c-1abbcfae5845\">\n",
              "    <div class=\"colab-df-container\">\n",
              "      <div>\n",
              "<style scoped>\n",
              "    .dataframe tbody tr th:only-of-type {\n",
              "        vertical-align: middle;\n",
              "    }\n",
              "\n",
              "    .dataframe tbody tr th {\n",
              "        vertical-align: top;\n",
              "    }\n",
              "\n",
              "    .dataframe thead th {\n",
              "        text-align: right;\n",
              "    }\n",
              "</style>\n",
              "<table border=\"1\" class=\"dataframe\">\n",
              "  <thead>\n",
              "    <tr style=\"text-align: right;\">\n",
              "      <th></th>\n",
              "      <th>id</th>\n",
              "      <th>name</th>\n",
              "      <th>charityNumber</th>\n",
              "      <th>companyNumber</th>\n",
              "      <th>postalCode</th>\n",
              "      <th>url</th>\n",
              "      <th>latestIncome</th>\n",
              "      <th>latestIncomeDate</th>\n",
              "      <th>dateRegistered</th>\n",
              "      <th>dateRemoved</th>\n",
              "      <th>active</th>\n",
              "      <th>dateModified</th>\n",
              "      <th>orgIDs</th>\n",
              "      <th>linked_orgs</th>\n",
              "      <th>organisationType</th>\n",
              "      <th>organisationTypePrimary</th>\n",
              "      <th>source</th>\n",
              "    </tr>\n",
              "  </thead>\n",
              "  <tbody>\n",
              "    <tr>\n",
              "      <th>0</th>\n",
              "      <td>GB-CHC-1000000</td>\n",
              "      <td>THE ROYAL ANNIVERSARY TRUST</td>\n",
              "      <td>1000000</td>\n",
              "      <td>NaN</td>\n",
              "      <td>SW1P 3BT</td>\n",
              "      <td>www.royalanniversarytrust.org.uk</td>\n",
              "      <td>154155.0</td>\n",
              "      <td>2022-04-05</td>\n",
              "      <td>1990-08-03</td>\n",
              "      <td>NaN</td>\n",
              "      <td>True</td>\n",
              "      <td>2023-08-08 02:01:05.390831+00:00</td>\n",
              "      <td>['GB-CHC-1000000']</td>\n",
              "      <td>['GB-CHC-1000000']</td>\n",
              "      <td>['registered-charity', 'registered-charity-eng...</td>\n",
              "      <td>Registered Charity</td>\n",
              "      <td>ccew</td>\n",
              "    </tr>\n",
              "    <tr>\n",
              "      <th>1</th>\n",
              "      <td>GB-CHC-1000001</td>\n",
              "      <td>THE ARTS FOUNDATION</td>\n",
              "      <td>1000001</td>\n",
              "      <td>NaN</td>\n",
              "      <td>L1 3BX</td>\n",
              "      <td>www.artsfoundation.co.uk</td>\n",
              "      <td>47963.0</td>\n",
              "      <td>2022-12-31</td>\n",
              "      <td>1990-08-02</td>\n",
              "      <td>NaN</td>\n",
              "      <td>True</td>\n",
              "      <td>2023-08-08 02:01:05.390831+00:00</td>\n",
              "      <td>['GB-CHC-1000001']</td>\n",
              "      <td>['GB-CHC-1000001']</td>\n",
              "      <td>['registered-charity', 'registered-charity-eng...</td>\n",
              "      <td>Registered Charity</td>\n",
              "      <td>ccew</td>\n",
              "    </tr>\n",
              "  </tbody>\n",
              "</table>\n",
              "</div>\n",
              "      <button class=\"colab-df-convert\" onclick=\"convertToInteractive('df-e4f43d7b-81f1-466d-8d8c-1abbcfae5845')\"\n",
              "              title=\"Convert this dataframe to an interactive table.\"\n",
              "              style=\"display:none;\">\n",
              "\n",
              "  <svg xmlns=\"http://www.w3.org/2000/svg\" height=\"24px\"viewBox=\"0 0 24 24\"\n",
              "       width=\"24px\">\n",
              "    <path d=\"M0 0h24v24H0V0z\" fill=\"none\"/>\n",
              "    <path d=\"M18.56 5.44l.94 2.06.94-2.06 2.06-.94-2.06-.94-.94-2.06-.94 2.06-2.06.94zm-11 1L8.5 8.5l.94-2.06 2.06-.94-2.06-.94L8.5 2.5l-.94 2.06-2.06.94zm10 10l.94 2.06.94-2.06 2.06-.94-2.06-.94-.94-2.06-.94 2.06-2.06.94z\"/><path d=\"M17.41 7.96l-1.37-1.37c-.4-.4-.92-.59-1.43-.59-.52 0-1.04.2-1.43.59L10.3 9.45l-7.72 7.72c-.78.78-.78 2.05 0 2.83L4 21.41c.39.39.9.59 1.41.59.51 0 1.02-.2 1.41-.59l7.78-7.78 2.81-2.81c.8-.78.8-2.07 0-2.86zM5.41 20L4 18.59l7.72-7.72 1.47 1.35L5.41 20z\"/>\n",
              "  </svg>\n",
              "      </button>\n",
              "\n",
              "\n",
              "\n",
              "    <div id=\"df-61aa63cd-617f-4a03-8d04-d154dc47c67f\">\n",
              "      <button class=\"colab-df-quickchart\" onclick=\"quickchart('df-61aa63cd-617f-4a03-8d04-d154dc47c67f')\"\n",
              "              title=\"Suggest charts.\"\n",
              "              style=\"display:none;\">\n",
              "\n",
              "<svg xmlns=\"http://www.w3.org/2000/svg\" height=\"24px\"viewBox=\"0 0 24 24\"\n",
              "     width=\"24px\">\n",
              "    <g>\n",
              "        <path d=\"M19 3H5c-1.1 0-2 .9-2 2v14c0 1.1.9 2 2 2h14c1.1 0 2-.9 2-2V5c0-1.1-.9-2-2-2zM9 17H7v-7h2v7zm4 0h-2V7h2v10zm4 0h-2v-4h2v4z\"/>\n",
              "    </g>\n",
              "</svg>\n",
              "      </button>\n",
              "    </div>\n",
              "\n",
              "<style>\n",
              "  .colab-df-quickchart {\n",
              "    background-color: #E8F0FE;\n",
              "    border: none;\n",
              "    border-radius: 50%;\n",
              "    cursor: pointer;\n",
              "    display: none;\n",
              "    fill: #1967D2;\n",
              "    height: 32px;\n",
              "    padding: 0 0 0 0;\n",
              "    width: 32px;\n",
              "  }\n",
              "\n",
              "  .colab-df-quickchart:hover {\n",
              "    background-color: #E2EBFA;\n",
              "    box-shadow: 0px 1px 2px rgba(60, 64, 67, 0.3), 0px 1px 3px 1px rgba(60, 64, 67, 0.15);\n",
              "    fill: #174EA6;\n",
              "  }\n",
              "\n",
              "  [theme=dark] .colab-df-quickchart {\n",
              "    background-color: #3B4455;\n",
              "    fill: #D2E3FC;\n",
              "  }\n",
              "\n",
              "  [theme=dark] .colab-df-quickchart:hover {\n",
              "    background-color: #434B5C;\n",
              "    box-shadow: 0px 1px 3px 1px rgba(0, 0, 0, 0.15);\n",
              "    filter: drop-shadow(0px 1px 2px rgba(0, 0, 0, 0.3));\n",
              "    fill: #FFFFFF;\n",
              "  }\n",
              "</style>\n",
              "\n",
              "    <script>\n",
              "      async function quickchart(key) {\n",
              "        const containerElement = document.querySelector('#' + key);\n",
              "        const charts = await google.colab.kernel.invokeFunction(\n",
              "            'suggestCharts', [key], {});\n",
              "      }\n",
              "    </script>\n",
              "\n",
              "      <script>\n",
              "\n",
              "function displayQuickchartButton(domScope) {\n",
              "  let quickchartButtonEl =\n",
              "    domScope.querySelector('#df-61aa63cd-617f-4a03-8d04-d154dc47c67f button.colab-df-quickchart');\n",
              "  quickchartButtonEl.style.display =\n",
              "    google.colab.kernel.accessAllowed ? 'block' : 'none';\n",
              "}\n",
              "\n",
              "        displayQuickchartButton(document);\n",
              "      </script>\n",
              "      <style>\n",
              "    .colab-df-container {\n",
              "      display:flex;\n",
              "      flex-wrap:wrap;\n",
              "      gap: 12px;\n",
              "    }\n",
              "\n",
              "    .colab-df-convert {\n",
              "      background-color: #E8F0FE;\n",
              "      border: none;\n",
              "      border-radius: 50%;\n",
              "      cursor: pointer;\n",
              "      display: none;\n",
              "      fill: #1967D2;\n",
              "      height: 32px;\n",
              "      padding: 0 0 0 0;\n",
              "      width: 32px;\n",
              "    }\n",
              "\n",
              "    .colab-df-convert:hover {\n",
              "      background-color: #E2EBFA;\n",
              "      box-shadow: 0px 1px 2px rgba(60, 64, 67, 0.3), 0px 1px 3px 1px rgba(60, 64, 67, 0.15);\n",
              "      fill: #174EA6;\n",
              "    }\n",
              "\n",
              "    [theme=dark] .colab-df-convert {\n",
              "      background-color: #3B4455;\n",
              "      fill: #D2E3FC;\n",
              "    }\n",
              "\n",
              "    [theme=dark] .colab-df-convert:hover {\n",
              "      background-color: #434B5C;\n",
              "      box-shadow: 0px 1px 3px 1px rgba(0, 0, 0, 0.15);\n",
              "      filter: drop-shadow(0px 1px 2px rgba(0, 0, 0, 0.3));\n",
              "      fill: #FFFFFF;\n",
              "    }\n",
              "  </style>\n",
              "\n",
              "      <script>\n",
              "        const buttonEl =\n",
              "          document.querySelector('#df-e4f43d7b-81f1-466d-8d8c-1abbcfae5845 button.colab-df-convert');\n",
              "        buttonEl.style.display =\n",
              "          google.colab.kernel.accessAllowed ? 'block' : 'none';\n",
              "\n",
              "        async function convertToInteractive(key) {\n",
              "          const element = document.querySelector('#df-e4f43d7b-81f1-466d-8d8c-1abbcfae5845');\n",
              "          const dataTable =\n",
              "            await google.colab.kernel.invokeFunction('convertToInteractive',\n",
              "                                                     [key], {});\n",
              "          if (!dataTable) return;\n",
              "\n",
              "          const docLinkHtml = 'Like what you see? Visit the ' +\n",
              "            '<a target=\"_blank\" href=https://colab.research.google.com/notebooks/data_table.ipynb>data table notebook</a>'\n",
              "            + ' to learn more about interactive tables.';\n",
              "          element.innerHTML = '';\n",
              "          dataTable['output_type'] = 'display_data';\n",
              "          await google.colab.output.renderOutput(dataTable, element);\n",
              "          const docLink = document.createElement('div');\n",
              "          docLink.innerHTML = docLinkHtml;\n",
              "          element.appendChild(docLink);\n",
              "        }\n",
              "      </script>\n",
              "    </div>\n",
              "  </div>\n"
            ]
          },
          "metadata": {},
          "execution_count": 14
        }
      ]
    },
    {
      "cell_type": "code",
      "source": [
        "id=\"GB-CHC-1000000\"\n",
        "url_links = f\"https://findthatcharity.uk/orgid/{id}\"\n",
        "content = requests.get(url_links).content"
      ],
      "metadata": {
        "id": "RSsn7y-YSuIr"
      },
      "execution_count": 42,
      "outputs": []
    },
    {
      "cell_type": "code",
      "source": [
        "#Initiating the BS4 parser\n",
        "page = BeautifulSoup(content, 'html.parser')"
      ],
      "metadata": {
        "id": "Gsb3ASbTV4-K"
      },
      "execution_count": 43,
      "outputs": []
    },
    {
      "cell_type": "markdown",
      "source": [
        "clean data\n"
      ],
      "metadata": {
        "id": "UBr5eFGLbeWO"
      }
    },
    {
      "cell_type": "code",
      "source": [
        "# data cleaning in dataframe\n",
        "import re\n",
        "\n",
        "def preprocessing(title):\n",
        "  title = title.lower()\n",
        "  url_pattern = re.compile(r'https?://\\S+|www\\.\\S+')\n",
        "  html_pattern = re.compile('<.*?>')\n",
        "  title = url_pattern.sub(r'', title)\n",
        "  title = html_pattern.sub(r'', title)\n",
        "  title = re.sub(r\"[^\\w\\d'\\s]+\", ' ', title)\n",
        "  title = title.lstrip()\n",
        "  return title"
      ],
      "metadata": {
        "id": "QY1NMfYsbhQz"
      },
      "execution_count": 44,
      "outputs": []
    },
    {
      "cell_type": "code",
      "source": [
        "theme_data = page.find('div', 'org-panel-contents w-100 w-70-l fl')\n",
        "theme_data.get_text()"
      ],
      "metadata": {
        "colab": {
          "base_uri": "https://localhost:8080/",
          "height": 105
        },
        "id": "qrIzOIRjgBd2",
        "outputId": "42098c52-0a5a-4fb5-b8ca-47435cd9f1b1"
      },
      "execution_count": 51,
      "outputs": [
        {
          "output_type": "execute_result",
          "data": {
            "text/plain": [
              "'\\n\\n\\n\\n\\nDepending on the data source, location may describe the headquarters of the organisation rather than the area it operates in.\\n\\nAreas of operation in the UK\\n\\n\\n\\n                        England\\n                    \\n\\n\\n\\n                        Northern Ireland\\n                    \\n\\n\\n\\n                        Scotland\\n                    \\n\\n\\n\\n                        Wales\\n                    \\n\\n\\n\\n\\nRegistered Office in the UK\\n\\n\\n\\n                        Westminster\\n                    \\n\\n\\n\\n\\n'"
            ],
            "application/vnd.google.colaboratory.intrinsic+json": {
              "type": "string"
            }
          },
          "metadata": {},
          "execution_count": 51
        }
      ]
    },
    {
      "cell_type": "code",
      "source": [],
      "metadata": {
        "colab": {
          "base_uri": "https://localhost:8080/"
        },
        "id": "5EnSMxNghHQ-",
        "outputId": "c9f2f7f1-b6b0-4de8-db6a-e4c3cb9d3474"
      },
      "execution_count": 52,
      "outputs": [
        {
          "output_type": "stream",
          "name": "stdout",
          "text": [
            "\n",
            "Depending on the data source, location may describe the headquarters of the organisation rather than the area it operates in.\n",
            "\n",
            "\n",
            "Areas of operation in the UK\n",
            "\n",
            "\n",
            "\n",
            "England\n",
            "\n",
            "\n",
            "\n",
            "\n",
            "Northern Ireland\n",
            "\n",
            "\n",
            "\n",
            "\n",
            "Scotland\n",
            "\n",
            "\n",
            "\n",
            "\n",
            "Wales\n",
            "\n",
            "\n",
            "\n",
            "\n",
            "\n",
            "\n",
            "Registered Office in the UK\n",
            "\n",
            "\n",
            "\n",
            "Westminster\n",
            "\n",
            "\n",
            "\n",
            "\n",
            "\n"
          ]
        }
      ]
    },
    {
      "cell_type": "code",
      "source": [
        "json_url = \"https://findthatcharity.uk/orgid/GB-CHC-1000007.json\"\n",
        "response = requests.get(json_url)\n",
        "response_data = response.json()\n",
        "response_data"
      ],
      "metadata": {
        "colab": {
          "base_uri": "https://localhost:8080/"
        },
        "id": "8xLwACfRV7sD",
        "outputId": "13dd272f-3fc6-4d96-e0cd-30e6ce89bea8"
      },
      "execution_count": 49,
      "outputs": [
        {
          "output_type": "execute_result",
          "data": {
            "text/plain": [
              "{'id': 'GB-CHC-1000007',\n",
              " 'name': \"FRIENDS OF BE'ER MIRIAM\",\n",
              " 'charityNumber': '1000007',\n",
              " 'companyNumber': None,\n",
              " 'description': 'Grants to educational institutions',\n",
              " 'url': None,\n",
              " 'latestFinancialYearEnd': '2021-12-31',\n",
              " 'latestIncome': 145562,\n",
              " 'latestSpending': 146320,\n",
              " 'latestEmployees': None,\n",
              " 'latestVolunteers': 0,\n",
              " 'trusteeCount': 3,\n",
              " 'dateRegistered': '1990-08-01',\n",
              " 'dateRemoved': None,\n",
              " 'active': True,\n",
              " 'parent': None,\n",
              " 'organisationType': ['Registered Charity',\n",
              "  'Registered Charity (England and Wales)'],\n",
              " 'organisationTypePrimary': 'Registered Charity',\n",
              " 'alternateName': [],\n",
              " 'telephone': '02088029842',\n",
              " 'email': None,\n",
              " 'location': [{'id': 'IL', 'name': 'Israel', 'geoCode': 'IL', 'type': 'AOO'},\n",
              "  {'id': 'N15 6BE', 'name': 'N15 6BE', 'geoCode': 'E09000014', 'type': 'HQ'}],\n",
              " 'address': {'streetAddress': '116 CASTLEWOOD ROAD, LONDON',\n",
              "  'postalCode': 'N15 6BE'},\n",
              " 'sources': ['ccew'],\n",
              " 'links': [{'site': 'Find that Charity',\n",
              "   'url': 'https://findthatcharity.uk/orgid/GB-CHC-1000007.json',\n",
              "   'orgid': 'GB-CHC-1000007'},\n",
              "  {'site': 'Charity Commission England and Wales',\n",
              "   'url': 'https://register-of-charities.charitycommission.gov.uk/charity-details/?regId=1000007&subId=0',\n",
              "   'orgid': 'GB-CHC-1000007'},\n",
              "  {'site': 'CharityBase',\n",
              "   'url': 'https://charitybase.uk/charities/1000007',\n",
              "   'orgid': 'GB-CHC-1000007'},\n",
              "  {'site': 'Giving is Great',\n",
              "   'url': 'https://givingisgreat.org/charitydetail/?regNo=1000007',\n",
              "   'orgid': 'GB-CHC-1000007'},\n",
              "  {'site': 'Charities Direct',\n",
              "   'url': 'http://www.charitychoice.co.uk/charities/search?t=qsearch&q=1000007',\n",
              "   'orgid': 'GB-CHC-1000007'}],\n",
              " 'orgIDs': ['GB-CHC-1000007'],\n",
              " 'linked_records': [{'orgid': 'GB-CHC-1000007',\n",
              "   'url': 'https://findthatcharity.uk/orgid/GB-CHC-1000007.json'}],\n",
              " 'dateModified': '2023-08-08T02:01:05.390Z'}"
            ]
          },
          "metadata": {},
          "execution_count": 49
        }
      ]
    },
    {
      "cell_type": "code",
      "source": [],
      "metadata": {
        "id": "-lpgD8v3fa1l"
      },
      "execution_count": null,
      "outputs": []
    }
  ]
}