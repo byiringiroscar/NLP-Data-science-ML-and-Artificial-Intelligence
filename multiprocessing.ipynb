{
  "nbformat": 4,
  "nbformat_minor": 0,
  "metadata": {
    "colab": {
      "provenance": [],
      "authorship_tag": "ABX9TyNFW+0u+bx/P2BkKewpQYU5",
      "include_colab_link": true
    },
    "kernelspec": {
      "name": "python3",
      "display_name": "Python 3"
    },
    "language_info": {
      "name": "python"
    }
  },
  "cells": [
    {
      "cell_type": "markdown",
      "metadata": {
        "id": "view-in-github",
        "colab_type": "text"
      },
      "source": [
        "<a href=\"https://colab.research.google.com/github/byiringiroscar/NLP_FELLOWSHIP/blob/main/multiprocessing.ipynb\" target=\"_parent\"><img src=\"https://colab.research.google.com/assets/colab-badge.svg\" alt=\"Open In Colab\"/></a>"
      ]
    },
    {
      "cell_type": "code",
      "execution_count": null,
      "metadata": {
        "colab": {
          "base_uri": "https://localhost:8080/"
        },
        "id": "XrlOcaDI7B9J",
        "outputId": "027ce235-7b1a-4cb5-f7a8-b728db97b10f"
      },
      "outputs": [
        {
          "output_type": "stream",
          "name": "stdout",
          "text": [
            "0.05183601379394531\n",
            "18.259422063827515\n"
          ]
        }
      ],
      "source": [
        "import multiprocessing as mp\n",
        "import time\n",
        "import math\n",
        "\n",
        "results_a = []\n",
        "results_b = []\n",
        "results_c = []\n",
        "def make_calculation_one(numbers):\n",
        "  for number in numbers:\n",
        "    results_a.append(math.sqrt(number ** 3))\n",
        "def make_calculation_two(numbers):\n",
        "  for number in numbers:\n",
        "    results_b.append(math.sqrt(number ** 4))\n",
        "def make_calculation_three(numbers):\n",
        "  for number in numbers:\n",
        "    results_c.append(math.sqrt(number ** 5))\n",
        "\n",
        "\n",
        "number_list = list(range(5000000))\n",
        "\n",
        "p1 = mp.Process(target=make_calculation_one, args=(number_list,))\n",
        "p2 = mp.Process(target=make_calculation_two, args=(number_list,))\n",
        "p3 = mp.Process(target=make_calculation_three, args=(number_list,))\n",
        "\n",
        "start = time.time()\n",
        "p1.start()\n",
        "p2.start()\n",
        "p3.start()\n",
        "end = time.time()\n",
        "\n",
        "print(end-start)\n",
        "\n",
        "\n",
        "\n",
        "start = time.time()\n",
        "make_calculation_one(number_list)\n",
        "make_calculation_two(number_list)\n",
        "make_calculation_three(number_list)\n",
        "end = time.time()\n",
        "print(end-start)"
      ]
    },
    {
      "cell_type": "code",
      "source": [
        "num_processes = 4\n",
        "all_links_category = list(range(0,21))\n",
        "chunks = [all_links_category[i:i + num_processes] for i in range(0, len(all_links_category), num_processes)]\n",
        "print(chunks)"
      ],
      "metadata": {
        "colab": {
          "base_uri": "https://localhost:8080/"
        },
        "id": "RhlYeEaph5lV",
        "outputId": "8c6f7e6a-7860-42ec-fb84-1b17b60c0a80"
      },
      "execution_count": null,
      "outputs": [
        {
          "output_type": "stream",
          "name": "stdout",
          "text": [
            "[[0, 1, 2, 3], [4, 5, 6, 7], [8, 9, 10, 11], [12, 13, 14, 15], [16, 17, 18, 19], [20]]\n"
          ]
        }
      ]
    },
    {
      "cell_type": "code",
      "source": [],
      "metadata": {
        "colab": {
          "base_uri": "https://localhost:8080/"
        },
        "id": "DvuU2Fx_hqJI",
        "outputId": "2a9cd35d-435b-4f38-ab99-190f5cd60a1b"
      },
      "execution_count": null,
      "outputs": [
        {
          "output_type": "stream",
          "name": "stderr",
          "text": [
            "Process Process-4:\n",
            "Traceback (most recent call last):\n",
            "  File \"/usr/lib/python3.10/multiprocessing/process.py\", line 314, in _bootstrap\n",
            "    self.run()\n",
            "  File \"/usr/lib/python3.10/multiprocessing/process.py\", line 108, in run\n",
            "    self._target(*self._args, **self._kwargs)\n",
            "TypeError: make_calculation_one() takes 1 positional argument but 1000000 were given\n",
            "Process Process-5:\n",
            "Traceback (most recent call last):\n",
            "  File \"/usr/lib/python3.10/multiprocessing/process.py\", line 314, in _bootstrap\n",
            "    self.run()\n",
            "  File \"/usr/lib/python3.10/multiprocessing/process.py\", line 108, in run\n",
            "    self._target(*self._args, **self._kwargs)\n",
            "TypeError: make_calculation_two() takes 1 positional argument but 1000000 were given\n",
            "Process Process-6:\n",
            "Traceback (most recent call last):\n",
            "  File \"/usr/lib/python3.10/multiprocessing/process.py\", line 314, in _bootstrap\n",
            "    self.run()\n",
            "  File \"/usr/lib/python3.10/multiprocessing/process.py\", line 108, in run\n",
            "    self._target(*self._args, **self._kwargs)\n",
            "TypeError: make_calculation_three() takes 1 positional argument but 1000000 were given\n"
          ]
        },
        {
          "output_type": "stream",
          "name": "stdout",
          "text": [
            "0.20302128791809082\n",
            "1.755225658416748\n"
          ]
        }
      ]
    },
    {
      "cell_type": "code",
      "source": [],
      "metadata": {
        "id": "-XQ-aDwAld04"
      },
      "execution_count": null,
      "outputs": []
    }
  ]
}