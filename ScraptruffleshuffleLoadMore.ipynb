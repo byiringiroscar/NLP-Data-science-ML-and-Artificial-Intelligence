{
  "cells": [
    {
      "cell_type": "markdown",
      "metadata": {
        "id": "view-in-github",
        "colab_type": "text"
      },
      "source": [
        "<a href=\"https://colab.research.google.com/github/byiringiroscar/NLP_FELLOWSHIP/blob/main/ScraptruffleshuffleLoadMore.ipynb\" target=\"_parent\"><img src=\"https://colab.research.google.com/assets/colab-badge.svg\" alt=\"Open In Colab\"/></a>"
      ]
    },
    {
      "cell_type": "code",
      "execution_count": 1,
      "metadata": {
        "colab": {
          "base_uri": "https://localhost:8080/"
        },
        "id": "Tw8IDBkRIhJD",
        "outputId": "bfc7ee04-c018-4a07-e2d9-6cf62b100c7c"
      },
      "outputs": [
        {
          "output_type": "stream",
          "name": "stdout",
          "text": [
            "Warning: apt-key is deprecated. Manage keyring files in trusted.gpg.d instead (see apt-key(8)).\n",
            "Executing: /tmp/apt-key-gpghome.P4R248M31M/gpg.1.sh --keyserver keyserver.ubuntu.com --recv-keys DCC9EFBF77E11517\n",
            "gpg: key DCC9EFBF77E11517: \"Debian Stable Release Key (10/buster) <debian-release@lists.debian.org>\" not changed\n",
            "gpg: Total number processed: 1\n",
            "gpg:              unchanged: 1\n",
            "Warning: apt-key is deprecated. Manage keyring files in trusted.gpg.d instead (see apt-key(8)).\n",
            "Executing: /tmp/apt-key-gpghome.ozWLNvLr3x/gpg.1.sh --keyserver keyserver.ubuntu.com --recv-keys 648ACFD622F3D138\n",
            "gpg: key DC30D7C23CBBABEE: \"Debian Archive Automatic Signing Key (10/buster) <ftpmaster@debian.org>\" not changed\n",
            "gpg: Total number processed: 1\n",
            "gpg:              unchanged: 1\n",
            "Warning: apt-key is deprecated. Manage keyring files in trusted.gpg.d instead (see apt-key(8)).\n",
            "Executing: /tmp/apt-key-gpghome.bEpCMtTZLW/gpg.1.sh --keyserver keyserver.ubuntu.com --recv-keys 112695A0E562B32A\n",
            "gpg: key 4DFAB270CAA96DFA: \"Debian Security Archive Automatic Signing Key (10/buster) <ftpmaster@debian.org>\" not changed\n",
            "gpg: Total number processed: 1\n",
            "gpg:              unchanged: 1\n",
            "gpg: cannot open '/dev/tty': No such device or address\n",
            "Warning: apt-key is deprecated. Manage keyring files in trusted.gpg.d instead (see apt-key(8)).\n",
            "gpg: [stdout]: write error: Broken pipe\n",
            "gpg: filter_flush failed on close: Broken pipe\n",
            "gpg: cannot open '/dev/tty': No such device or address\n",
            "Warning: apt-key is deprecated. Manage keyring files in trusted.gpg.d instead (see apt-key(8)).\n",
            "gpg: [stdout]: write error: Broken pipe\n",
            "gpg: filter_flush failed on close: Broken pipe\n",
            "gpg: cannot open '/dev/tty': No such device or address\n",
            "Warning: apt-key is deprecated. Manage keyring files in trusted.gpg.d instead (see apt-key(8)).\n",
            "gpg: [stdout]: write error: Broken pipe\n",
            "gpg: filter_flush failed on close: Broken pipe\n",
            "Hit:1 http://deb.debian.org/debian buster InRelease\n",
            "Hit:2 http://deb.debian.org/debian buster-updates InRelease\n",
            "Hit:3 http://deb.debian.org/debian-security buster/updates InRelease\n",
            "Hit:4 https://cloud.r-project.org/bin/linux/ubuntu jammy-cran40/ InRelease\n",
            "Hit:5 https://developer.download.nvidia.com/compute/cuda/repos/ubuntu2204/x86_64  InRelease\n",
            "Hit:6 http://archive.ubuntu.com/ubuntu jammy InRelease\n",
            "Hit:7 http://security.ubuntu.com/ubuntu jammy-security InRelease\n",
            "Hit:8 http://archive.ubuntu.com/ubuntu jammy-updates InRelease\n",
            "Hit:9 http://archive.ubuntu.com/ubuntu jammy-backports InRelease\n",
            "Hit:10 https://ppa.launchpadcontent.net/c2d4u.team/c2d4u4.0+/ubuntu jammy InRelease\n",
            "Hit:11 https://ppa.launchpadcontent.net/deadsnakes/ppa/ubuntu jammy InRelease\n",
            "Hit:12 https://ppa.launchpadcontent.net/graphics-drivers/ppa/ubuntu jammy InRelease\n",
            "Hit:13 https://ppa.launchpadcontent.net/ubuntugis/ppa/ubuntu jammy InRelease\n",
            "Reading package lists... Done\n",
            "Reading package lists... Done\n",
            "Building dependency tree... Done\n",
            "Reading state information... Done\n",
            "chromium is already the newest version (90.0.4430.212-1~deb10u1).\n",
            "chromium-driver is already the newest version (90.0.4430.212-1~deb10u1).\n",
            "0 upgraded, 0 newly installed, 0 to remove and 32 not upgraded.\n",
            "Requirement already satisfied: selenium in /usr/local/lib/python3.10/dist-packages (4.12.0)\n",
            "Requirement already satisfied: urllib3[socks]<3,>=1.26 in /usr/local/lib/python3.10/dist-packages (from selenium) (2.0.4)\n",
            "Requirement already satisfied: trio~=0.17 in /usr/local/lib/python3.10/dist-packages (from selenium) (0.22.2)\n",
            "Requirement already satisfied: trio-websocket~=0.9 in /usr/local/lib/python3.10/dist-packages (from selenium) (0.10.4)\n",
            "Requirement already satisfied: certifi>=2021.10.8 in /usr/local/lib/python3.10/dist-packages (from selenium) (2023.7.22)\n",
            "Requirement already satisfied: attrs>=20.1.0 in /usr/local/lib/python3.10/dist-packages (from trio~=0.17->selenium) (23.1.0)\n",
            "Requirement already satisfied: sortedcontainers in /usr/local/lib/python3.10/dist-packages (from trio~=0.17->selenium) (2.4.0)\n",
            "Requirement already satisfied: idna in /usr/local/lib/python3.10/dist-packages (from trio~=0.17->selenium) (3.4)\n",
            "Requirement already satisfied: outcome in /usr/local/lib/python3.10/dist-packages (from trio~=0.17->selenium) (1.2.0)\n",
            "Requirement already satisfied: sniffio in /usr/local/lib/python3.10/dist-packages (from trio~=0.17->selenium) (1.3.0)\n",
            "Requirement already satisfied: exceptiongroup>=1.0.0rc9 in /usr/local/lib/python3.10/dist-packages (from trio~=0.17->selenium) (1.1.3)\n",
            "Requirement already satisfied: wsproto>=0.14 in /usr/local/lib/python3.10/dist-packages (from trio-websocket~=0.9->selenium) (1.2.0)\n",
            "Requirement already satisfied: pysocks!=1.5.7,<2.0,>=1.5.6 in /usr/local/lib/python3.10/dist-packages (from urllib3[socks]<3,>=1.26->selenium) (1.7.1)\n",
            "Requirement already satisfied: h11<1,>=0.9.0 in /usr/local/lib/python3.10/dist-packages (from wsproto>=0.14->trio-websocket~=0.9->selenium) (0.14.0)\n"
          ]
        },
        {
          "output_type": "execute_result",
          "data": {
            "text/plain": []
          },
          "metadata": {},
          "execution_count": 1
        }
      ],
      "source": [
        "%%shell\n",
        "# Ubuntu no longer distributes chromium-browser outside of snap\n",
        "#\n",
        "# Proposed solution: https://askubuntu.com/questions/1204571/how-to-install-chromium-without-snap\n",
        "\n",
        "# Add debian buster\n",
        "cat > /etc/apt/sources.list.d/debian.list <<'EOF'\n",
        "deb [arch=amd64 signed-by=/usr/share/keyrings/debian-buster.gpg] http://deb.debian.org/debian buster main\n",
        "deb [arch=amd64 signed-by=/usr/share/keyrings/debian-buster-updates.gpg] http://deb.debian.org/debian buster-updates main\n",
        "deb [arch=amd64 signed-by=/usr/share/keyrings/debian-security-buster.gpg] http://deb.debian.org/debian-security buster/updates main\n",
        "EOF\n",
        "\n",
        "# Add keys\n",
        "apt-key adv --keyserver keyserver.ubuntu.com --recv-keys DCC9EFBF77E11517\n",
        "apt-key adv --keyserver keyserver.ubuntu.com --recv-keys 648ACFD622F3D138\n",
        "apt-key adv --keyserver keyserver.ubuntu.com --recv-keys 112695A0E562B32A\n",
        "\n",
        "apt-key export 77E11517 | gpg --dearmour -o /usr/share/keyrings/debian-buster.gpg\n",
        "apt-key export 22F3D138 | gpg --dearmour -o /usr/share/keyrings/debian-buster-updates.gpg\n",
        "apt-key export E562B32A | gpg --dearmour -o /usr/share/keyrings/debian-security-buster.gpg\n",
        "\n",
        "# Prefer debian repo for chromium* packages only\n",
        "# Note the double-blank lines between entries\n",
        "cat > /etc/apt/preferences.d/chromium.pref << 'EOF'\n",
        "Package: *\n",
        "Pin: release a=eoan\n",
        "Pin-Priority: 500\n",
        "\n",
        "\n",
        "Package: *\n",
        "Pin: origin \"deb.debian.org\"\n",
        "Pin-Priority: 300\n",
        "\n",
        "\n",
        "Package: chromium*\n",
        "Pin: origin \"deb.debian.org\"\n",
        "Pin-Priority: 700\n",
        "EOF\n",
        "\n",
        "# Install chromium and chromium-driver\n",
        "apt-get update\n",
        "apt-get install chromium chromium-driver\n",
        "\n",
        "# Install selenium\n",
        "pip install selenium"
      ]
    },
    {
      "cell_type": "code",
      "execution_count": 2,
      "metadata": {
        "id": "j2wqE8m2I5tt"
      },
      "outputs": [],
      "source": [
        "from selenium import webdriver\n",
        "from selenium.webdriver.chrome.service import Service\n",
        "from selenium.webdriver.chrome.options import Options\n",
        "from selenium.webdriver.support import expected_conditions as EC\n",
        "import json\n",
        "import time\n",
        "import os\n",
        "import requests\n",
        "from urllib.parse import urlparse, unquote\n",
        "from bs4 import BeautifulSoup\n",
        "from urllib.parse import urljoin\n",
        "from selenium.webdriver.common.by import By\n",
        "import pandas as pd\n",
        "import multiprocessing as mp\n",
        "from selenium.webdriver.support.ui import WebDriverWait\n",
        "import time\n",
        "\n",
        "chrome_options = Options()\n",
        "\n",
        "\n",
        "service = Service(executable_path=r'/usr/bin/chromedriver')\n",
        "chrome_options.add_argument('--disable-blink-features=AutomationControlled')\n",
        "chrome_options.add_argument('--headless')\n",
        "chrome_options.add_argument('--no-sandbox')\n",
        "chrome_options.add_argument('--disable-dev-shm-usage')\n",
        "\n",
        "\n",
        "driver = webdriver.Chrome(service=service, options=chrome_options)"
      ]
    },
    {
      "cell_type": "code",
      "execution_count": 3,
      "metadata": {
        "colab": {
          "base_uri": "https://localhost:8080/"
        },
        "id": "3EMpeWUwA3dB",
        "outputId": "0a33e506-0a77-4cca-c1f3-14b7d2a16a29"
      },
      "outputs": [
        {
          "output_type": "execute_result",
          "data": {
            "text/plain": [
              "37"
            ]
          },
          "metadata": {},
          "execution_count": 3
        }
      ],
      "source": [
        "url = \"https://www.truffleshuffle.co.uk/\"\n",
        "content = requests.get(url).content\n",
        "soup = BeautifulSoup(content, 'html.parser')\n",
        "navigation = soup.find('ul', class_='layoutInner')\n",
        "link_tag = navigation.find_all('a')\n",
        "all_category_link = []\n",
        "for link in link_tag:\n",
        "  base_link = \"https://www.truffleshuffle.co.uk\"\n",
        "  full_link = base_link + link['href']\n",
        "  all_category_link.append(full_link)\n",
        "len(all_category_link)"
      ]
    },
    {
      "cell_type": "code",
      "execution_count": 4,
      "metadata": {
        "id": "hc_KWVbgI07_"
      },
      "outputs": [],
      "source": [
        "import json\n",
        "def post_character(image, title_head,  final_description):\n",
        "  try:\n",
        "    description = title_head + \" \" + final_description\n",
        "    url = 'https://jormungandr.wizewerx.tech/eat'\n",
        "    headers = {\n",
        "        'Authorization': 'p7RF3TwoFtaQ9ymoFMS3ZdYfSdc7hEoYedXxZ1L5l7vSXf59ntjvZTymoF5rfpy8RSpD4IErZt2ykSv64Xbu86l7',\n",
        "        'Content-Type': 'application/json'\n",
        "    }\n",
        "\n",
        "    data = {\n",
        "        \"topic\": \"fuk\",\n",
        "        \"description\": description,\n",
        "        \"payload\": {},\n",
        "        \"files\": image\n",
        "    }\n",
        "    json_data = json.dumps(data)\n",
        "    response = requests.post(url, headers=headers, data=json_data)\n",
        "    if response.status_code == 200:\n",
        "        pass\n",
        "    else:\n",
        "        pass\n",
        "  except:\n",
        "    pass"
      ]
    },
    {
      "cell_type": "code",
      "execution_count": 5,
      "metadata": {
        "id": "FCc3JvZEMYHF"
      },
      "outputs": [],
      "source": [
        "from selenium.common.exceptions import NoSuchElementException, ElementClickInterceptedException, TimeoutException\n",
        "\n",
        "def scrape_truffleshuffle(url):\n",
        "    driver.get(url)\n",
        "\n",
        "    try:\n",
        "        # Check if the \"See More\" button exists\n",
        "        see_more_button = WebDriverWait(driver, 5).until(\n",
        "            EC.presence_of_element_located((By.ID, \"loadMore\"))\n",
        "        )\n",
        "\n",
        "        # Scroll to the \"See More\" button\n",
        "        driver.execute_script(\"arguments[0].scrollIntoView();\", see_more_button)\n",
        "\n",
        "        # Click the \"See More\" button until it is no longer visible\n",
        "        while see_more_button.is_displayed():\n",
        "            try:\n",
        "                see_more_button.click()\n",
        "                time.sleep(2)\n",
        "            except ElementClickInterceptedException:\n",
        "                # Handle click interception, e.g., scroll again or wait for an overlay to disappear\n",
        "                pass\n",
        "\n",
        "        # Find all product cards\n",
        "        card_product = driver.find_elements(By.CLASS_NAME, \"isotopeElement.isotopeElementDefault.productListingBox\")\n",
        "\n",
        "        # Extract the product URLs\n",
        "        product_urls = []\n",
        "        for element in card_product:\n",
        "            product_urls.append(element.get_attribute(\"href\"))\n",
        "\n",
        "        return product_urls\n",
        "    except (NoSuchElementException, TimeoutException):\n",
        "        # If the \"See More\" button doesn't exist or times out, collect product URLs on the current page\n",
        "        card_product = driver.find_elements(By.CLASS_NAME, \"isotopeElement.isotopeElementDefault.productListingBox\")\n",
        "\n",
        "        product_urls = []\n",
        "        for element in card_product:\n",
        "            product_urls.append(element.get_attribute(\"href\"))\n",
        "\n",
        "        return product_urls\n"
      ]
    },
    {
      "cell_type": "code",
      "execution_count": 6,
      "metadata": {
        "colab": {
          "base_uri": "https://localhost:8080/"
        },
        "id": "-ZwzoPQnjl08",
        "outputId": "8a8285e5-f5ae-4982-cdf7-fb9ae2bc4853"
      },
      "outputs": [
        {
          "output_type": "stream",
          "name": "stdout",
          "text": [
            "https://www.truffleshuffle.co.uk/new-in\n",
            "https://www.truffleshuffle.co.uk/best-sellers\n",
            "https://www.truffleshuffle.co.uk/movies\n",
            "https://www.truffleshuffle.co.uk/tv-shows\n",
            "https://www.truffleshuffle.co.uk/cartoons\n",
            "https://www.truffleshuffle.co.uk/music\n",
            "https://www.truffleshuffle.co.uk/gaming\n",
            "https://www.truffleshuffle.co.uk/fairytales-and-books\n",
            "https://www.truffleshuffle.co.uk/iconic-brands\n",
            "https://www.truffleshuffle.co.uk/games-toys\n",
            "https://www.truffleshuffle.co.uk/superheroes-and-villains\n",
            "https://www.truffleshuffle.co.uk/horror\n",
            "https://www.truffleshuffle.co.uk/icons\n",
            "https://www.truffleshuffle.co.uk/cartoons/anime\n",
            "https://www.truffleshuffle.co.uk/food-and-drink-brands\n",
            "https://www.truffleshuffle.co.uk/everything-else\n",
            "https://www.truffleshuffle.co.uk/t-shirts-and-clothing\n",
            "https://www.truffleshuffle.co.uk/homewares\n",
            "https://www.truffleshuffle.co.uk/accessories\n",
            "https://www.truffleshuffle.co.uk/gifts\n",
            "https://www.truffleshuffle.co.uk/nightwear-underwear\n",
            "https://www.truffleshuffle.co.uk/games-puzzles-toys\n",
            "https://www.truffleshuffle.co.uk/gifts/pet-accessories\n",
            "https://www.truffleshuffle.co.uk/women\n",
            "https://www.truffleshuffle.co.uk/mens\n",
            "https://www.truffleshuffle.co.uk/truffleshuffle\n",
            "https://www.truffleshuffle.co.uk/cartoons/disney\n",
            "https://www.truffleshuffle.co.uk/loungefly\n",
            "https://www.truffleshuffle.co.uk/cakeworthy\n",
            "https://www.truffleshuffle.co.uk/cartoons/care-bears\n",
            "https://www.truffleshuffle.co.uk/movies/labyrinth\n",
            "https://www.truffleshuffle.co.uk/tv-shows/fraggle-rock\n",
            "https://www.truffleshuffle.co.uk/cartoons/rainbow-brite\n",
            "https://www.truffleshuffle.co.uk/disney-100\n",
            "https://www.truffleshuffle.co.uk/sale\n",
            "https://www.truffleshuffle.co.uk/offers\n",
            "https://www.truffleshuffle.co.uk/halloween\n"
          ]
        }
      ],
      "source": [
        "for cat in all_category_link:\n",
        "  print(cat)"
      ]
    },
    {
      "cell_type": "code",
      "execution_count": 7,
      "metadata": {
        "id": "611VXEA6xyZh",
        "colab": {
          "base_uri": "https://localhost:8080/"
        },
        "outputId": "e3f779ca-027e-4675-9fa0-d2cd3fc0f7df"
      },
      "outputs": [
        {
          "output_type": "stream",
          "name": "stdout",
          "text": [
            "scrap index: 0 on this link: https://www.truffleshuffle.co.uk/new-in\n",
            "scrap index: 1 on this link: https://www.truffleshuffle.co.uk/best-sellers\n",
            "scrap index: 2 on this link: https://www.truffleshuffle.co.uk/movies\n",
            "scrap index: 3 on this link: https://www.truffleshuffle.co.uk/tv-shows\n",
            "scrap index: 4 on this link: https://www.truffleshuffle.co.uk/cartoons\n",
            "scrap index: 5 on this link: https://www.truffleshuffle.co.uk/music\n",
            "scrap index: 6 on this link: https://www.truffleshuffle.co.uk/gaming\n",
            "scrap index: 7 on this link: https://www.truffleshuffle.co.uk/fairytales-and-books\n",
            "scrap index: 8 on this link: https://www.truffleshuffle.co.uk/iconic-brands\n",
            "scrap index: 9 on this link: https://www.truffleshuffle.co.uk/games-toys\n",
            "scrap index: 10 on this link: https://www.truffleshuffle.co.uk/superheroes-and-villains\n",
            "scrap index: 11 on this link: https://www.truffleshuffle.co.uk/horror\n",
            "scrap index: 12 on this link: https://www.truffleshuffle.co.uk/icons\n",
            "scrap index: 13 on this link: https://www.truffleshuffle.co.uk/cartoons/anime\n",
            "scrap index: 14 on this link: https://www.truffleshuffle.co.uk/food-and-drink-brands\n",
            "scrap index: 15 on this link: https://www.truffleshuffle.co.uk/everything-else\n",
            "scrap index: 16 on this link: https://www.truffleshuffle.co.uk/t-shirts-and-clothing\n",
            "scrap index: 17 on this link: https://www.truffleshuffle.co.uk/homewares\n",
            "scrap index: 18 on this link: https://www.truffleshuffle.co.uk/accessories\n",
            "scrap index: 19 on this link: https://www.truffleshuffle.co.uk/gifts\n",
            "scrap index: 20 on this link: https://www.truffleshuffle.co.uk/nightwear-underwear\n",
            "scrap index: 21 on this link: https://www.truffleshuffle.co.uk/games-puzzles-toys\n",
            "scrap index: 22 on this link: https://www.truffleshuffle.co.uk/gifts/pet-accessories\n",
            "scrap index: 23 on this link: https://www.truffleshuffle.co.uk/women\n",
            "scrap index: 24 on this link: https://www.truffleshuffle.co.uk/mens\n",
            "scrap index: 25 on this link: https://www.truffleshuffle.co.uk/truffleshuffle\n",
            "scrap index: 26 on this link: https://www.truffleshuffle.co.uk/cartoons/disney\n",
            "scrap index: 27 on this link: https://www.truffleshuffle.co.uk/loungefly\n",
            "scrap index: 28 on this link: https://www.truffleshuffle.co.uk/cakeworthy\n",
            "scrap index: 29 on this link: https://www.truffleshuffle.co.uk/cartoons/care-bears\n",
            "scrap index: 30 on this link: https://www.truffleshuffle.co.uk/movies/labyrinth\n",
            "scrap index: 31 on this link: https://www.truffleshuffle.co.uk/tv-shows/fraggle-rock\n",
            "scrap index: 32 on this link: https://www.truffleshuffle.co.uk/cartoons/rainbow-brite\n",
            "scrap index: 33 on this link: https://www.truffleshuffle.co.uk/disney-100\n",
            "scrap index: 34 on this link: https://www.truffleshuffle.co.uk/sale\n",
            "scrap index: 35 on this link: https://www.truffleshuffle.co.uk/offers\n",
            "scrap index: 36 on this link: https://www.truffleshuffle.co.uk/halloween\n"
          ]
        }
      ],
      "source": [
        "final_all_links = []\n",
        "for index, link in enumerate(all_category_link):\n",
        "    print(f\"scrap index: {index} on this link: {link}\")\n",
        "    product_urls = scrape_truffleshuffle(link)\n",
        "    final_all_links += product_urls\n",
        "\n",
        "# Print the list of product URLs\n",
        "\n",
        "\n",
        "# Close the driver\n",
        "# driver.close()\n"
      ]
    },
    {
      "cell_type": "code",
      "source": [
        "len(final_all_links)"
      ],
      "metadata": {
        "id": "42mMkRgkgve4",
        "outputId": "c358a079-20c5-45bc-809d-f8a45658ce05",
        "colab": {
          "base_uri": "https://localhost:8080/"
        }
      },
      "execution_count": 8,
      "outputs": [
        {
          "output_type": "execute_result",
          "data": {
            "text/plain": [
              "10875"
            ]
          },
          "metadata": {},
          "execution_count": 8
        }
      ]
    },
    {
      "cell_type": "code",
      "source": [
        "# link = \"https://www.truffleshuffle.co.uk/gaming\"\n",
        "# product_urls = scrape_truffleshuffle(link)\n",
        "# for data in product_urls:\n",
        "#   print(data)"
      ],
      "metadata": {
        "id": "xkfQiescDpLq"
      },
      "execution_count": 9,
      "outputs": []
    },
    {
      "cell_type": "code",
      "execution_count": 10,
      "metadata": {
        "id": "Yf_ePyLV9LpU"
      },
      "outputs": [],
      "source": [
        "# len(product_urls)"
      ]
    },
    {
      "cell_type": "code",
      "source": [],
      "metadata": {
        "id": "gxT2_uvUJpO_"
      },
      "execution_count": 10,
      "outputs": []
    }
  ],
  "metadata": {
    "colab": {
      "provenance": [],
      "authorship_tag": "ABX9TyPRXjzXvDsBohbCEos19ZaU",
      "include_colab_link": true
    },
    "kernelspec": {
      "display_name": "Python 3",
      "name": "python3"
    },
    "language_info": {
      "name": "python"
    }
  },
  "nbformat": 4,
  "nbformat_minor": 0
}