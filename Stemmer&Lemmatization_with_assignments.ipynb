{
  "nbformat": 4,
  "nbformat_minor": 0,
  "metadata": {
    "colab": {
      "provenance": [],
      "include_colab_link": true
    },
    "kernelspec": {
      "name": "python3",
      "display_name": "Python 3"
    },
    "language_info": {
      "name": "python"
    }
  },
  "cells": [
    {
      "cell_type": "markdown",
      "metadata": {
        "id": "view-in-github",
        "colab_type": "text"
      },
      "source": [
        "<a href=\"https://colab.research.google.com/github/byiringiroscar/NLP_FELLOWSHIP/blob/main/Stemmer%26Lemmatization_with_assignments.ipynb\" target=\"_parent\"><img src=\"https://colab.research.google.com/assets/colab-badge.svg\" alt=\"Open In Colab\"/></a>"
      ]
    },
    {
      "cell_type": "markdown",
      "source": [
        "# Stemming\n",
        "*A stemming algorithm, a procedure to reduce all words with the same\n",
        "stem to a common form, is useful in many areas of computational linguistics and information-retrieval work.* ~ Lovin,1968\n",
        "\n",
        "Examples of Stemmers include:\n",
        "\n",
        "\n",
        "1.   PorterStemmer\n",
        "2.   SnowballStemmer\n",
        "3. LancasterStemmer\n",
        "4. RegexStemmer\n",
        "\n"
      ],
      "metadata": {
        "id": "in_28geDz1Gv"
      }
    },
    {
      "cell_type": "code",
      "source": [
        "import nltk\n",
        "nltk.download('wordnet')\n",
        "nltk.download('omw-1.4')\n",
        "nltk.download('punkt')\n",
        "nltk.download('averaged_perceptron_tagger')\n",
        "nltk.download('stopwords')"
      ],
      "metadata": {
        "id": "OYQ40jZx-Awx",
        "colab": {
          "base_uri": "https://localhost:8080/"
        },
        "outputId": "26e97e71-1fc8-49df-f3f7-64680baa41a6"
      },
      "execution_count": 33,
      "outputs": [
        {
          "output_type": "stream",
          "name": "stderr",
          "text": [
            "[nltk_data] Downloading package wordnet to /root/nltk_data...\n",
            "[nltk_data]   Package wordnet is already up-to-date!\n",
            "[nltk_data] Downloading package omw-1.4 to /root/nltk_data...\n",
            "[nltk_data]   Package omw-1.4 is already up-to-date!\n",
            "[nltk_data] Downloading package punkt to /root/nltk_data...\n",
            "[nltk_data]   Package punkt is already up-to-date!\n",
            "[nltk_data] Downloading package averaged_perceptron_tagger to\n",
            "[nltk_data]     /root/nltk_data...\n",
            "[nltk_data]   Package averaged_perceptron_tagger is already up-to-\n",
            "[nltk_data]       date!\n",
            "[nltk_data] Downloading package stopwords to /root/nltk_data...\n",
            "[nltk_data]   Package stopwords is already up-to-date!\n"
          ]
        },
        {
          "output_type": "execute_result",
          "data": {
            "text/plain": [
              "True"
            ]
          },
          "metadata": {},
          "execution_count": 33
        }
      ]
    },
    {
      "cell_type": "markdown",
      "source": [
        "== here down we are going to stem by using actuall text"
      ],
      "metadata": {
        "id": "jxV89Hm37Fhq"
      }
    },
    {
      "cell_type": "code",
      "source": [
        "from google.colab import drive\n",
        "drive.mount('/content/drive')"
      ],
      "metadata": {
        "colab": {
          "base_uri": "https://localhost:8080/"
        },
        "id": "x5TtpNnE8Uxi",
        "outputId": "5ccd322e-2e13-4b8a-b7f2-2bac81763bf4"
      },
      "execution_count": 34,
      "outputs": [
        {
          "output_type": "stream",
          "name": "stdout",
          "text": [
            "Drive already mounted at /content/drive; to attempt to forcibly remount, call drive.mount(\"/content/drive\", force_remount=True).\n"
          ]
        }
      ]
    },
    {
      "cell_type": "markdown",
      "source": [
        "# Here we are stemming by using text"
      ],
      "metadata": {
        "id": "LRSIxy4x_Djy"
      }
    },
    {
      "cell_type": "code",
      "source": [
        "from nltk.stem import PorterStemmer, SnowballStemmer,LancasterStemmer,RegexpStemmer,WordNetLemmatizer"
      ],
      "metadata": {
        "id": "CVWwi4R03flR"
      },
      "execution_count": 35,
      "outputs": []
    },
    {
      "cell_type": "code",
      "source": [
        "porter = PorterStemmer()\n",
        "sentense = \"Edureka is the best place to learn about the new trending technologies online\"\n",
        "porter.stem(sentense)"
      ],
      "metadata": {
        "colab": {
          "base_uri": "https://localhost:8080/",
          "height": 36
        },
        "id": "RzuU313s3yva",
        "outputId": "6fd67155-feb5-407c-ab54-05b26211235a"
      },
      "execution_count": 36,
      "outputs": [
        {
          "output_type": "execute_result",
          "data": {
            "text/plain": [
              "'edureka is the best place to learn about the new trending technologies onlin'"
            ],
            "application/vnd.google.colaboratory.intrinsic+json": {
              "type": "string"
            }
          },
          "metadata": {},
          "execution_count": 36
        }
      ]
    },
    {
      "cell_type": "code",
      "source": [
        "sentense = \"Edureka is the best place to learn about the new trending technologies online\"\n",
        "from nltk.tokenize import sent_tokenize, word_tokenize\n",
        "def stemSentence(sentence):\n",
        "  tokens_words = word_tokenize(sentence)\n",
        "  stem_sentence = []\n",
        "  for word in tokens_words:\n",
        "    stem_sentence.append(porter.stem(word))\n",
        "    stem_sentence.append(\" \")\n",
        "  return \"\".join(stem_sentence)\n",
        "\n",
        "x = stemSentence(sentense)\n",
        "x\n"
      ],
      "metadata": {
        "colab": {
          "base_uri": "https://localhost:8080/",
          "height": 36
        },
        "id": "Zx5YO1FH40-B",
        "outputId": "8b01e3a5-1b3d-4474-f791-9acfea4b93fc"
      },
      "execution_count": 37,
      "outputs": [
        {
          "output_type": "execute_result",
          "data": {
            "text/plain": [
              "'edureka is the best place to learn about the new trend technolog onlin '"
            ],
            "application/vnd.google.colaboratory.intrinsic+json": {
              "type": "string"
            }
          },
          "metadata": {},
          "execution_count": 37
        }
      ]
    },
    {
      "cell_type": "code",
      "source": [
        "file = open(\"/content/drive/MyDrive/NLP Fellowship/huzalab_doc/week3/file_tokenization.txt\")\n",
        "my_lines_list = file.readlines()\n",
        "print(my_lines_list[0])"
      ],
      "metadata": {
        "colab": {
          "base_uri": "https://localhost:8080/"
        },
        "id": "jJCJUq3-_Rix",
        "outputId": "72f3cb55-6dc8-42a5-e9d9-a4fd5c907e72"
      },
      "execution_count": 38,
      "outputs": [
        {
          "output_type": "stream",
          "name": "stdout",
          "text": [
            "here we are trying our best to be the one who can solve it\n",
            "\n"
          ]
        }
      ]
    },
    {
      "cell_type": "code",
      "source": [
        "def StemSentence_document(sentence_doc):\n",
        "  tokens_words = word_tokenize(sentence_doc)\n",
        "  stem_sentence = []\n",
        "  for word in tokens_words:\n",
        "    stem_sentence.append(porter.stem(word))\n",
        "    stem_sentence.append(\" \")\n",
        "  return \"\".join(stem_sentence)\n",
        "x = StemSentence_document(my_lines_list[0])\n"
      ],
      "metadata": {
        "id": "C0CJ0ehH_q0A"
      },
      "execution_count": 39,
      "outputs": []
    },
    {
      "cell_type": "markdown",
      "source": [
        "# save the data from text with stemmed"
      ],
      "metadata": {
        "id": "J0iiBq6yBGIX"
      }
    },
    {
      "cell_type": "code",
      "source": [
        "stem_file = open(\"/content/drive/MyDrive/NLP Fellowship/huzalab_doc/week3/saveStem_doc.txt\", mode=\"a+\", encoding=\"utf-8\")\n",
        "for line in my_lines_list:\n",
        "  stem_sentence = StemSentence_document(line)\n",
        "  stem_sentence\n",
        "  stem_file.write(stem_sentence)\n",
        "stem_file.close"
      ],
      "metadata": {
        "colab": {
          "base_uri": "https://localhost:8080/"
        },
        "id": "SJAqYniuBK3V",
        "outputId": "fdb232b4-671b-4432-ef5e-0e90c6a4d27e"
      },
      "execution_count": 40,
      "outputs": [
        {
          "output_type": "execute_result",
          "data": {
            "text/plain": [
              "<function TextIOWrapper.close()>"
            ]
          },
          "metadata": {},
          "execution_count": 40
        }
      ]
    },
    {
      "cell_type": "markdown",
      "source": [
        " # === Lemmantization pract"
      ],
      "metadata": {
        "id": "bDJq822kC2i3"
      }
    },
    {
      "cell_type": "code",
      "source": [
        "from nltk.stem import WordNetLemmatizer\n",
        "import string\n",
        "\n",
        "wordnet_lemmantizer = WordNetLemmatizer()\n",
        "\n",
        "sentence_1 =\"He was running and eating at the same time. he has bad habit of swimming after playing long hours in the sun\""
      ],
      "metadata": {
        "id": "c27z_vhrDAb_"
      },
      "execution_count": 41,
      "outputs": []
    },
    {
      "cell_type": "code",
      "source": [
        "punctuations = \"?:!.,;\"\n",
        "sentense_words1 = nltk.word_tokenize(sentence_1)\n",
        "for word in sentense_words1:\n",
        "  if word in punctuations:\n",
        "    sentense_words1.remove(word)\n",
        "# sentense_words1\n",
        "print(\"{0:20}{1:20}\".format(\"word\", \"Lemma\"))\n",
        "for word in sentense_words1:\n",
        "  print(\"{0:20}{1:20}\".format(word, wordnet_lemmantizer.lemmatize(word)))"
      ],
      "metadata": {
        "colab": {
          "base_uri": "https://localhost:8080/"
        },
        "id": "RMWX_UCBDYJA",
        "outputId": "20c134ad-da72-4f7b-eaea-b5cc03d45882"
      },
      "execution_count": 42,
      "outputs": [
        {
          "output_type": "stream",
          "name": "stdout",
          "text": [
            "word                Lemma               \n",
            "He                  He                  \n",
            "was                 wa                  \n",
            "running             running             \n",
            "and                 and                 \n",
            "eating              eating              \n",
            "at                  at                  \n",
            "the                 the                 \n",
            "same                same                \n",
            "time                time                \n",
            "he                  he                  \n",
            "has                 ha                  \n",
            "bad                 bad                 \n",
            "habit               habit               \n",
            "of                  of                  \n",
            "swimming            swimming            \n",
            "after               after               \n",
            "playing             playing             \n",
            "long                long                \n",
            "hours               hour                \n",
            "in                  in                  \n",
            "the                 the                 \n",
            "sun                 sun                 \n"
          ]
        }
      ]
    },
    {
      "cell_type": "markdown",
      "source": [
        "# add context to lemmitizer by adding pos parameter"
      ],
      "metadata": {
        "id": "beBT8i7nTJ0T"
      }
    },
    {
      "cell_type": "markdown",
      "source": [],
      "metadata": {
        "id": "WwD-oXkiBEdQ"
      }
    },
    {
      "cell_type": "code",
      "source": [
        "for word in sentense_words1:\n",
        "  print(\"{0:20}{1:20}\".format(word, wordnet_lemmantizer.lemmatize(word, pos=\"v\")))"
      ],
      "metadata": {
        "id": "XX5tWk4oTSlD",
        "outputId": "b53ebbff-c2e6-4185-ee15-9471b3a3fe9c",
        "colab": {
          "base_uri": "https://localhost:8080/"
        }
      },
      "execution_count": 43,
      "outputs": [
        {
          "output_type": "stream",
          "name": "stdout",
          "text": [
            "He                  He                  \n",
            "was                 be                  \n",
            "running             run                 \n",
            "and                 and                 \n",
            "eating              eat                 \n",
            "at                  at                  \n",
            "the                 the                 \n",
            "same                same                \n",
            "time                time                \n",
            "he                  he                  \n",
            "has                 have                \n",
            "bad                 bad                 \n",
            "habit               habit               \n",
            "of                  of                  \n",
            "swimming            swim                \n",
            "after               after               \n",
            "playing             play                \n",
            "long                long                \n",
            "hours               hours               \n",
            "in                  in                  \n",
            "the                 the                 \n",
            "sun                 sun                 \n"
          ]
        }
      ]
    },
    {
      "cell_type": "markdown",
      "source": [
        "# here we are going to steam by using documents"
      ],
      "metadata": {
        "id": "49r2XtqZ_Kk9"
      }
    },
    {
      "cell_type": "markdown",
      "source": [
        "## PorterStemmer\n",
        "Designed and built by Martin Porter in 1980\n",
        "\n",
        "Takes Five steps each with its own mapping rules. Easy and fast\n"
      ],
      "metadata": {
        "id": "pP3w12Sy0QDd"
      }
    },
    {
      "cell_type": "code",
      "execution_count": 44,
      "metadata": {
        "id": "Edofg-4JoDXD",
        "colab": {
          "base_uri": "https://localhost:8080/"
        },
        "outputId": "e54f2eca-0b09-46c8-9339-5380bd3dff9e"
      },
      "outputs": [
        {
          "output_type": "stream",
          "name": "stdout",
          "text": [
            "friend ---> friend\n",
            "friendship ---> friendship\n",
            "friends ---> friend\n",
            "friendships ---> friendship\n",
            "generate ---> gener\n",
            "generates ---> gener\n",
            "generating ---> gener\n",
            "general ---> gener\n",
            "generally ---> gener\n",
            "generic ---> gener\n",
            "generically ---> gener\n",
            "generous ---> gener\n",
            "generously ---> gener\n",
            "went ---> went\n",
            "ate ---> ate\n"
          ]
        }
      ],
      "source": [
        "\n",
        "from nltk.stem import PorterStemmer, SnowballStemmer,LancasterStemmer,RegexpStemmer,WordNetLemmatizer\n",
        "words = [\"friend\", \"friendship\", \"friends\", \"friendships\",\"generate\",\"generates\",\"generating\",\"general\",\"generally\",\"generic\",\"generically\",\"generous\",\"generously\",\"went\",\"ate\"]\n",
        "Porter = PorterStemmer()\n",
        "\n",
        "for word in words:\n",
        "    print(word,\"--->\",Porter.stem(word))"
      ]
    },
    {
      "cell_type": "code",
      "source": [
        "new_words = [\"walk\",\"walking\",\"walked\",\"walks\"]\n",
        "for word in new_words:\n",
        "    print(word,\"--->\",Porter.stem(word))"
      ],
      "metadata": {
        "id": "oupMbnhPXUA-",
        "colab": {
          "base_uri": "https://localhost:8080/"
        },
        "outputId": "5f975161-b07d-4c25-b746-26dad0b7c5ea"
      },
      "execution_count": 45,
      "outputs": [
        {
          "output_type": "stream",
          "name": "stdout",
          "text": [
            "walk ---> walk\n",
            "walking ---> walk\n",
            "walked ---> walk\n",
            "walks ---> walk\n"
          ]
        }
      ]
    },
    {
      "cell_type": "markdown",
      "source": [
        "## SnowballStemmer/Porter2Stemmer\n",
        "Designed and built by Martin Porter\n",
        "Advancement of PorterStemmer\n",
        "\n",
        "Faster and more precise than Porter Stemmer"
      ],
      "metadata": {
        "id": "U964E_O53SMt"
      }
    },
    {
      "cell_type": "code",
      "source": [
        "snowball = SnowballStemmer(language='english')\n",
        "\n",
        "for word in words:\n",
        "    print(word,\"--->\",snowball.stem(word))"
      ],
      "metadata": {
        "id": "9_XdGLfFoSr_",
        "colab": {
          "base_uri": "https://localhost:8080/"
        },
        "outputId": "80f043ba-192b-4f5a-c504-d983fe74a444"
      },
      "execution_count": 46,
      "outputs": [
        {
          "output_type": "stream",
          "name": "stdout",
          "text": [
            "friend ---> friend\n",
            "friendship ---> friendship\n",
            "friends ---> friend\n",
            "friendships ---> friendship\n",
            "generate ---> generat\n",
            "generates ---> generat\n",
            "generating ---> generat\n",
            "general ---> general\n",
            "generally ---> general\n",
            "generic ---> generic\n",
            "generically ---> generic\n",
            "generous ---> generous\n",
            "generously ---> generous\n",
            "went ---> went\n",
            "ate ---> ate\n"
          ]
        }
      ]
    },
    {
      "cell_type": "markdown",
      "source": [
        "## LancasterStemmer\n",
        "Simpler\n",
        "\n",
        "Results to over stemming of words, which leads to meaningless words"
      ],
      "metadata": {
        "id": "VNRbB3oD5TIj"
      }
    },
    {
      "cell_type": "code",
      "source": [
        "lancaster = LancasterStemmer()\n",
        "\n",
        "for word in words:\n",
        "    print(word,\"--->\",lancaster.stem(word))"
      ],
      "metadata": {
        "id": "KXm57JXP27mC",
        "colab": {
          "base_uri": "https://localhost:8080/"
        },
        "outputId": "3696d3d6-a97a-437c-9270-8d707c7c0ff5"
      },
      "execution_count": 47,
      "outputs": [
        {
          "output_type": "stream",
          "name": "stdout",
          "text": [
            "friend ---> friend\n",
            "friendship ---> friend\n",
            "friends ---> friend\n",
            "friendships ---> friend\n",
            "generate ---> gen\n",
            "generates ---> gen\n",
            "generating ---> gen\n",
            "general ---> gen\n",
            "generally ---> gen\n",
            "generic ---> gen\n",
            "generically ---> gen\n",
            "generous ---> gen\n",
            "generously ---> gen\n",
            "went ---> went\n",
            "ate ---> at\n"
          ]
        }
      ]
    },
    {
      "cell_type": "markdown",
      "source": [
        "## RegexStemmer\n",
        "Uses regex\n",
        "\n",
        "Substring matching the regex will be discarded\n",
        "\n",
        "Worst performer"
      ],
      "metadata": {
        "id": "5B9i26p95cKI"
      }
    },
    {
      "cell_type": "code",
      "source": [
        "regex = RegexpStemmer('ing$|s$|e$|able$|lly$|ate$', min=3)\n",
        "\n",
        "for word in words:\n",
        "    print(word,\"--->\",regex.stem(word))"
      ],
      "metadata": {
        "id": "kGwXP_lk5P6c",
        "outputId": "74b812ea-7c0d-41b4-9ee9-00ebaa6855ed",
        "colab": {
          "base_uri": "https://localhost:8080/"
        }
      },
      "execution_count": 48,
      "outputs": [
        {
          "output_type": "stream",
          "name": "stdout",
          "text": [
            "friend ---> friend\n",
            "friendship ---> friendship\n",
            "friends ---> friend\n",
            "friendships ---> friendship\n",
            "generate ---> gener\n",
            "generates ---> generate\n",
            "generating ---> generat\n",
            "general ---> general\n",
            "generally ---> genera\n",
            "generic ---> generic\n",
            "generically ---> generica\n",
            "generous ---> generou\n",
            "generously ---> generously\n",
            "went ---> went\n",
            "ate ---> \n"
          ]
        }
      ]
    },
    {
      "cell_type": "markdown",
      "source": [
        "# Lemmantizing"
      ],
      "metadata": {
        "id": "CQvja1ZC9pf2"
      }
    },
    {
      "cell_type": "code",
      "source": [
        "wordnet = WordNetLemmatizer()\n",
        "lemm_word = ['The', 'striped', 'bats', 'are', 'hanging', 'on', 'their', 'feet', 'for', 'best']\n",
        "for word in lemm_word:\n",
        "    print(word,\"--->\",wordnet.lemmatize(word))"
      ],
      "metadata": {
        "id": "9gSWwpmz8ElG",
        "outputId": "9b891149-bda2-43ff-f8ce-1501e9033f76",
        "colab": {
          "base_uri": "https://localhost:8080/"
        }
      },
      "execution_count": 49,
      "outputs": [
        {
          "output_type": "stream",
          "name": "stdout",
          "text": [
            "The ---> The\n",
            "striped ---> striped\n",
            "bats ---> bat\n",
            "are ---> are\n",
            "hanging ---> hanging\n",
            "on ---> on\n",
            "their ---> their\n",
            "feet ---> foot\n",
            "for ---> for\n",
            "best ---> best\n"
          ]
        }
      ]
    },
    {
      "cell_type": "code",
      "source": [
        "from gensim.utils import tokenize"
      ],
      "metadata": {
        "id": "2aGUc4uhGh-m"
      },
      "execution_count": 50,
      "outputs": []
    },
    {
      "cell_type": "code",
      "source": [
        "from nltk import  pos_tag\n",
        "text = '''President Paul Kagame has said that deliberate efforts are needed to forge private-public partnerships to bridge internet usage gaps. He was speaking during the inauguration of the Mobile World Congress 2022 which convened more than 2000 people representing 99 countries, on October 25.\n",
        "Global mobile operators, device manufacturers, technology providers, vendors, content owners, and policymakers are in Kigali to identify gaps and discuss effective measures needed to drive digital transformation in Africa. To address the usage gap –the number of people who can’t use mobile internet services while living in an area covered by broadband networks –Kagame said that neither the private nor the public sector has all that is required to cover the gap, hence, the need for partnerships. '''\n",
        "\n",
        "tokens = list(tokenize(text))\n",
        "tokens"
      ],
      "metadata": {
        "id": "k7AVlGqB93oQ",
        "outputId": "eaebc31e-30d8-437a-b220-57401ddc0052",
        "colab": {
          "base_uri": "https://localhost:8080/"
        }
      },
      "execution_count": 51,
      "outputs": [
        {
          "output_type": "execute_result",
          "data": {
            "text/plain": [
              "['President',\n",
              " 'Paul',\n",
              " 'Kagame',\n",
              " 'has',\n",
              " 'said',\n",
              " 'that',\n",
              " 'deliberate',\n",
              " 'efforts',\n",
              " 'are',\n",
              " 'needed',\n",
              " 'to',\n",
              " 'forge',\n",
              " 'private',\n",
              " 'public',\n",
              " 'partnerships',\n",
              " 'to',\n",
              " 'bridge',\n",
              " 'internet',\n",
              " 'usage',\n",
              " 'gaps',\n",
              " 'He',\n",
              " 'was',\n",
              " 'speaking',\n",
              " 'during',\n",
              " 'the',\n",
              " 'inauguration',\n",
              " 'of',\n",
              " 'the',\n",
              " 'Mobile',\n",
              " 'World',\n",
              " 'Congress',\n",
              " 'which',\n",
              " 'convened',\n",
              " 'more',\n",
              " 'than',\n",
              " 'people',\n",
              " 'representing',\n",
              " 'countries',\n",
              " 'on',\n",
              " 'October',\n",
              " 'Global',\n",
              " 'mobile',\n",
              " 'operators',\n",
              " 'device',\n",
              " 'manufacturers',\n",
              " 'technology',\n",
              " 'providers',\n",
              " 'vendors',\n",
              " 'content',\n",
              " 'owners',\n",
              " 'and',\n",
              " 'policymakers',\n",
              " 'are',\n",
              " 'in',\n",
              " 'Kigali',\n",
              " 'to',\n",
              " 'identify',\n",
              " 'gaps',\n",
              " 'and',\n",
              " 'discuss',\n",
              " 'effective',\n",
              " 'measures',\n",
              " 'needed',\n",
              " 'to',\n",
              " 'drive',\n",
              " 'digital',\n",
              " 'transformation',\n",
              " 'in',\n",
              " 'Africa',\n",
              " 'To',\n",
              " 'address',\n",
              " 'the',\n",
              " 'usage',\n",
              " 'gap',\n",
              " 'the',\n",
              " 'number',\n",
              " 'of',\n",
              " 'people',\n",
              " 'who',\n",
              " 'can',\n",
              " 't',\n",
              " 'use',\n",
              " 'mobile',\n",
              " 'internet',\n",
              " 'services',\n",
              " 'while',\n",
              " 'living',\n",
              " 'in',\n",
              " 'an',\n",
              " 'area',\n",
              " 'covered',\n",
              " 'by',\n",
              " 'broadband',\n",
              " 'networks',\n",
              " 'Kagame',\n",
              " 'said',\n",
              " 'that',\n",
              " 'neither',\n",
              " 'the',\n",
              " 'private',\n",
              " 'nor',\n",
              " 'the',\n",
              " 'public',\n",
              " 'sector',\n",
              " 'has',\n",
              " 'all',\n",
              " 'that',\n",
              " 'is',\n",
              " 'required',\n",
              " 'to',\n",
              " 'cover',\n",
              " 'the',\n",
              " 'gap',\n",
              " 'hence',\n",
              " 'the',\n",
              " 'need',\n",
              " 'for',\n",
              " 'partnerships']"
            ]
          },
          "metadata": {},
          "execution_count": 51
        }
      ]
    },
    {
      "cell_type": "code",
      "source": [
        "pos_list = pos_tag(tokens)\n",
        "pos_list"
      ],
      "metadata": {
        "id": "Yl6KV33OF8zh",
        "outputId": "b7efded5-8483-4754-b6fc-4a549386c9f9",
        "colab": {
          "base_uri": "https://localhost:8080/"
        }
      },
      "execution_count": 52,
      "outputs": [
        {
          "output_type": "execute_result",
          "data": {
            "text/plain": [
              "[('President', 'NNP'),\n",
              " ('Paul', 'NNP'),\n",
              " ('Kagame', 'NNP'),\n",
              " ('has', 'VBZ'),\n",
              " ('said', 'VBD'),\n",
              " ('that', 'IN'),\n",
              " ('deliberate', 'NN'),\n",
              " ('efforts', 'NNS'),\n",
              " ('are', 'VBP'),\n",
              " ('needed', 'VBN'),\n",
              " ('to', 'TO'),\n",
              " ('forge', 'VB'),\n",
              " ('private', 'JJ'),\n",
              " ('public', 'JJ'),\n",
              " ('partnerships', 'NNS'),\n",
              " ('to', 'TO'),\n",
              " ('bridge', 'VB'),\n",
              " ('internet', 'JJ'),\n",
              " ('usage', 'NN'),\n",
              " ('gaps', 'NNS'),\n",
              " ('He', 'PRP'),\n",
              " ('was', 'VBD'),\n",
              " ('speaking', 'VBG'),\n",
              " ('during', 'IN'),\n",
              " ('the', 'DT'),\n",
              " ('inauguration', 'NN'),\n",
              " ('of', 'IN'),\n",
              " ('the', 'DT'),\n",
              " ('Mobile', 'NNP'),\n",
              " ('World', 'NNP'),\n",
              " ('Congress', 'NNP'),\n",
              " ('which', 'WDT'),\n",
              " ('convened', 'VBD'),\n",
              " ('more', 'RBR'),\n",
              " ('than', 'IN'),\n",
              " ('people', 'NNS'),\n",
              " ('representing', 'VBG'),\n",
              " ('countries', 'NNS'),\n",
              " ('on', 'IN'),\n",
              " ('October', 'NNP'),\n",
              " ('Global', 'NNP'),\n",
              " ('mobile', 'NN'),\n",
              " ('operators', 'NNS'),\n",
              " ('device', 'VBP'),\n",
              " ('manufacturers', 'NNS'),\n",
              " ('technology', 'NN'),\n",
              " ('providers', 'NNS'),\n",
              " ('vendors', 'NNS'),\n",
              " ('content', 'NN'),\n",
              " ('owners', 'NNS'),\n",
              " ('and', 'CC'),\n",
              " ('policymakers', 'NNS'),\n",
              " ('are', 'VBP'),\n",
              " ('in', 'IN'),\n",
              " ('Kigali', 'NNP'),\n",
              " ('to', 'TO'),\n",
              " ('identify', 'VB'),\n",
              " ('gaps', 'NNS'),\n",
              " ('and', 'CC'),\n",
              " ('discuss', 'VB'),\n",
              " ('effective', 'JJ'),\n",
              " ('measures', 'NNS'),\n",
              " ('needed', 'VBN'),\n",
              " ('to', 'TO'),\n",
              " ('drive', 'VB'),\n",
              " ('digital', 'JJ'),\n",
              " ('transformation', 'NN'),\n",
              " ('in', 'IN'),\n",
              " ('Africa', 'NNP'),\n",
              " ('To', 'TO'),\n",
              " ('address', 'VB'),\n",
              " ('the', 'DT'),\n",
              " ('usage', 'NN'),\n",
              " ('gap', 'VBD'),\n",
              " ('the', 'DT'),\n",
              " ('number', 'NN'),\n",
              " ('of', 'IN'),\n",
              " ('people', 'NNS'),\n",
              " ('who', 'WP'),\n",
              " ('can', 'MD'),\n",
              " ('t', 'VB'),\n",
              " ('use', 'NN'),\n",
              " ('mobile', 'JJ'),\n",
              " ('internet', 'NN'),\n",
              " ('services', 'NNS'),\n",
              " ('while', 'IN'),\n",
              " ('living', 'VBG'),\n",
              " ('in', 'IN'),\n",
              " ('an', 'DT'),\n",
              " ('area', 'NN'),\n",
              " ('covered', 'VBN'),\n",
              " ('by', 'IN'),\n",
              " ('broadband', 'NN'),\n",
              " ('networks', 'NNS'),\n",
              " ('Kagame', 'NNP'),\n",
              " ('said', 'VBD'),\n",
              " ('that', 'IN'),\n",
              " ('neither', 'CC'),\n",
              " ('the', 'DT'),\n",
              " ('private', 'JJ'),\n",
              " ('nor', 'CC'),\n",
              " ('the', 'DT'),\n",
              " ('public', 'NN'),\n",
              " ('sector', 'NN'),\n",
              " ('has', 'VBZ'),\n",
              " ('all', 'DT'),\n",
              " ('that', 'WDT'),\n",
              " ('is', 'VBZ'),\n",
              " ('required', 'VBN'),\n",
              " ('to', 'TO'),\n",
              " ('cover', 'VB'),\n",
              " ('the', 'DT'),\n",
              " ('gap', 'NN'),\n",
              " ('hence', 'NN'),\n",
              " ('the', 'DT'),\n",
              " ('need', 'NN'),\n",
              " ('for', 'IN'),\n",
              " ('partnerships', 'NNS')]"
            ]
          },
          "metadata": {},
          "execution_count": 52
        }
      ]
    },
    {
      "cell_type": "code",
      "source": [
        "matched_tags = {'NNP':'n',\"VBP\":'v'}\n",
        "processed_tag = []\n",
        "for token, tag in pos_list:\n",
        "  try:\n",
        "    token = wordnet.lemmatize(token,matched_tags[tag])\n",
        "    processed_tag.append(token)\n",
        "  except:\n",
        "    pass\n",
        "  #print(token,'-------------',tag)\n",
        "processed_tag"
      ],
      "metadata": {
        "id": "xj3N2oK7aFZj",
        "outputId": "bf7fc045-380d-4475-ecdc-9fa013e80080",
        "colab": {
          "base_uri": "https://localhost:8080/"
        }
      },
      "execution_count": 53,
      "outputs": [
        {
          "output_type": "execute_result",
          "data": {
            "text/plain": [
              "['President',\n",
              " 'Paul',\n",
              " 'Kagame',\n",
              " 'be',\n",
              " 'Mobile',\n",
              " 'World',\n",
              " 'Congress',\n",
              " 'October',\n",
              " 'Global',\n",
              " 'device',\n",
              " 'be',\n",
              " 'Kigali',\n",
              " 'Africa',\n",
              " 'Kagame']"
            ]
          },
          "metadata": {},
          "execution_count": 53
        }
      ]
    },
    {
      "cell_type": "code",
      "source": [
        "#print(wordnet.lemmatize('countries'))\n",
        "#pos_tag(['best'])\n",
        "print(wordnet.lemmatize('better','a'))"
      ],
      "metadata": {
        "id": "4eVyoDAUG3vO",
        "outputId": "05e67eeb-ab00-42d4-c7bb-37281fdd18ed",
        "colab": {
          "base_uri": "https://localhost:8080/"
        }
      },
      "execution_count": 54,
      "outputs": [
        {
          "output_type": "stream",
          "name": "stdout",
          "text": [
            "good\n"
          ]
        }
      ]
    },
    {
      "cell_type": "markdown",
      "source": [
        "# Stopwords\n",
        "Common simple words that add little value\n",
        "\n",
        "The goal is to reduce the size of the matrix as much as possible, therefore removing common words that do not add value makes sense. An example is I, a, an\n"
      ],
      "metadata": {
        "id": "O5hRNTOBIPMf"
      }
    },
    {
      "cell_type": "code",
      "source": [
        "from nltk.corpus import stopwords\n",
        "sw = stopwords.words('english')\n",
        "print(sw)"
      ],
      "metadata": {
        "id": "pXgd4po-HVpi",
        "colab": {
          "base_uri": "https://localhost:8080/"
        },
        "outputId": "e7c2bab8-f82d-437e-eaae-8840de4f8fba"
      },
      "execution_count": 55,
      "outputs": [
        {
          "output_type": "stream",
          "name": "stdout",
          "text": [
            "['i', 'me', 'my', 'myself', 'we', 'our', 'ours', 'ourselves', 'you', \"you're\", \"you've\", \"you'll\", \"you'd\", 'your', 'yours', 'yourself', 'yourselves', 'he', 'him', 'his', 'himself', 'she', \"she's\", 'her', 'hers', 'herself', 'it', \"it's\", 'its', 'itself', 'they', 'them', 'their', 'theirs', 'themselves', 'what', 'which', 'who', 'whom', 'this', 'that', \"that'll\", 'these', 'those', 'am', 'is', 'are', 'was', 'were', 'be', 'been', 'being', 'have', 'has', 'had', 'having', 'do', 'does', 'did', 'doing', 'a', 'an', 'the', 'and', 'but', 'if', 'or', 'because', 'as', 'until', 'while', 'of', 'at', 'by', 'for', 'with', 'about', 'against', 'between', 'into', 'through', 'during', 'before', 'after', 'above', 'below', 'to', 'from', 'up', 'down', 'in', 'out', 'on', 'off', 'over', 'under', 'again', 'further', 'then', 'once', 'here', 'there', 'when', 'where', 'why', 'how', 'all', 'any', 'both', 'each', 'few', 'more', 'most', 'other', 'some', 'such', 'no', 'nor', 'not', 'only', 'own', 'same', 'so', 'than', 'too', 'very', 's', 't', 'can', 'will', 'just', 'don', \"don't\", 'should', \"should've\", 'now', 'd', 'll', 'm', 'o', 're', 've', 'y', 'ain', 'aren', \"aren't\", 'couldn', \"couldn't\", 'didn', \"didn't\", 'doesn', \"doesn't\", 'hadn', \"hadn't\", 'hasn', \"hasn't\", 'haven', \"haven't\", 'isn', \"isn't\", 'ma', 'mightn', \"mightn't\", 'mustn', \"mustn't\", 'needn', \"needn't\", 'shan', \"shan't\", 'shouldn', \"shouldn't\", 'wasn', \"wasn't\", 'weren', \"weren't\", 'won', \"won't\", 'wouldn', \"wouldn't\"]\n"
          ]
        }
      ]
    },
    {
      "cell_type": "code",
      "source": [
        "len(tokens)\n",
        "\n",
        "tokens_no_sw = []\n",
        "for token in tokens:\n",
        "  if token not in sw:\n",
        "    tokens_no_sw.append(token)\n",
        "\n",
        "print(len(tokens_no_sw))"
      ],
      "metadata": {
        "id": "9W8cv2tuRrqQ",
        "colab": {
          "base_uri": "https://localhost:8080/"
        },
        "outputId": "49b6ea26-ac1b-4f88-df95-acc8fd0d45f8"
      },
      "execution_count": 56,
      "outputs": [
        {
          "output_type": "stream",
          "name": "stdout",
          "text": [
            "75\n"
          ]
        }
      ]
    },
    {
      "cell_type": "markdown",
      "source": [
        "# In-class practicls\n",
        "1. How many stop words are in NLTK, Spacy,Gensim. Compare them an select one\n",
        "2. Lemmantize the above text using a for loop\n",
        "3. Compare the Stemmers, get the best and compare in with Lemmantizer. \n",
        "4. Remove stop words from the text "
      ],
      "metadata": {
        "id": "s8DBaIAAJt1C"
      }
    },
    {
      "cell_type": "markdown",
      "source": [
        "# let's see the stopwords in nltk"
      ],
      "metadata": {
        "id": "uPncZk5BcnOW"
      }
    },
    {
      "cell_type": "code",
      "source": [
        "from nltk.corpus import stopwords\n",
        "\n",
        "nltk_stopswords = stopwords.words('english')\n",
        "len(nltk_stopswords)"
      ],
      "metadata": {
        "id": "o6dx7FWWcti7",
        "outputId": "f609c50e-539a-46d6-c891-fc8e0c5b0677",
        "colab": {
          "base_uri": "https://localhost:8080/"
        }
      },
      "execution_count": 57,
      "outputs": [
        {
          "output_type": "execute_result",
          "data": {
            "text/plain": [
              "179"
            ]
          },
          "metadata": {},
          "execution_count": 57
        }
      ]
    },
    {
      "cell_type": "markdown",
      "source": [
        "# let's see count of stopwords in spacy\n"
      ],
      "metadata": {
        "id": "Chcm0zA6dCTt"
      }
    },
    {
      "cell_type": "code",
      "source": [
        "import spacy\n",
        "#loading the english language small model of spacy\n",
        "en = spacy.load('en_core_web_sm')\n",
        "stopwords = en.Defaults.stop_words\n",
        "\n",
        "print(len(stopwords))\n",
        "print(stopwords)"
      ],
      "metadata": {
        "id": "4UeQg0w5dHta",
        "outputId": "99670405-d463-47b9-a6be-60eb1d6b4df0",
        "colab": {
          "base_uri": "https://localhost:8080/"
        }
      },
      "execution_count": 58,
      "outputs": [
        {
          "output_type": "stream",
          "name": "stdout",
          "text": [
            "326\n",
            "{'most', 'n’t', 'really', 'otherwise', 'throughout', 'me', 'therefore', 'anyhow', 'noone', 'hereby', 'whereupon', 'these', 'whither', 'fifty', 'seeming', 'yet', 'elsewhere', 'eight', 'via', 'seem', 'again', 'hundred', 'ourselves', 'ever', 'because', 'down', 'any', 'but', 'should', 'therein', 'almost', 'by', 'name', 'always', 'with', 'two', 'too', '‘s', 'seems', 'that', 'twenty', 'namely', 'your', 'ours', 'due', 'himself', 'had', 'get', 'whereas', 'or', 'becomes', 'no', '’ve', 'twelve', 'between', 'hence', 'whence', \"'d\", 'less', 'must', 'not', 'themselves', 'when', 'while', 'could', 'we', 'after', 'regarding', 'who', 'everywhere', 'other', 'everything', 'except', 'even', 'under', 'sometime', 'up', '‘ve', 'front', 'whoever', 'before', 'does', 'onto', 'often', 'more', 'whether', 'first', 'see', 'what', 'over', 'hereafter', 'hereupon', 'just', 'anything', 'become', 'my', 'once', 'own', 'somewhere', 'whose', 'perhaps', 'none', 'now', 'becoming', 'besides', 'fifteen', 'all', 'us', 'beyond', 'same', 'am', 'and', 'hers', 'might', 'indeed', 'nevertheless', 'wherein', 'anyway', 'during', 'than', 'nowhere', 'enough', 'is', 'whom', 'four', 'three', 'only', 'wherever', 'without', 'whatever', 'afterwards', 'thereby', 'amongst', 'him', 'for', 'as', 'very', 'where', 'thence', 'full', 'last', 'here', 'so', 'quite', 'keep', 'whenever', 'thru', 'against', 'i', 'mine', 'of', 'together', 'cannot', 'along', 'latter', 'formerly', 'in', 'take', 'if', 'itself', 'another', 'though', 'several', 'latterly', 'behind', 'six', 'amount', 'whole', 'still', 'it', 'empty', 'nobody', 'into', 'side', 'its', 'nor', 'to', 'being', 'made', 'although', 'also', 'used', 'something', 'put', 'part', 'on', 'back', 'eleven', 'among', 'beforehand', '‘d', 'upon', 'were', 'herself', 'go', 'how', 'out', 'ten', 'already', 'above', 'from', 'alone', '‘ll', 'sixty', \"'ll\", 'please', 'below', 'rather', 'our', 'forty', 'anyone', 'else', 'using', 'thereafter', 'few', 'done', 'five', 'unless', 'top', 'show', 'give', 'say', 'well', 'became', 'whereafter', 'across', 'then', 'everyone', 'others', 'make', 'why', 'whereby', '’s', 'an', 'be', 'serious', 'have', 'around', 'they', 'those', \"'m\", 'has', 'there', 'since', 'do', '’d', 'toward', 'been', 'the', 'which', 'third', 'yourselves', 'bottom', 'can', 'off', 'seemed', 'neither', 'will', 'n‘t', 'nine', 'either', 'one', '‘re', 'their', 'mostly', 'at', 'about', \"n't\", 'much', '’re', 'never', 'some', 'least', 'are', 'a', 'somehow', 'yours', 'through', 'was', '‘m', 'thereupon', 'however', 'move', 'would', 'myself', 'each', 'his', 'further', '’m', 'this', 'her', 'until', 'yourself', 'every', '’ll', 'did', 'may', 'thus', 'per', 'he', \"'ve\", 'them', 'within', 'many', 'she', 'doing', 'moreover', 'towards', 'beside', 'herein', 're', 'sometimes', 'such', 'next', 'ca', 'nothing', \"'s\", 'meanwhile', 'both', 'former', 'anywhere', 'various', 'someone', 'you', 'call', \"'re\"}\n"
          ]
        }
      ]
    },
    {
      "cell_type": "markdown",
      "source": [
        "# let's see the stopswords in genism"
      ],
      "metadata": {
        "id": "MxI1q89mdjwm"
      }
    },
    {
      "cell_type": "code",
      "source": [
        "import gensim\n",
        "from gensim.parsing.preprocessing import STOPWORDS\n",
        "gensim_stopwords = gensim.parsing.preprocessing.STOPWORDS\n",
        "len(gensim_stopwords)\n",
        "\n"
      ],
      "metadata": {
        "colab": {
          "base_uri": "https://localhost:8080/"
        },
        "id": "uDdokps0doV2",
        "outputId": "21ee77b9-452d-4146-f95b-2821852a194e"
      },
      "execution_count": 59,
      "outputs": [
        {
          "output_type": "execute_result",
          "data": {
            "text/plain": [
              "337"
            ]
          },
          "metadata": {},
          "execution_count": 59
        }
      ]
    },
    {
      "cell_type": "markdown",
      "source": [
        "#Lemmantize the above text using a for loop"
      ],
      "metadata": {
        "id": "fhsKwsuliAoO"
      }
    },
    {
      "cell_type": "code",
      "source": [
        "wordnet = WordNetLemmatizer()\n",
        "tokens_words___ = word_tokenize(text)\n",
        "for word in tokens_words___:\n",
        "    print(word,\"--->\",wordnet.lemmatize(word))"
      ],
      "metadata": {
        "id": "lUiT5vmtiDk5",
        "outputId": "626c94db-20c1-45af-9216-f74d0bc04d9d",
        "colab": {
          "base_uri": "https://localhost:8080/"
        }
      },
      "execution_count": 60,
      "outputs": [
        {
          "output_type": "stream",
          "name": "stdout",
          "text": [
            "President ---> President\n",
            "Paul ---> Paul\n",
            "Kagame ---> Kagame\n",
            "has ---> ha\n",
            "said ---> said\n",
            "that ---> that\n",
            "deliberate ---> deliberate\n",
            "efforts ---> effort\n",
            "are ---> are\n",
            "needed ---> needed\n",
            "to ---> to\n",
            "forge ---> forge\n",
            "private-public ---> private-public\n",
            "partnerships ---> partnership\n",
            "to ---> to\n",
            "bridge ---> bridge\n",
            "internet ---> internet\n",
            "usage ---> usage\n",
            "gaps ---> gap\n",
            ". ---> .\n",
            "He ---> He\n",
            "was ---> wa\n",
            "speaking ---> speaking\n",
            "during ---> during\n",
            "the ---> the\n",
            "inauguration ---> inauguration\n",
            "of ---> of\n",
            "the ---> the\n",
            "Mobile ---> Mobile\n",
            "World ---> World\n",
            "Congress ---> Congress\n",
            "2022 ---> 2022\n",
            "which ---> which\n",
            "convened ---> convened\n",
            "more ---> more\n",
            "than ---> than\n",
            "2000 ---> 2000\n",
            "people ---> people\n",
            "representing ---> representing\n",
            "99 ---> 99\n",
            "countries ---> country\n",
            ", ---> ,\n",
            "on ---> on\n",
            "October ---> October\n",
            "25 ---> 25\n",
            ". ---> .\n",
            "Global ---> Global\n",
            "mobile ---> mobile\n",
            "operators ---> operator\n",
            ", ---> ,\n",
            "device ---> device\n",
            "manufacturers ---> manufacturer\n",
            ", ---> ,\n",
            "technology ---> technology\n",
            "providers ---> provider\n",
            ", ---> ,\n",
            "vendors ---> vendor\n",
            ", ---> ,\n",
            "content ---> content\n",
            "owners ---> owner\n",
            ", ---> ,\n",
            "and ---> and\n",
            "policymakers ---> policymakers\n",
            "are ---> are\n",
            "in ---> in\n",
            "Kigali ---> Kigali\n",
            "to ---> to\n",
            "identify ---> identify\n",
            "gaps ---> gap\n",
            "and ---> and\n",
            "discuss ---> discus\n",
            "effective ---> effective\n",
            "measures ---> measure\n",
            "needed ---> needed\n",
            "to ---> to\n",
            "drive ---> drive\n",
            "digital ---> digital\n",
            "transformation ---> transformation\n",
            "in ---> in\n",
            "Africa ---> Africa\n",
            ". ---> .\n",
            "To ---> To\n",
            "address ---> address\n",
            "the ---> the\n",
            "usage ---> usage\n",
            "gap ---> gap\n",
            "–the ---> –the\n",
            "number ---> number\n",
            "of ---> of\n",
            "people ---> people\n",
            "who ---> who\n",
            "can ---> can\n",
            "’ ---> ’\n",
            "t ---> t\n",
            "use ---> use\n",
            "mobile ---> mobile\n",
            "internet ---> internet\n",
            "services ---> service\n",
            "while ---> while\n",
            "living ---> living\n",
            "in ---> in\n",
            "an ---> an\n",
            "area ---> area\n",
            "covered ---> covered\n",
            "by ---> by\n",
            "broadband ---> broadband\n",
            "networks ---> network\n",
            "–Kagame ---> –Kagame\n",
            "said ---> said\n",
            "that ---> that\n",
            "neither ---> neither\n",
            "the ---> the\n",
            "private ---> private\n",
            "nor ---> nor\n",
            "the ---> the\n",
            "public ---> public\n",
            "sector ---> sector\n",
            "has ---> ha\n",
            "all ---> all\n",
            "that ---> that\n",
            "is ---> is\n",
            "required ---> required\n",
            "to ---> to\n",
            "cover ---> cover\n",
            "the ---> the\n",
            "gap ---> gap\n",
            ", ---> ,\n",
            "hence ---> hence\n",
            ", ---> ,\n",
            "the ---> the\n",
            "need ---> need\n",
            "for ---> for\n",
            "partnerships ---> partnership\n",
            ". ---> .\n"
          ]
        }
      ]
    },
    {
      "cell_type": "markdown",
      "source": [
        "# Remove the stopsword in the test I will be using spacy"
      ],
      "metadata": {
        "id": "lMajDuq3jwPI"
      }
    },
    {
      "cell_type": "code",
      "source": [
        "en = spacy.load('en_core_web_sm')\n",
        "stopwords_container = en.Defaults.stop_words\n",
        "final_words_wv = []\n",
        "for word in tokens_words___:\n",
        "  if word not in stopwords_container:\n",
        "    final_words_wv.append(word)\n",
        "final_words_wv"
      ],
      "metadata": {
        "id": "NOJkC4-Ej4oB",
        "outputId": "6317ad5c-f161-479f-9b73-edcca60f2d30",
        "colab": {
          "base_uri": "https://localhost:8080/"
        }
      },
      "execution_count": 61,
      "outputs": [
        {
          "output_type": "execute_result",
          "data": {
            "text/plain": [
              "['President',\n",
              " 'Paul',\n",
              " 'Kagame',\n",
              " 'said',\n",
              " 'deliberate',\n",
              " 'efforts',\n",
              " 'needed',\n",
              " 'forge',\n",
              " 'private-public',\n",
              " 'partnerships',\n",
              " 'bridge',\n",
              " 'internet',\n",
              " 'usage',\n",
              " 'gaps',\n",
              " '.',\n",
              " 'He',\n",
              " 'speaking',\n",
              " 'inauguration',\n",
              " 'Mobile',\n",
              " 'World',\n",
              " 'Congress',\n",
              " '2022',\n",
              " 'convened',\n",
              " '2000',\n",
              " 'people',\n",
              " 'representing',\n",
              " '99',\n",
              " 'countries',\n",
              " ',',\n",
              " 'October',\n",
              " '25',\n",
              " '.',\n",
              " 'Global',\n",
              " 'mobile',\n",
              " 'operators',\n",
              " ',',\n",
              " 'device',\n",
              " 'manufacturers',\n",
              " ',',\n",
              " 'technology',\n",
              " 'providers',\n",
              " ',',\n",
              " 'vendors',\n",
              " ',',\n",
              " 'content',\n",
              " 'owners',\n",
              " ',',\n",
              " 'policymakers',\n",
              " 'Kigali',\n",
              " 'identify',\n",
              " 'gaps',\n",
              " 'discuss',\n",
              " 'effective',\n",
              " 'measures',\n",
              " 'needed',\n",
              " 'drive',\n",
              " 'digital',\n",
              " 'transformation',\n",
              " 'Africa',\n",
              " '.',\n",
              " 'To',\n",
              " 'address',\n",
              " 'usage',\n",
              " 'gap',\n",
              " '–the',\n",
              " 'number',\n",
              " 'people',\n",
              " '’',\n",
              " 't',\n",
              " 'use',\n",
              " 'mobile',\n",
              " 'internet',\n",
              " 'services',\n",
              " 'living',\n",
              " 'area',\n",
              " 'covered',\n",
              " 'broadband',\n",
              " 'networks',\n",
              " '–Kagame',\n",
              " 'said',\n",
              " 'private',\n",
              " 'public',\n",
              " 'sector',\n",
              " 'required',\n",
              " 'cover',\n",
              " 'gap',\n",
              " ',',\n",
              " ',',\n",
              " 'need',\n",
              " 'partnerships',\n",
              " '.']"
            ]
          },
          "metadata": {},
          "execution_count": 61
        }
      ]
    },
    {
      "cell_type": "markdown",
      "source": [
        "# Assignment\n",
        "Create a function that takes the tokens, normalize the tokens and remove the stop words  "
      ],
      "metadata": {
        "id": "7B9p52D9KV_I"
      }
    },
    {
      "cell_type": "code",
      "source": [
        "words = [\"friend is good but sometime we need to be careful \", \"I don't like burger but I like food\"]\n",
        "new_tokens = []\n",
        "def stemming_lem_sw (words):\n",
        "  for word in words:\n",
        "    for token in word.split():\n",
        "      if token not in sw:\n",
        "        new_tokens.append(token)\n",
        "  return new_tokens\n",
        "\n",
        "final_word = stemming_lem_sw(words)\n",
        "final_word"
      ],
      "metadata": {
        "id": "zTd5zyg0I8wQ",
        "outputId": "26e47c24-f108-4e8b-9124-5adc04b52867",
        "colab": {
          "base_uri": "https://localhost:8080/"
        }
      },
      "execution_count": 76,
      "outputs": [
        {
          "output_type": "execute_result",
          "data": {
            "text/plain": [
              "['friend',\n",
              " 'good',\n",
              " 'sometime',\n",
              " 'need',\n",
              " 'careful',\n",
              " 'I',\n",
              " 'like',\n",
              " 'burger',\n",
              " 'I',\n",
              " 'like',\n",
              " 'food']"
            ]
          },
          "metadata": {},
          "execution_count": 76
        }
      ]
    }
  ]
}