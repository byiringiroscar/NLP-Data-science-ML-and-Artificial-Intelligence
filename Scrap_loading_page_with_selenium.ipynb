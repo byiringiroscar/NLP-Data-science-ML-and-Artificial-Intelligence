{
  "nbformat": 4,
  "nbformat_minor": 0,
  "metadata": {
    "colab": {
      "provenance": [],
      "authorship_tag": "ABX9TyN2OG4oa0KMgbvbBl7MAojH",
      "include_colab_link": true
    },
    "kernelspec": {
      "name": "python3",
      "display_name": "Python 3"
    },
    "language_info": {
      "name": "python"
    }
  },
  "cells": [
    {
      "cell_type": "markdown",
      "metadata": {
        "id": "view-in-github",
        "colab_type": "text"
      },
      "source": [
        "<a href=\"https://colab.research.google.com/github/byiringiroscar/NLP_FELLOWSHIP/blob/main/Scrap_loading_page_with_selenium.ipynb\" target=\"_parent\"><img src=\"https://colab.research.google.com/assets/colab-badge.svg\" alt=\"Open In Colab\"/></a>"
      ]
    },
    {
      "cell_type": "code",
      "execution_count": 12,
      "metadata": {
        "colab": {
          "base_uri": "https://localhost:8080/"
        },
        "id": "HtHQZPeoE8hM",
        "outputId": "9b4c22da-630e-4d7f-97b1-25d68fbf5a77"
      },
      "outputs": [
        {
          "output_type": "stream",
          "name": "stdout",
          "text": [
            "Warning: apt-key is deprecated. Manage keyring files in trusted.gpg.d instead (see apt-key(8)).\n",
            "Executing: /tmp/apt-key-gpghome.fQFyeHvS1a/gpg.1.sh --keyserver keyserver.ubuntu.com --recv-keys DCC9EFBF77E11517\n",
            "gpg: key DCC9EFBF77E11517: \"Debian Stable Release Key (10/buster) <debian-release@lists.debian.org>\" not changed\n",
            "gpg: Total number processed: 1\n",
            "gpg:              unchanged: 1\n",
            "Warning: apt-key is deprecated. Manage keyring files in trusted.gpg.d instead (see apt-key(8)).\n",
            "Executing: /tmp/apt-key-gpghome.vxFnVdPaSW/gpg.1.sh --keyserver keyserver.ubuntu.com --recv-keys 648ACFD622F3D138\n",
            "gpg: key DC30D7C23CBBABEE: \"Debian Archive Automatic Signing Key (10/buster) <ftpmaster@debian.org>\" not changed\n",
            "gpg: Total number processed: 1\n",
            "gpg:              unchanged: 1\n",
            "Warning: apt-key is deprecated. Manage keyring files in trusted.gpg.d instead (see apt-key(8)).\n",
            "Executing: /tmp/apt-key-gpghome.HHA8vqtPym/gpg.1.sh --keyserver keyserver.ubuntu.com --recv-keys 112695A0E562B32A\n",
            "gpg: key 4DFAB270CAA96DFA: \"Debian Security Archive Automatic Signing Key (10/buster) <ftpmaster@debian.org>\" not changed\n",
            "gpg: Total number processed: 1\n",
            "gpg:              unchanged: 1\n",
            "gpg: cannot open '/dev/tty': No such device or address\n",
            "Warning: apt-key is deprecated. Manage keyring files in trusted.gpg.d instead (see apt-key(8)).\n",
            "gpg: [stdout]: write error: Broken pipe\n",
            "gpg: filter_flush failed on close: Broken pipe\n",
            "gpg: cannot open '/dev/tty': No such device or address\n",
            "Warning: apt-key is deprecated. Manage keyring files in trusted.gpg.d instead (see apt-key(8)).\n",
            "gpg: [stdout]: write error: Broken pipe\n",
            "gpg: filter_flush failed on close: Broken pipe\n",
            "gpg: cannot open '/dev/tty': No such device or address\n",
            "Warning: apt-key is deprecated. Manage keyring files in trusted.gpg.d instead (see apt-key(8)).\n",
            "gpg: [stdout]: write error: Broken pipe\n",
            "gpg: filter_flush failed on close: Broken pipe\n",
            "Hit:1 https://cloud.r-project.org/bin/linux/ubuntu jammy-cran40/ InRelease\n",
            "Hit:2 http://deb.debian.org/debian buster InRelease\n",
            "Hit:3 http://deb.debian.org/debian buster-updates InRelease\n",
            "Hit:4 http://deb.debian.org/debian-security buster/updates InRelease\n",
            "Hit:5 https://developer.download.nvidia.com/compute/cuda/repos/ubuntu2204/x86_64  InRelease\n",
            "Hit:6 http://security.ubuntu.com/ubuntu jammy-security InRelease\n",
            "Hit:7 http://archive.ubuntu.com/ubuntu jammy InRelease\n",
            "Hit:8 http://archive.ubuntu.com/ubuntu jammy-updates InRelease\n",
            "Hit:9 http://archive.ubuntu.com/ubuntu jammy-backports InRelease\n",
            "Hit:10 https://ppa.launchpadcontent.net/c2d4u.team/c2d4u4.0+/ubuntu jammy InRelease\n",
            "Hit:11 https://ppa.launchpadcontent.net/deadsnakes/ppa/ubuntu jammy InRelease\n",
            "Hit:12 https://ppa.launchpadcontent.net/graphics-drivers/ppa/ubuntu jammy InRelease\n",
            "Hit:13 https://ppa.launchpadcontent.net/ubuntugis/ppa/ubuntu jammy InRelease\n",
            "Reading package lists... Done\n",
            "Reading package lists... Done\n",
            "Building dependency tree... Done\n",
            "Reading state information... Done\n",
            "chromium is already the newest version (90.0.4430.212-1~deb10u1).\n",
            "chromium-driver is already the newest version (90.0.4430.212-1~deb10u1).\n",
            "0 upgraded, 0 newly installed, 0 to remove and 16 not upgraded.\n",
            "Requirement already satisfied: selenium in /usr/local/lib/python3.10/dist-packages (4.12.0)\n",
            "Requirement already satisfied: urllib3[socks]<3,>=1.26 in /usr/local/lib/python3.10/dist-packages (from selenium) (2.0.4)\n",
            "Requirement already satisfied: trio~=0.17 in /usr/local/lib/python3.10/dist-packages (from selenium) (0.22.2)\n",
            "Requirement already satisfied: trio-websocket~=0.9 in /usr/local/lib/python3.10/dist-packages (from selenium) (0.10.3)\n",
            "Requirement already satisfied: certifi>=2021.10.8 in /usr/local/lib/python3.10/dist-packages (from selenium) (2023.7.22)\n",
            "Requirement already satisfied: attrs>=20.1.0 in /usr/local/lib/python3.10/dist-packages (from trio~=0.17->selenium) (23.1.0)\n",
            "Requirement already satisfied: sortedcontainers in /usr/local/lib/python3.10/dist-packages (from trio~=0.17->selenium) (2.4.0)\n",
            "Requirement already satisfied: idna in /usr/local/lib/python3.10/dist-packages (from trio~=0.17->selenium) (3.4)\n",
            "Requirement already satisfied: outcome in /usr/local/lib/python3.10/dist-packages (from trio~=0.17->selenium) (1.2.0)\n",
            "Requirement already satisfied: sniffio in /usr/local/lib/python3.10/dist-packages (from trio~=0.17->selenium) (1.3.0)\n",
            "Requirement already satisfied: exceptiongroup>=1.0.0rc9 in /usr/local/lib/python3.10/dist-packages (from trio~=0.17->selenium) (1.1.3)\n",
            "Requirement already satisfied: wsproto>=0.14 in /usr/local/lib/python3.10/dist-packages (from trio-websocket~=0.9->selenium) (1.2.0)\n",
            "Requirement already satisfied: pysocks!=1.5.7,<2.0,>=1.5.6 in /usr/local/lib/python3.10/dist-packages (from urllib3[socks]<3,>=1.26->selenium) (1.7.1)\n",
            "Requirement already satisfied: h11<1,>=0.9.0 in /usr/local/lib/python3.10/dist-packages (from wsproto>=0.14->trio-websocket~=0.9->selenium) (0.14.0)\n"
          ]
        },
        {
          "output_type": "execute_result",
          "data": {
            "text/plain": []
          },
          "metadata": {},
          "execution_count": 12
        }
      ],
      "source": [
        "%%shell\n",
        "# Ubuntu no longer distributes chromium-browser outside of snap\n",
        "#\n",
        "# Proposed solution: https://askubuntu.com/questions/1204571/how-to-install-chromium-without-snap\n",
        "\n",
        "# Add debian buster\n",
        "cat > /etc/apt/sources.list.d/debian.list <<'EOF'\n",
        "deb [arch=amd64 signed-by=/usr/share/keyrings/debian-buster.gpg] http://deb.debian.org/debian buster main\n",
        "deb [arch=amd64 signed-by=/usr/share/keyrings/debian-buster-updates.gpg] http://deb.debian.org/debian buster-updates main\n",
        "deb [arch=amd64 signed-by=/usr/share/keyrings/debian-security-buster.gpg] http://deb.debian.org/debian-security buster/updates main\n",
        "EOF\n",
        "\n",
        "# Add keys\n",
        "apt-key adv --keyserver keyserver.ubuntu.com --recv-keys DCC9EFBF77E11517\n",
        "apt-key adv --keyserver keyserver.ubuntu.com --recv-keys 648ACFD622F3D138\n",
        "apt-key adv --keyserver keyserver.ubuntu.com --recv-keys 112695A0E562B32A\n",
        "\n",
        "apt-key export 77E11517 | gpg --dearmour -o /usr/share/keyrings/debian-buster.gpg\n",
        "apt-key export 22F3D138 | gpg --dearmour -o /usr/share/keyrings/debian-buster-updates.gpg\n",
        "apt-key export E562B32A | gpg --dearmour -o /usr/share/keyrings/debian-security-buster.gpg\n",
        "\n",
        "# Prefer debian repo for chromium* packages only\n",
        "# Note the double-blank lines between entries\n",
        "cat > /etc/apt/preferences.d/chromium.pref << 'EOF'\n",
        "Package: *\n",
        "Pin: release a=eoan\n",
        "Pin-Priority: 500\n",
        "\n",
        "\n",
        "Package: *\n",
        "Pin: origin \"deb.debian.org\"\n",
        "Pin-Priority: 300\n",
        "\n",
        "\n",
        "Package: chromium*\n",
        "Pin: origin \"deb.debian.org\"\n",
        "Pin-Priority: 700\n",
        "EOF\n",
        "\n",
        "# Install chromium and chromium-driver\n",
        "apt-get update\n",
        "apt-get install chromium chromium-driver\n",
        "\n",
        "# Install selenium\n",
        "pip install selenium"
      ]
    },
    {
      "cell_type": "code",
      "source": [
        "from selenium import webdriver\n",
        "from selenium.webdriver.chrome.service import Service\n",
        "from selenium.webdriver.chrome.options import Options\n",
        "from selenium.webdriver.support import expected_conditions as etc\n",
        "import json\n",
        "import time\n",
        "import os\n",
        "import requests\n",
        "from urllib.parse import urlparse, unquote\n",
        "from bs4 import BeautifulSoup\n",
        "from urllib.parse import urljoin\n",
        "from selenium.webdriver.common.by import By\n",
        "\n",
        "chrome_options = Options()\n",
        "\n",
        "\n",
        "service = Service(executable_path=r'/usr/bin/chromedriver')\n",
        "chrome_options.add_argument('--disable-blink-features=AutomationControlled')\n",
        "chrome_options.add_argument('--headless')\n",
        "chrome_options.add_argument('--no-sandbox')\n",
        "chrome_options.add_argument('--disable-dev-shm-usage')\n",
        "\n",
        "\n",
        "driver = webdriver.Chrome(service=service, options=chrome_options)\n",
        "# url = [\"https://www.next.co.uk/shop/gender-newborngirls-gender-newbornunisex-gender-oldergirls-gender-youngergirls-promotion-charactershop-0/\", \"https://www.next.co.uk/shop/gender-newborngirls-gender-newbornunisex-gender-oldergirls-gender-youngergirls-promotion-charactershop-1/\", \"https://www.next.co.uk/shop/gender-newborngirls-gender-newbornunisex-gender-oldergirls-gender-youngergirls-promotion-charactershop-0/\"]\n",
        "# driver.get(url)"
      ],
      "metadata": {
        "id": "4XvzMgkVE9iT"
      },
      "execution_count": 13,
      "outputs": []
    },
    {
      "cell_type": "markdown",
      "source": [
        "#Get All Links And category"
      ],
      "metadata": {
        "id": "l52kHVc-RL6d"
      }
    },
    {
      "cell_type": "code",
      "source": [
        "# get all urls for loop\n",
        "#Fetch the content from the front page\n",
        "url_base = 'https://www.next.co.uk/children/the-character-shop'\n",
        "content = requests.get(url_base).content\n",
        "soup = BeautifulSoup(content, 'html.parser')"
      ],
      "metadata": {
        "id": "YvIUISuoPdmB"
      },
      "execution_count": 14,
      "outputs": []
    },
    {
      "cell_type": "code",
      "source": [
        "upper_data_links = []\n",
        "down_data_links = []\n",
        "\n",
        "up_links = soup.find_all('a', class_='hp-btn-invert')\n",
        "d_links = soup.find_all('a', class_='baby-circular-swipe-img-con')\n",
        "for link in up_links:\n",
        "  full_link = urljoin(url_base, link['href'])\n",
        "  category = link.text\n",
        "  upper_data_links.append({'category': category, \"links\": full_link})\n",
        "for link in d_links:\n",
        "  full_link = urljoin(url_base, link['href'])\n",
        "  category = link.text.strip()\n",
        "  down_data_links.append({'category': category, \"links\": full_link})\n",
        "\n",
        "upper_data_links.pop() # remove last one as named \"Home\" not category\n",
        "all_links_category = upper_data_links + down_data_links\n",
        "print(all_links_category[0]['links'])"
      ],
      "metadata": {
        "id": "rxP2p_LIRYaf",
        "outputId": "6046e368-162e-478a-8ad1-2b5993bc0669",
        "colab": {
          "base_uri": "https://localhost:8080/"
        }
      },
      "execution_count": 15,
      "outputs": [
        {
          "output_type": "stream",
          "name": "stdout",
          "text": [
            "https://www.next.co.uk/shop/gender-newborngirls-gender-newbornunisex-gender-oldergirls-gender-youngergirls-promotion-charactershop-0\n"
          ]
        }
      ]
    },
    {
      "cell_type": "markdown",
      "source": [
        "#Scrap the urls"
      ],
      "metadata": {
        "id": "exFPNS_dnX1R"
      }
    },
    {
      "cell_type": "code",
      "source": [
        "# for index, url in enumerate(all_links_category):\n",
        "#   if index < 2:\n",
        "#     driver.get(url)\n",
        "#     items = []\n",
        "\n",
        "#     last_height = driver.execute_script(\"return document.body.scrollHeight\")\n",
        "#     itemTargetCount = 100\n",
        "\n",
        "#     while itemTargetCount > len(items):\n",
        "#       driver.execute_script(\"window.scrollTo(0, document.body.scrollHeight);\")\n",
        "#       time.sleep(1)\n",
        "#       new_height = driver.execute_script(\"return document.body.scrollHeight\")\n",
        "#       if new_height == last_height:\n",
        "#         break\n",
        "#       last_height = new_height\n",
        "#       elements = driver.find_elements(By.CLASS_NAME, 'produc-1mup83m')\n",
        "#       # Create a list to store the src attributes\n",
        "#       src_attributes = []\n",
        "\n",
        "#       for element in elements:\n",
        "#           # Find the <img> elements within each <a> element\n",
        "#           # src = element.get_attribute(\"src\")\n",
        "#           href = element.get_attribute(\"href\")\n",
        "#           print(href)\n",
        "#           # img_elements = element.find_elements(By.TAG_NAME, \"img\")\n",
        "\n",
        "#       #     # Extract the src attribute from each <img> element\n",
        "#       #     for img_element in img_elements:\n",
        "#       #         src = img_element.get_attribute(\"src\")\n",
        "#       #         src_attributes.append(src)\n",
        "#       # # Print the src attributes\n",
        "#       # for src in src_attributes:\n",
        "#       #     print(\"Image source:\", src)\n",
        "# driver.quit()\n"
      ],
      "metadata": {
        "id": "TlFuNHM5FHd5"
      },
      "execution_count": 16,
      "outputs": []
    },
    {
      "cell_type": "code",
      "source": [
        "# # get individual page\n",
        "# response_individual = requests.get(\"https://www.next.co.uk/g624209s2/d99927#d99927\")\n",
        "# soup = BeautifulSoup(response_individual.content, \"html.parser\")\n",
        "\n",
        "# title_div = soup.find('div', class_='Title')\n",
        "# title_h1 = title_div.find('h1')\n",
        "# title = title_h1.text.strip()\n",
        "# td_description = soup.find(id='ToneOfVoice')\n",
        "# print(td_description)\n",
        "driver.get('https://www.next.co.uk/style/ls298607/p99506#p99506')\n",
        "try:\n",
        "  composition = driver.find_element(By.ID, 'Composition')\n",
        "  composition = composition.get_attribute(\"innerHTML\")\n",
        "except:\n",
        "  composition = \"\"\n",
        "try:\n",
        "  description_head = driver.find_element(By.ID, 'ToneOfVoice')\n",
        "\n",
        "    # Find all <li> elements inside the 'ToneOfVoice' element\n",
        "  description_li = description_head.find_elements(By.TAG_NAME, 'li')\n",
        "\n",
        "  # Iterate through <li> elements and print their text\n",
        "  full_description = \"\"\n",
        "  for element in description_li:\n",
        "      full_description += element.get_attribute(\"innerHTML\")\n",
        "except:\n",
        "   full_description = \"\"\n",
        "description_feature = driver.find_element(By.ID, 'ToneOfVoice')\n",
        "print(description_feature.get_attribute('outerHTML'))\n",
        "# driver.quit()"
      ],
      "metadata": {
        "id": "qLQnGGO10r5v",
        "outputId": "c7b92d47-e189-4d3a-9332-fde3f2ab7753",
        "colab": {
          "base_uri": "https://localhost:8080/"
        }
      },
      "execution_count": 17,
      "outputs": [
        {
          "output_type": "stream",
          "name": "stdout",
          "text": [
            "<div id=\"ToneOfVoice\">Featuring Encanto’s three Madrigal sisters – Mirabel, Isabella and Luisa on the long-sleeved top, with a contrasting all-over print on the pyjama bottoms. Official Disney licensed and sustainably made with supersoft BCI cotton – with a tree planted free with every order at brandthreads.com.</div>\n"
          ]
        }
      ]
    },
    {
      "cell_type": "code",
      "source": [
        "# driver.get(all_links_category[0]['links'])\n",
        "# items = []\n",
        "\n",
        "# last_height = driver.execute_script(\"return document.body.scrollHeight\")\n",
        "# itemTargetCount = 100\n",
        "\n",
        "# while itemTargetCount > len(items):\n",
        "#   driver.execute_script(\"window.scrollTo(0, document.body.scrollHeight);\")\n",
        "#   time.sleep(1)\n",
        "#   new_height = driver.execute_script(\"return document.body.scrollHeight\")\n",
        "#   if new_height == last_height:\n",
        "#     break\n",
        "#   last_height = new_height\n",
        "#   elements = driver.find_elements(By.CLASS_NAME, 'produc-1mup83m')\n",
        "#   # Create a list to store the src attributes\n",
        "#   src_attributes = []\n",
        "\n",
        "#   for index, element in enumerate(elements):\n",
        "#       href = element.get_attribute(\"href\")\n",
        "#       # text_content = element.text\n",
        "#       print(href)\n",
        "\n",
        "\n",
        "#   #     # Extract the src attribute from each <img> element\n",
        "#   #     for img_element in img_elements:\n",
        "#   #         src = img_element.get_attribute(\"src\")\n",
        "#   #         src_attributes.append(src)\n",
        "#   # # Print the src attributes\n",
        "#   # for src in src_attributes:\n",
        "#   #     print(\"Image source:\", src)\n",
        "# driver.quit()\n"
      ],
      "metadata": {
        "id": "l7VSFxvRHhnz"
      },
      "execution_count": 18,
      "outputs": []
    },
    {
      "cell_type": "code",
      "source": [],
      "metadata": {
        "id": "3oqDNEkxpnDe"
      },
      "execution_count": 18,
      "outputs": []
    }
  ]
}