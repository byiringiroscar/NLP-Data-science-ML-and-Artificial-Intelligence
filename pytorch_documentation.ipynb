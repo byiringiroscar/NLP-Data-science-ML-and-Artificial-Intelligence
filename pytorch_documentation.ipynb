{
  "nbformat": 4,
  "nbformat_minor": 0,
  "metadata": {
    "colab": {
      "provenance": [],
      "authorship_tag": "ABX9TyMsX8pN1zw2b5r9hpFAFzdF",
      "include_colab_link": true
    },
    "kernelspec": {
      "name": "python3",
      "display_name": "Python 3"
    },
    "language_info": {
      "name": "python"
    }
  },
  "cells": [
    {
      "cell_type": "markdown",
      "metadata": {
        "id": "view-in-github",
        "colab_type": "text"
      },
      "source": [
        "<a href=\"https://colab.research.google.com/github/byiringiroscar/NLP_FELLOWSHIP/blob/main/pytorch_documentation.ipynb\" target=\"_parent\"><img src=\"https://colab.research.google.com/assets/colab-badge.svg\" alt=\"Open In Colab\"/></a>"
      ]
    },
    {
      "cell_type": "code",
      "execution_count": 36,
      "metadata": {
        "id": "0pc_5Cdya8Ns"
      },
      "outputs": [],
      "source": [
        "import torch\n",
        "import numpy as np"
      ]
    },
    {
      "cell_type": "markdown",
      "source": [
        "#create 1d torch"
      ],
      "metadata": {
        "id": "qbZ2yB42bMDj"
      }
    },
    {
      "cell_type": "code",
      "source": [
        "x = torch.empty(1) "
      ],
      "metadata": {
        "id": "GukU-NOeWYto"
      },
      "execution_count": 40,
      "outputs": []
    },
    {
      "cell_type": "markdown",
      "source": [
        "#create 2d torch"
      ],
      "metadata": {
        "id": "rbZ9wmsMbVtW"
      }
    },
    {
      "cell_type": "code",
      "source": [
        "x = torch.empty(2, 3)\n",
        "x"
      ],
      "metadata": {
        "colab": {
          "base_uri": "https://localhost:8080/"
        },
        "id": "udngG54MW8Uv",
        "outputId": "fb7abecf-6412-4500-c348-8f81655f631f"
      },
      "execution_count": 42,
      "outputs": [
        {
          "output_type": "execute_result",
          "data": {
            "text/plain": [
              "tensor([[2.9689e-34, 0.0000e+00, 0.0000e+00],\n",
              "        [1.8750e+00, 0.0000e+00, 1.8750e+00]])"
            ]
          },
          "metadata": {},
          "execution_count": 42
        }
      ]
    },
    {
      "cell_type": "markdown",
      "source": [
        "#create 3d torch "
      ],
      "metadata": {
        "id": "mB3VQHy7bbBj"
      }
    },
    {
      "cell_type": "code",
      "source": [
        "x = torch.empty(3, 3, 3)\n",
        "x"
      ],
      "metadata": {
        "colab": {
          "base_uri": "https://localhost:8080/"
        },
        "id": "syoNrmUYbTRp",
        "outputId": "214f4bc4-65e5-40c6-adf1-1ca546256e22"
      },
      "execution_count": 45,
      "outputs": [
        {
          "output_type": "execute_result",
          "data": {
            "text/plain": [
              "tensor([8.3268e-35, 0.0000e+00, 2.3694e-38])"
            ]
          },
          "metadata": {},
          "execution_count": 45
        }
      ]
    },
    {
      "cell_type": "markdown",
      "source": [
        "#create empty zeros and ones"
      ],
      "metadata": {
        "id": "cvKP5WsBbsPv"
      }
    },
    {
      "cell_type": "code",
      "source": [
        "x = torch.zeros(2, 2) # 2d dimension\n",
        "x"
      ],
      "metadata": {
        "colab": {
          "base_uri": "https://localhost:8080/"
        },
        "id": "sRvmwmQUbgT2",
        "outputId": "0764898f-b45b-484e-e655-a32cc7e80423"
      },
      "execution_count": 47,
      "outputs": [
        {
          "output_type": "execute_result",
          "data": {
            "text/plain": [
              "tensor([[0., 0.],\n",
              "        [0., 0.]])"
            ]
          },
          "metadata": {},
          "execution_count": 47
        }
      ]
    },
    {
      "cell_type": "code",
      "source": [
        "x = torch.zeros(2, 2, dtype=torch.int) # change dataype\n",
        "x"
      ],
      "metadata": {
        "colab": {
          "base_uri": "https://localhost:8080/"
        },
        "id": "37YT_iEKb0Iv",
        "outputId": "f76b41b3-d328-4b47-ca75-8dd1966931c6"
      },
      "execution_count": 48,
      "outputs": [
        {
          "output_type": "execute_result",
          "data": {
            "text/plain": [
              "tensor([[0, 0],\n",
              "        [0, 0]], dtype=torch.int32)"
            ]
          },
          "metadata": {},
          "execution_count": 48
        }
      ]
    },
    {
      "cell_type": "markdown",
      "source": [
        "#create your tensor "
      ],
      "metadata": {
        "id": "FmshHLPscKRG"
      }
    },
    {
      "cell_type": "code",
      "source": [
        "x = torch.tensor([2.5, 0.1, 2.3]) # create 1d tensor\n",
        "x"
      ],
      "metadata": {
        "colab": {
          "base_uri": "https://localhost:8080/"
        },
        "id": "AKrb9HEpcE9D",
        "outputId": "fbb3ac1b-6fb5-40f2-bde3-f2ee74ad54c0"
      },
      "execution_count": 51,
      "outputs": [
        {
          "output_type": "execute_result",
          "data": {
            "text/plain": [
              "tensor([2.5000, 0.1000, 2.3000])"
            ]
          },
          "metadata": {},
          "execution_count": 51
        }
      ]
    },
    {
      "cell_type": "markdown",
      "source": [
        "# let's see randon with torch , add, sub, div , mul"
      ],
      "metadata": {
        "id": "ljnye9CJcgMX"
      }
    },
    {
      "cell_type": "code",
      "source": [
        "x = torch.rand(2,2)\n",
        "y = torch.rand(2,2)\n",
        "x"
      ],
      "metadata": {
        "colab": {
          "base_uri": "https://localhost:8080/"
        },
        "id": "9vpQhpStcS4T",
        "outputId": "4d608f8b-299a-48df-f8aa-e485b5e1cebf"
      },
      "execution_count": 52,
      "outputs": [
        {
          "output_type": "execute_result",
          "data": {
            "text/plain": [
              "tensor([[0.7788, 0.8178],\n",
              "        [0.7352, 0.0403]])"
            ]
          },
          "metadata": {},
          "execution_count": 52
        }
      ]
    },
    {
      "cell_type": "code",
      "source": [
        "z = x + y\n",
        "z = torch.add(x, y)"
      ],
      "metadata": {
        "id": "wuTgjAtycvGt"
      },
      "execution_count": null,
      "outputs": []
    },
    {
      "cell_type": "markdown",
      "source": [
        "inplace addition\n"
      ],
      "metadata": {
        "id": "olTIdJ6Bc8Cn"
      }
    },
    {
      "cell_type": "code",
      "source": [
        "y.add_(x) # inplace will modifie y variable add with x\n",
        "y"
      ],
      "metadata": {
        "colab": {
          "base_uri": "https://localhost:8080/"
        },
        "id": "3DrXlAywc9gy",
        "outputId": "64f32cd2-c1d5-4d1b-8e9d-53e7a1e62577"
      },
      "execution_count": 53,
      "outputs": [
        {
          "output_type": "execute_result",
          "data": {
            "text/plain": [
              "tensor([[1.7394, 1.7856],\n",
              "        [1.1796, 0.1918]])"
            ]
          },
          "metadata": {},
          "execution_count": 53
        }
      ]
    },
    {
      "cell_type": "code",
      "source": [
        "z = torch.sub(x, y)\n",
        "z = x-y\n",
        "z = torch.mul(x, y)\n",
        "z = x*y\n",
        "z = torch.div(x, y)\n",
        "z=x/y"
      ],
      "metadata": {
        "id": "kq96zXLVdAUY"
      },
      "execution_count": null,
      "outputs": []
    },
    {
      "cell_type": "markdown",
      "source": [
        "#create random with 2d dimension then do slicing"
      ],
      "metadata": {
        "id": "Dcx6VVigee--"
      }
    },
    {
      "cell_type": "code",
      "source": [
        "# remember rows go vertical | and column go horizontal __  and(rows, column)\n",
        "x = torch.rand(5, 3)\n",
        "print(x)\n",
        "print(x[:, 1]) # this will print all rows in column 1\n",
        "print(x[1,:]) # this will print rows 1 and all column  "
      ],
      "metadata": {
        "colab": {
          "base_uri": "https://localhost:8080/"
        },
        "id": "LTDzwoYveiWJ",
        "outputId": "752f53b1-abf3-4ace-b1cf-a7198a91fd19"
      },
      "execution_count": 58,
      "outputs": [
        {
          "output_type": "stream",
          "name": "stdout",
          "text": [
            "tensor([[0.8003, 0.2284, 0.1760],\n",
            "        [0.3481, 0.2541, 0.1725],\n",
            "        [0.8359, 0.2989, 0.4382],\n",
            "        [0.0129, 0.8112, 0.0985],\n",
            "        [0.8224, 0.7804, 0.4132]])\n",
            "tensor([0.2284, 0.2541, 0.2989, 0.8112, 0.7804])\n",
            "tensor([0.3481, 0.2541, 0.1725])\n"
          ]
        }
      ]
    },
    {
      "cell_type": "code",
      "source": [
        "print(x[1,1])\n",
        "print(x[1,1].item()) # print actual element "
      ],
      "metadata": {
        "colab": {
          "base_uri": "https://localhost:8080/"
        },
        "id": "HKnYEphKelfJ",
        "outputId": "a41ebb74-0dd8-4e9c-a4b9-ab95df4a9ea4"
      },
      "execution_count": 61,
      "outputs": [
        {
          "output_type": "stream",
          "name": "stdout",
          "text": [
            "tensor(0.2541)\n",
            "0.254083514213562\n"
          ]
        }
      ]
    },
    {
      "cell_type": "markdown",
      "source": [
        "#reshape tensor"
      ],
      "metadata": {
        "id": "aP8jK7PfguWt"
      }
    },
    {
      "cell_type": "code",
      "source": [
        "x = torch.rand(4,4)\n",
        "y = x.view(16) #  4*4 = 16\n",
        "print(y) # will be in 1d"
      ],
      "metadata": {
        "colab": {
          "base_uri": "https://localhost:8080/"
        },
        "id": "dKjvJbB8gmCN",
        "outputId": "c8f49a29-eda3-4873-e12d-3b0cb9168aee"
      },
      "execution_count": 63,
      "outputs": [
        {
          "output_type": "stream",
          "name": "stdout",
          "text": [
            "tensor([0.4708, 0.4628, 0.4289, 0.9754, 0.9994, 0.5505, 0.4278, 0.9982, 0.4094,\n",
            "        0.3499, 0.8449, 0.9647, 0.7932, 0.1635, 0.7031, 0.4025])\n"
          ]
        }
      ]
    },
    {
      "cell_type": "code",
      "source": [
        "y = x.view(-1, 8) # this will take 2d with 8,8"
      ],
      "metadata": {
        "id": "HMICLVzqgz-G"
      },
      "execution_count": 65,
      "outputs": []
    },
    {
      "cell_type": "markdown",
      "source": [
        "#convert tensor to numpy"
      ],
      "metadata": {
        "id": "dY4iizqajdh9"
      }
    },
    {
      "cell_type": "code",
      "source": [
        "a = torch.ones(5)\n",
        "a"
      ],
      "metadata": {
        "colab": {
          "base_uri": "https://localhost:8080/"
        },
        "id": "8_zJ5z11jRPQ",
        "outputId": "8fae7632-c6a0-445c-b9c5-0d78bebf2f75"
      },
      "execution_count": 67,
      "outputs": [
        {
          "output_type": "execute_result",
          "data": {
            "text/plain": [
              "tensor([1., 1., 1., 1., 1.])"
            ]
          },
          "metadata": {},
          "execution_count": 67
        }
      ]
    },
    {
      "cell_type": "code",
      "source": [
        "b = a.numpy()\n",
        "print(type(b)) # convert a tensor to numpy array"
      ],
      "metadata": {
        "colab": {
          "base_uri": "https://localhost:8080/"
        },
        "id": "GJPrFuEsjcWf",
        "outputId": "9ebd9366-502a-4f2a-85c5-0689de6dc516"
      },
      "execution_count": 68,
      "outputs": [
        {
          "output_type": "stream",
          "name": "stdout",
          "text": [
            "<class 'numpy.ndarray'>\n"
          ]
        }
      ]
    },
    {
      "cell_type": "markdown",
      "source": [
        "N:B when we tensor are running on cpu not on gpu will share same memory then effect from one it will effect others\n",
        "because they are sharing same memory location"
      ],
      "metadata": {
        "id": "72yR64lFj7Fl"
      }
    },
    {
      "cell_type": "code",
      "source": [
        "\n",
        "a\n",
        "a.add_(1)"
      ],
      "metadata": {
        "colab": {
          "base_uri": "https://localhost:8080/"
        },
        "id": "t3Hq0mpfjwr8",
        "outputId": "a8cab04c-d72c-49b7-fbdf-d993ce18f236"
      },
      "execution_count": 74,
      "outputs": [
        {
          "output_type": "execute_result",
          "data": {
            "text/plain": [
              "tensor([4., 4., 4., 4., 4.])"
            ]
          },
          "metadata": {},
          "execution_count": 74
        }
      ]
    },
    {
      "cell_type": "code",
      "source": [
        "b"
      ],
      "metadata": {
        "colab": {
          "base_uri": "https://localhost:8080/"
        },
        "id": "UYZR8W94j1Fu",
        "outputId": "e3d937e7-af06-42fa-ad38-ab662b77e717"
      },
      "execution_count": 75,
      "outputs": [
        {
          "output_type": "execute_result",
          "data": {
            "text/plain": [
              "array([4., 4., 4., 4., 4.], dtype=float32)"
            ]
          },
          "metadata": {},
          "execution_count": 75
        }
      ]
    },
    {
      "cell_type": "code",
      "source": [
        "a = np.ones(5)\n",
        "a"
      ],
      "metadata": {
        "colab": {
          "base_uri": "https://localhost:8080/"
        },
        "id": "pvP8eDv2j4YT",
        "outputId": "e3da9ab0-bd78-4a5b-ead6-68fab0c8b9a0"
      },
      "execution_count": 76,
      "outputs": [
        {
          "output_type": "execute_result",
          "data": {
            "text/plain": [
              "array([1., 1., 1., 1., 1.])"
            ]
          },
          "metadata": {},
          "execution_count": 76
        }
      ]
    },
    {
      "cell_type": "code",
      "source": [
        "b = torch.from_numpy(a) # by default it will have datatype torch.float64"
      ],
      "metadata": {
        "colab": {
          "base_uri": "https://localhost:8080/"
        },
        "id": "b_aVI22OkdqQ",
        "outputId": "b762fbab-99b8-4f8e-8222-433e9ae7871b"
      },
      "execution_count": 77,
      "outputs": [
        {
          "output_type": "execute_result",
          "data": {
            "text/plain": [
              "tensor([1., 1., 1., 1., 1.], dtype=torch.float64)"
            ]
          },
          "metadata": {},
          "execution_count": 77
        }
      ]
    },
    {
      "cell_type": "code",
      "source": [
        "a += 1"
      ],
      "metadata": {
        "id": "tvQVlH-FkiJu"
      },
      "execution_count": 78,
      "outputs": []
    },
    {
      "cell_type": "code",
      "source": [
        "a"
      ],
      "metadata": {
        "colab": {
          "base_uri": "https://localhost:8080/"
        },
        "id": "acFlaA18kslb",
        "outputId": "190b383d-8bb6-411d-a482-b0f671cb530f"
      },
      "execution_count": 79,
      "outputs": [
        {
          "output_type": "execute_result",
          "data": {
            "text/plain": [
              "array([2., 2., 2., 2., 2.])"
            ]
          },
          "metadata": {},
          "execution_count": 79
        }
      ]
    },
    {
      "cell_type": "code",
      "source": [
        "b"
      ],
      "metadata": {
        "colab": {
          "base_uri": "https://localhost:8080/"
        },
        "id": "8DwTW7X6ktGj",
        "outputId": "a9811da4-ee9d-4958-aaaa-58001f9083d4"
      },
      "execution_count": 80,
      "outputs": [
        {
          "output_type": "execute_result",
          "data": {
            "text/plain": [
              "tensor([2., 2., 2., 2., 2.], dtype=torch.float64)"
            ]
          },
          "metadata": {},
          "execution_count": 80
        }
      ]
    },
    {
      "cell_type": "markdown",
      "source": [
        "#if we are running on cuda toolkit"
      ],
      "metadata": {
        "id": "QpBPY1prk4WJ"
      }
    },
    {
      "cell_type": "code",
      "source": [
        "# we can check it by this\n",
        "if torch.cuda.is_available():\n",
        "  device = torch.device(\"cuda\") # when you are on window and you have cuda available\n",
        "  #create tensor on gpu\n",
        "  x = torch.ones(5, device=device) # this will create tensor then put on gpu\n",
        "  # or we can do like this\n",
        "  y = torch.ones(5)\n",
        "  y = y.to(device=device) # and it will be much fast\n",
        "  z = x +y\n",
        "  #z.numpy() # this will return error because numpy handle cpu tensor we have to move it back to cpu\n",
        "  z = z.to(\"cpu\")\n",
        "else:\n",
        "  print(\"no\")"
      ],
      "metadata": {
        "colab": {
          "base_uri": "https://localhost:8080/"
        },
        "id": "46nhqBWXkt0D",
        "outputId": "c6333198-2c27-4663-9122-35135089c4d3"
      },
      "execution_count": 82,
      "outputs": [
        {
          "output_type": "stream",
          "name": "stdout",
          "text": [
            "no\n"
          ]
        }
      ]
    },
    {
      "cell_type": "code",
      "source": [
        "x = torch.ones(5, requires_grad=True) # this will pytorch that we will be using gradient in optimization later\n",
        "x"
      ],
      "metadata": {
        "colab": {
          "base_uri": "https://localhost:8080/"
        },
        "id": "cqS2BGBXlHmE",
        "outputId": "e9db40b7-7ff7-4197-fac6-bf911175b637"
      },
      "execution_count": 85,
      "outputs": [
        {
          "output_type": "execute_result",
          "data": {
            "text/plain": [
              "tensor([1., 1., 1., 1., 1.], requires_grad=True)"
            ]
          },
          "metadata": {},
          "execution_count": 85
        }
      ]
    },
    {
      "cell_type": "markdown",
      "source": [
        "#autograd"
      ],
      "metadata": {
        "id": "0h7EACmCmpVb"
      }
    },
    {
      "cell_type": "code",
      "source": [],
      "metadata": {
        "id": "4XHVeXPMmaFS"
      },
      "execution_count": null,
      "outputs": []
    }
  ]
}