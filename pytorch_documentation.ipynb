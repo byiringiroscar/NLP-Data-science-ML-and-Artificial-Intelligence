{
  "nbformat": 4,
  "nbformat_minor": 0,
  "metadata": {
    "colab": {
      "provenance": [],
      "authorship_tag": "ABX9TyPuBdyDYiFSMzkEWvGPiKlZ",
      "include_colab_link": true
    },
    "kernelspec": {
      "name": "python3",
      "display_name": "Python 3"
    },
    "language_info": {
      "name": "python"
    }
  },
  "cells": [
    {
      "cell_type": "markdown",
      "metadata": {
        "id": "view-in-github",
        "colab_type": "text"
      },
      "source": [
        "<a href=\"https://colab.research.google.com/github/byiringiroscar/NLP_FELLOWSHIP/blob/main/pytorch_documentation.ipynb\" target=\"_parent\"><img src=\"https://colab.research.google.com/assets/colab-badge.svg\" alt=\"Open In Colab\"/></a>"
      ]
    },
    {
      "cell_type": "code",
      "execution_count": 50,
      "metadata": {
        "id": "0pc_5Cdya8Ns"
      },
      "outputs": [],
      "source": [
        "import torch\n",
        "import numpy as np"
      ]
    },
    {
      "cell_type": "markdown",
      "source": [
        "#create 1d torch"
      ],
      "metadata": {
        "id": "qbZ2yB42bMDj"
      }
    },
    {
      "cell_type": "code",
      "source": [
        "x = torch.empty(1) "
      ],
      "metadata": {
        "id": "GukU-NOeWYto"
      },
      "execution_count": 51,
      "outputs": []
    },
    {
      "cell_type": "markdown",
      "source": [
        "#create 2d torch"
      ],
      "metadata": {
        "id": "rbZ9wmsMbVtW"
      }
    },
    {
      "cell_type": "code",
      "source": [
        "x = torch.empty(2, 3)\n",
        "x"
      ],
      "metadata": {
        "colab": {
          "base_uri": "https://localhost:8080/"
        },
        "id": "udngG54MW8Uv",
        "outputId": "a95fa287-e228-4225-e89c-6f5225cde40b"
      },
      "execution_count": 52,
      "outputs": [
        {
          "output_type": "execute_result",
          "data": {
            "text/plain": [
              "tensor([[5.0737e-34, 0.0000e+00, 4.6243e-44],\n",
              "        [0.0000e+00,        nan, 0.0000e+00]])"
            ]
          },
          "metadata": {},
          "execution_count": 52
        }
      ]
    },
    {
      "cell_type": "markdown",
      "source": [
        "#create 3d torch "
      ],
      "metadata": {
        "id": "mB3VQHy7bbBj"
      }
    },
    {
      "cell_type": "code",
      "source": [
        "x = torch.empty(3, 3, 3)\n",
        "x"
      ],
      "metadata": {
        "colab": {
          "base_uri": "https://localhost:8080/"
        },
        "id": "syoNrmUYbTRp",
        "outputId": "d3b5b252-c6f3-453e-c501-96473ae4b53d"
      },
      "execution_count": 53,
      "outputs": [
        {
          "output_type": "execute_result",
          "data": {
            "text/plain": [
              "tensor([[[6.7128e-34, 0.0000e+00, 0.0000e+00],\n",
              "         [0.0000e+00, 0.0000e+00, 0.0000e+00],\n",
              "         [0.0000e+00, 0.0000e+00, 0.0000e+00]],\n",
              "\n",
              "        [[0.0000e+00, 0.0000e+00, 0.0000e+00],\n",
              "         [0.0000e+00, 0.0000e+00, 0.0000e+00],\n",
              "         [0.0000e+00, 0.0000e+00, 0.0000e+00]],\n",
              "\n",
              "        [[0.0000e+00, 0.0000e+00, 0.0000e+00],\n",
              "         [0.0000e+00, 0.0000e+00, 0.0000e+00],\n",
              "         [0.0000e+00, 0.0000e+00, 0.0000e+00]]])"
            ]
          },
          "metadata": {},
          "execution_count": 53
        }
      ]
    },
    {
      "cell_type": "markdown",
      "source": [
        "#create empty zeros and ones"
      ],
      "metadata": {
        "id": "cvKP5WsBbsPv"
      }
    },
    {
      "cell_type": "code",
      "source": [
        "x = torch.zeros(2, 2) # 2d dimension\n",
        "x"
      ],
      "metadata": {
        "colab": {
          "base_uri": "https://localhost:8080/"
        },
        "id": "sRvmwmQUbgT2",
        "outputId": "f165d331-e3d1-4e5c-8f6c-7f1f3c344ec5"
      },
      "execution_count": 54,
      "outputs": [
        {
          "output_type": "execute_result",
          "data": {
            "text/plain": [
              "tensor([[0., 0.],\n",
              "        [0., 0.]])"
            ]
          },
          "metadata": {},
          "execution_count": 54
        }
      ]
    },
    {
      "cell_type": "code",
      "source": [
        "x = torch.zeros(2, 2, dtype=torch.int) # change dataype\n",
        "x"
      ],
      "metadata": {
        "colab": {
          "base_uri": "https://localhost:8080/"
        },
        "id": "37YT_iEKb0Iv",
        "outputId": "4c4c8051-31f0-4c1c-c0b8-ed1c5edf54eb"
      },
      "execution_count": 55,
      "outputs": [
        {
          "output_type": "execute_result",
          "data": {
            "text/plain": [
              "tensor([[0, 0],\n",
              "        [0, 0]], dtype=torch.int32)"
            ]
          },
          "metadata": {},
          "execution_count": 55
        }
      ]
    },
    {
      "cell_type": "markdown",
      "source": [
        "#create your tensor "
      ],
      "metadata": {
        "id": "FmshHLPscKRG"
      }
    },
    {
      "cell_type": "code",
      "source": [
        "x = torch.tensor([2.5, 0.1, 2.3]) # create 1d tensor\n",
        "x"
      ],
      "metadata": {
        "colab": {
          "base_uri": "https://localhost:8080/"
        },
        "id": "AKrb9HEpcE9D",
        "outputId": "abfb388c-908d-4fcc-db95-6911a3b2b0c7"
      },
      "execution_count": 56,
      "outputs": [
        {
          "output_type": "execute_result",
          "data": {
            "text/plain": [
              "tensor([2.5000, 0.1000, 2.3000])"
            ]
          },
          "metadata": {},
          "execution_count": 56
        }
      ]
    },
    {
      "cell_type": "markdown",
      "source": [
        "# let's see randon with torch , add, sub, div , mul"
      ],
      "metadata": {
        "id": "ljnye9CJcgMX"
      }
    },
    {
      "cell_type": "code",
      "source": [
        "x = torch.rand(2,2)\n",
        "y = torch.rand(2,2)\n",
        "x"
      ],
      "metadata": {
        "colab": {
          "base_uri": "https://localhost:8080/"
        },
        "id": "9vpQhpStcS4T",
        "outputId": "4ab7b63e-7e8c-40ca-d01b-e3f16783899e"
      },
      "execution_count": 57,
      "outputs": [
        {
          "output_type": "execute_result",
          "data": {
            "text/plain": [
              "tensor([[0.9393, 0.9884],\n",
              "        [0.9115, 0.5136]])"
            ]
          },
          "metadata": {},
          "execution_count": 57
        }
      ]
    },
    {
      "cell_type": "code",
      "source": [
        "z = x + y\n",
        "z = torch.add(x, y)"
      ],
      "metadata": {
        "id": "wuTgjAtycvGt"
      },
      "execution_count": 58,
      "outputs": []
    },
    {
      "cell_type": "markdown",
      "source": [
        "inplace addition\n"
      ],
      "metadata": {
        "id": "olTIdJ6Bc8Cn"
      }
    },
    {
      "cell_type": "code",
      "source": [
        "y.add_(x) # inplace will modifie y variable add with x\n",
        "y"
      ],
      "metadata": {
        "colab": {
          "base_uri": "https://localhost:8080/"
        },
        "id": "3DrXlAywc9gy",
        "outputId": "d45ea0ea-5c60-452d-ae09-2cfe68340422"
      },
      "execution_count": 59,
      "outputs": [
        {
          "output_type": "execute_result",
          "data": {
            "text/plain": [
              "tensor([[1.0426, 1.7189],\n",
              "        [1.7649, 0.7720]])"
            ]
          },
          "metadata": {},
          "execution_count": 59
        }
      ]
    },
    {
      "cell_type": "code",
      "source": [
        "z = torch.sub(x, y)\n",
        "z = x-y\n",
        "z = torch.mul(x, y)\n",
        "z = x*y\n",
        "z = torch.div(x, y)\n",
        "z=x/y"
      ],
      "metadata": {
        "id": "kq96zXLVdAUY"
      },
      "execution_count": 60,
      "outputs": []
    },
    {
      "cell_type": "markdown",
      "source": [
        "#create random with 2d dimension then do slicing"
      ],
      "metadata": {
        "id": "Dcx6VVigee--"
      }
    },
    {
      "cell_type": "code",
      "source": [
        "# remember rows go vertical | and column go horizontal __  and(rows, column)\n",
        "x = torch.rand(5, 3)\n",
        "print(x)\n",
        "print(x[:, 1]) # this will print all rows in column 1\n",
        "print(x[1,:]) # this will print rows 1 and all column  "
      ],
      "metadata": {
        "colab": {
          "base_uri": "https://localhost:8080/"
        },
        "id": "LTDzwoYveiWJ",
        "outputId": "7acecd5f-4a43-4190-b9ce-0304cf6803a0"
      },
      "execution_count": 61,
      "outputs": [
        {
          "output_type": "stream",
          "name": "stdout",
          "text": [
            "tensor([[0.8640, 0.4489, 0.6092],\n",
            "        [0.5746, 0.6683, 0.7407],\n",
            "        [0.7935, 0.1026, 0.2668],\n",
            "        [0.5825, 0.6694, 0.5282],\n",
            "        [0.5793, 0.7372, 0.5254]])\n",
            "tensor([0.4489, 0.6683, 0.1026, 0.6694, 0.7372])\n",
            "tensor([0.5746, 0.6683, 0.7407])\n"
          ]
        }
      ]
    },
    {
      "cell_type": "code",
      "source": [
        "print(x[1,1])\n",
        "print(x[1,1].item()) # print actual element "
      ],
      "metadata": {
        "colab": {
          "base_uri": "https://localhost:8080/"
        },
        "id": "HKnYEphKelfJ",
        "outputId": "53a15d16-644b-467c-861b-9da0653c6459"
      },
      "execution_count": 62,
      "outputs": [
        {
          "output_type": "stream",
          "name": "stdout",
          "text": [
            "tensor(0.6683)\n",
            "0.6682896018028259\n"
          ]
        }
      ]
    },
    {
      "cell_type": "markdown",
      "source": [
        "#reshape tensor"
      ],
      "metadata": {
        "id": "aP8jK7PfguWt"
      }
    },
    {
      "cell_type": "code",
      "source": [
        "x = torch.rand(4,4)\n",
        "y = x.view(16) #  4*4 = 16\n",
        "print(y) # will be in 1d"
      ],
      "metadata": {
        "colab": {
          "base_uri": "https://localhost:8080/"
        },
        "id": "dKjvJbB8gmCN",
        "outputId": "03b47505-b7e9-46b2-d1ee-bdccc6b0dccf"
      },
      "execution_count": 63,
      "outputs": [
        {
          "output_type": "stream",
          "name": "stdout",
          "text": [
            "tensor([0.6985, 0.2643, 0.9747, 0.6566, 0.1734, 0.9863, 0.1865, 0.8076, 0.6132,\n",
            "        0.8729, 0.8285, 0.9515, 0.8022, 0.1936, 0.9866, 0.7844])\n"
          ]
        }
      ]
    },
    {
      "cell_type": "code",
      "source": [
        "y = x.view(-1, 8) # this will take 2d with 8,8"
      ],
      "metadata": {
        "id": "HMICLVzqgz-G"
      },
      "execution_count": 64,
      "outputs": []
    },
    {
      "cell_type": "markdown",
      "source": [
        "#convert tensor to numpy"
      ],
      "metadata": {
        "id": "dY4iizqajdh9"
      }
    },
    {
      "cell_type": "code",
      "source": [
        "a = torch.ones(5)\n",
        "a"
      ],
      "metadata": {
        "colab": {
          "base_uri": "https://localhost:8080/"
        },
        "id": "8_zJ5z11jRPQ",
        "outputId": "1bae3bdf-f9d8-4a4c-83ef-43d4c49e16b5"
      },
      "execution_count": 65,
      "outputs": [
        {
          "output_type": "execute_result",
          "data": {
            "text/plain": [
              "tensor([1., 1., 1., 1., 1.])"
            ]
          },
          "metadata": {},
          "execution_count": 65
        }
      ]
    },
    {
      "cell_type": "code",
      "source": [
        "b = a.numpy()\n",
        "print(type(b)) # convert a tensor to numpy array"
      ],
      "metadata": {
        "colab": {
          "base_uri": "https://localhost:8080/"
        },
        "id": "GJPrFuEsjcWf",
        "outputId": "d7f6a733-7c30-4e6c-babd-8c8e0837eb6b"
      },
      "execution_count": 66,
      "outputs": [
        {
          "output_type": "stream",
          "name": "stdout",
          "text": [
            "<class 'numpy.ndarray'>\n"
          ]
        }
      ]
    },
    {
      "cell_type": "markdown",
      "source": [
        "N:B when we tensor are running on cpu not on gpu will share same memory then effect from one it will effect others\n",
        "because they are sharing same memory location"
      ],
      "metadata": {
        "id": "72yR64lFj7Fl"
      }
    },
    {
      "cell_type": "code",
      "source": [
        "\n",
        "a\n",
        "a.add_(1)"
      ],
      "metadata": {
        "colab": {
          "base_uri": "https://localhost:8080/"
        },
        "id": "t3Hq0mpfjwr8",
        "outputId": "b4079580-4d18-451e-cda0-db97ca275806"
      },
      "execution_count": 67,
      "outputs": [
        {
          "output_type": "execute_result",
          "data": {
            "text/plain": [
              "tensor([2., 2., 2., 2., 2.])"
            ]
          },
          "metadata": {},
          "execution_count": 67
        }
      ]
    },
    {
      "cell_type": "code",
      "source": [
        "b"
      ],
      "metadata": {
        "colab": {
          "base_uri": "https://localhost:8080/"
        },
        "id": "UYZR8W94j1Fu",
        "outputId": "fb56361c-95d7-430d-c3fa-16ab135cf092"
      },
      "execution_count": 68,
      "outputs": [
        {
          "output_type": "execute_result",
          "data": {
            "text/plain": [
              "array([2., 2., 2., 2., 2.], dtype=float32)"
            ]
          },
          "metadata": {},
          "execution_count": 68
        }
      ]
    },
    {
      "cell_type": "code",
      "source": [
        "a = np.ones(5)\n",
        "a"
      ],
      "metadata": {
        "colab": {
          "base_uri": "https://localhost:8080/"
        },
        "id": "pvP8eDv2j4YT",
        "outputId": "8a2e8dc3-8b17-4ba9-910a-469d9898d507"
      },
      "execution_count": 69,
      "outputs": [
        {
          "output_type": "execute_result",
          "data": {
            "text/plain": [
              "array([1., 1., 1., 1., 1.])"
            ]
          },
          "metadata": {},
          "execution_count": 69
        }
      ]
    },
    {
      "cell_type": "code",
      "source": [
        "b = torch.from_numpy(a) # by default it will have datatype torch.float64"
      ],
      "metadata": {
        "id": "b_aVI22OkdqQ"
      },
      "execution_count": 70,
      "outputs": []
    },
    {
      "cell_type": "code",
      "source": [
        "a += 1"
      ],
      "metadata": {
        "id": "tvQVlH-FkiJu"
      },
      "execution_count": 71,
      "outputs": []
    },
    {
      "cell_type": "code",
      "source": [
        "a"
      ],
      "metadata": {
        "colab": {
          "base_uri": "https://localhost:8080/"
        },
        "id": "acFlaA18kslb",
        "outputId": "c00f6445-34ba-43e3-c838-e916e8be3bf3"
      },
      "execution_count": 72,
      "outputs": [
        {
          "output_type": "execute_result",
          "data": {
            "text/plain": [
              "array([2., 2., 2., 2., 2.])"
            ]
          },
          "metadata": {},
          "execution_count": 72
        }
      ]
    },
    {
      "cell_type": "code",
      "source": [
        "b"
      ],
      "metadata": {
        "colab": {
          "base_uri": "https://localhost:8080/"
        },
        "id": "8DwTW7X6ktGj",
        "outputId": "8bdf650d-a91a-4daa-b27f-2cc14e0f038a"
      },
      "execution_count": 73,
      "outputs": [
        {
          "output_type": "execute_result",
          "data": {
            "text/plain": [
              "tensor([2., 2., 2., 2., 2.], dtype=torch.float64)"
            ]
          },
          "metadata": {},
          "execution_count": 73
        }
      ]
    },
    {
      "cell_type": "markdown",
      "source": [
        "#if we are running on cuda toolkit"
      ],
      "metadata": {
        "id": "QpBPY1prk4WJ"
      }
    },
    {
      "cell_type": "code",
      "source": [
        "# we can check it by this\n",
        "if torch.cuda.is_available():\n",
        "  device = torch.device(\"cuda\") # when you are on window and you have cuda available\n",
        "  #create tensor on gpu\n",
        "  x = torch.ones(5, device=device) # this will create tensor then put on gpu\n",
        "  # or we can do like this\n",
        "  y = torch.ones(5)\n",
        "  y = y.to(device=device) # and it will be much fast\n",
        "  z = x +y\n",
        "  #z.numpy() # this will return error because numpy handle cpu tensor we have to move it back to cpu\n",
        "  z = z.to(\"cpu\")\n",
        "else:\n",
        "  print(\"no\")"
      ],
      "metadata": {
        "colab": {
          "base_uri": "https://localhost:8080/"
        },
        "id": "46nhqBWXkt0D",
        "outputId": "99f7ef0e-f833-4acb-d788-11feaf0054fb"
      },
      "execution_count": 74,
      "outputs": [
        {
          "output_type": "stream",
          "name": "stdout",
          "text": [
            "no\n"
          ]
        }
      ]
    },
    {
      "cell_type": "code",
      "source": [
        "x = torch.ones(5, requires_grad=True) # this will pytorch that we will be using gradient in optimization later\n",
        "x"
      ],
      "metadata": {
        "colab": {
          "base_uri": "https://localhost:8080/"
        },
        "id": "cqS2BGBXlHmE",
        "outputId": "a95d4e9c-e991-4423-d108-133da753b494"
      },
      "execution_count": 75,
      "outputs": [
        {
          "output_type": "execute_result",
          "data": {
            "text/plain": [
              "tensor([1., 1., 1., 1., 1.], requires_grad=True)"
            ]
          },
          "metadata": {},
          "execution_count": 75
        }
      ]
    },
    {
      "cell_type": "markdown",
      "source": [
        "#autograd package\n",
        "this will help us in our model optimization"
      ],
      "metadata": {
        "id": "0h7EACmCmpVb"
      }
    },
    {
      "cell_type": "code",
      "source": [
        "x = torch.randn(3, requires_grad=True)\n",
        "print(x)\n",
        "y = x +2 # here our input is x and 2  \n",
        "print(y)"
      ],
      "metadata": {
        "colab": {
          "base_uri": "https://localhost:8080/"
        },
        "id": "4XHVeXPMmaFS",
        "outputId": "657b646d-053b-411d-f905-6c02db167135"
      },
      "execution_count": 76,
      "outputs": [
        {
          "output_type": "stream",
          "name": "stdout",
          "text": [
            "tensor([-0.5836, -0.4115,  1.2707], requires_grad=True)\n",
            "tensor([1.4164, 1.5885, 3.2707], grad_fn=<AddBackward0>)\n"
          ]
        }
      ]
    },
    {
      "cell_type": "markdown",
      "source": [
        "grad can be implicitly created only for scalar outputs solve this error by creating torch with same dimension then pass it in backward"
      ],
      "metadata": {
        "id": "eWaIWV8fUxC3"
      }
    },
    {
      "cell_type": "code",
      "source": [
        "z = y*y*2\n",
        "#z = z.mean()\n",
        "v = torch.tensor([0.1, 1.0, 0.001], dtype=torch.float32)\n",
        "z"
      ],
      "metadata": {
        "colab": {
          "base_uri": "https://localhost:8080/"
        },
        "id": "9yR9jNC1J0Op",
        "outputId": "a2495c05-6f66-488d-e8f0-9ae60618cbaf"
      },
      "execution_count": 77,
      "outputs": [
        {
          "output_type": "execute_result",
          "data": {
            "text/plain": [
              "tensor([ 4.0124,  5.0466, 21.3954], grad_fn=<MulBackward0>)"
            ]
          },
          "metadata": {},
          "execution_count": 77
        }
      ]
    },
    {
      "cell_type": "markdown",
      "source": [
        "calculate gradient"
      ],
      "metadata": {
        "id": "gRXDslMUTjC5"
      }
    },
    {
      "cell_type": "code",
      "source": [
        "#z.backward() # calculate gradient # dz/dx\n",
        "#print(x.grad)\n",
        "z.backward(v)\n",
        "print(x.grad)"
      ],
      "metadata": {
        "colab": {
          "base_uri": "https://localhost:8080/"
        },
        "id": "RDddPWxYdXer",
        "outputId": "c24b58a0-a56d-41d4-a466-71fe8dc5923f"
      },
      "execution_count": 78,
      "outputs": [
        {
          "output_type": "stream",
          "name": "stdout",
          "text": [
            "tensor([0.5666, 6.3540, 0.0131])\n"
          ]
        }
      ]
    },
    {
      "cell_type": "markdown",
      "source": [
        "# prevent pytorch to track our history so we have 3 option to solve it\n",
        "\n",
        "\n",
        "1.   x.requires_grad_(False)\n",
        "2.   x.detach()\n",
        "3.   with torch.no_grad():\n",
        "\n",
        "\n",
        "\n",
        "\n"
      ],
      "metadata": {
        "id": "81l8bQnOXU5T"
      }
    },
    {
      "cell_type": "code",
      "source": [
        "x = torch.randn(3, requires_grad=True)\n",
        "x"
      ],
      "metadata": {
        "colab": {
          "base_uri": "https://localhost:8080/"
        },
        "id": "16H3lUcgTzoa",
        "outputId": "c7d8b1fe-2a64-4688-8b9f-dc0147fcee75"
      },
      "execution_count": 79,
      "outputs": [
        {
          "output_type": "execute_result",
          "data": {
            "text/plain": [
              "tensor([0.5885, 1.6166, 0.1809], requires_grad=True)"
            ]
          },
          "metadata": {},
          "execution_count": 79
        }
      ]
    },
    {
      "cell_type": "markdown",
      "source": [
        "option 1"
      ],
      "metadata": {
        "id": "8aQR5-g7Y_m-"
      }
    },
    {
      "cell_type": "code",
      "source": [
        "x.requires_grad_(False)\n",
        "x"
      ],
      "metadata": {
        "colab": {
          "base_uri": "https://localhost:8080/"
        },
        "id": "W8E9woFbYAWK",
        "outputId": "d12412b9-c301-42b9-cc98-758b89188734"
      },
      "execution_count": 80,
      "outputs": [
        {
          "output_type": "execute_result",
          "data": {
            "text/plain": [
              "tensor([0.5885, 1.6166, 0.1809])"
            ]
          },
          "metadata": {},
          "execution_count": 80
        }
      ]
    },
    {
      "cell_type": "markdown",
      "source": [
        "option 2"
      ],
      "metadata": {
        "id": "dSmCT5YdZBo7"
      }
    },
    {
      "cell_type": "code",
      "source": [
        "y = x.detach()\n",
        "y"
      ],
      "metadata": {
        "colab": {
          "base_uri": "https://localhost:8080/"
        },
        "id": "5Hjs4horYGyv",
        "outputId": "31d90113-003c-41fb-ca16-bcf0abbd8b24"
      },
      "execution_count": 81,
      "outputs": [
        {
          "output_type": "execute_result",
          "data": {
            "text/plain": [
              "tensor([0.5885, 1.6166, 0.1809])"
            ]
          },
          "metadata": {},
          "execution_count": 81
        }
      ]
    },
    {
      "cell_type": "markdown",
      "source": [
        "option 3"
      ],
      "metadata": {
        "id": "T69s6lAcZDJm"
      }
    },
    {
      "cell_type": "code",
      "source": [
        "with torch.no_grad():\n",
        "  y = x+2\n",
        "  print(y)"
      ],
      "metadata": {
        "colab": {
          "base_uri": "https://localhost:8080/"
        },
        "id": "T8_UqwImY0mU",
        "outputId": "4d0a1127-cffa-4d48-c4c4-0d03f7c75870"
      },
      "execution_count": 82,
      "outputs": [
        {
          "output_type": "stream",
          "name": "stdout",
          "text": [
            "tensor([2.5885, 3.6166, 2.1809])\n"
          ]
        }
      ]
    },
    {
      "cell_type": "code",
      "source": [
        "weights = torch.ones(4, requires_grad=True)\n",
        "print(weights)\n",
        "\n",
        "\n",
        "for epoch in range(3):\n",
        "  print(\"weights *****************\", weights)\n",
        "  model_output = (weights*3).sum()\n",
        "  print(\"model_output *****************\", model_output)\n",
        "  model_output.backward()\n",
        "  print(weights.grad)\n",
        "  weights.grad.zero_() # before we do the next iteration and optimization we must empty the gradient\n",
        "\n",
        "  print(\"========================================end=====================\")"
      ],
      "metadata": {
        "colab": {
          "base_uri": "https://localhost:8080/"
        },
        "id": "R13nFSuqY9u5",
        "outputId": "14ac9d7e-a7de-4fdb-8730-17db8c8a5473"
      },
      "execution_count": 83,
      "outputs": [
        {
          "output_type": "stream",
          "name": "stdout",
          "text": [
            "tensor([1., 1., 1., 1.], requires_grad=True)\n",
            "weights ***************** tensor([1., 1., 1., 1.], requires_grad=True)\n",
            "model_output ***************** tensor(12., grad_fn=<SumBackward0>)\n",
            "tensor([3., 3., 3., 3.])\n",
            "========================================end=====================\n",
            "weights ***************** tensor([1., 1., 1., 1.], requires_grad=True)\n",
            "model_output ***************** tensor(12., grad_fn=<SumBackward0>)\n",
            "tensor([3., 3., 3., 3.])\n",
            "========================================end=====================\n",
            "weights ***************** tensor([1., 1., 1., 1.], requires_grad=True)\n",
            "model_output ***************** tensor(12., grad_fn=<SumBackward0>)\n",
            "tensor([3., 3., 3., 3.])\n",
            "========================================end=====================\n"
          ]
        }
      ]
    },
    {
      "cell_type": "markdown",
      "source": [
        "#let's see example by using built in optimizer"
      ],
      "metadata": {
        "id": "0ScjUCcVcv6D"
      }
    },
    {
      "cell_type": "code",
      "source": [
        "#weights = torch.ones(4, requires_grad=True)\n",
        "#optimizer = torch.optim.SGD(weights, lr=0.01)\n",
        "#optimizer.step()\n",
        "#optimizer.zero_grad() # here we do it before we got to the next iteration"
      ],
      "metadata": {
        "id": "D2YfotorZp_r"
      },
      "execution_count": 84,
      "outputs": []
    },
    {
      "cell_type": "markdown",
      "source": [
        "#backpropagation"
      ],
      "metadata": {
        "id": "HvtI2bQHehSn"
      }
    },
    {
      "cell_type": "code",
      "source": [
        "x = torch.tensor(1.0)\n",
        "y = torch.tensor(2.0)\n",
        "w = torch.tensor(1.0, requires_grad=True)\n",
        "\n",
        "# forward pass and compute the loss\n",
        "y_hat = w *x\n",
        "loss = (y_hat - y)**2\n",
        "print(loss)\n",
        "\n",
        "# backward pass\n",
        "loss.backward()\n",
        "print(w.grad)"
      ],
      "metadata": {
        "colab": {
          "base_uri": "https://localhost:8080/"
        },
        "id": "f89UgEu0dAy4",
        "outputId": "af186e6b-b888-4ba3-971e-5d6c2241af08"
      },
      "execution_count": 85,
      "outputs": [
        {
          "output_type": "stream",
          "name": "stdout",
          "text": [
            "tensor(1., grad_fn=<PowBackward0>)\n",
            "tensor(-2.)\n"
          ]
        }
      ]
    },
    {
      "cell_type": "markdown",
      "source": [
        "# gradient descent using Autograd\n",
        "\n",
        "\n",
        "\n",
        "\n"
      ],
      "metadata": {
        "id": "ZFjanO_XUar0"
      }
    },
    {
      "cell_type": "markdown",
      "source": [
        "  ##step 1\n",
        "1.   prediction:Manually\n",
        "2.   Gradients Computation: Manually\n",
        "2.   loss Computation: Manually\n",
        "2.   Parameter updates: Manually"
      ],
      "metadata": {
        "id": "fPQ7M8qQg2V7"
      }
    },
    {
      "cell_type": "markdown",
      "source": [
        "#built our gradients with numpy and we are doing this implementation manually"
      ],
      "metadata": {
        "id": "CsCOsPwowGK8"
      }
    },
    {
      "cell_type": "code",
      "source": [
        "# # f = w * x\n",
        "# # f = 2 * x\n",
        "\n",
        "# X = np.array([1,2,3,4], dtype=np.float32)\n",
        "# Y = np.array([2,4,6,8], dtype=np.float32) # since our formular above comment 2 * x \n",
        "# w = 0.0\n",
        "# # model prediction\n",
        "# def forward(x):\n",
        "#   return w*x\n",
        "\n",
        "\n",
        "# # loss  = MSE(MEAN SQUARED ERROR) this happen in case of linear regression\n",
        "# def loss(y, y_predicted):\n",
        "#   return ((y_predicted -y)**2).mean()\n",
        "\n",
        "\n",
        "# #gradient \n",
        "# #MSE = 1/N *(w*x -y)**2\n",
        "# #dJ/dw = 1/n 2*x (w*x -y)\n",
        "\n",
        "# def gradient(x, y, y_predicted):\n",
        "#   return np.dot(2*x, y_predicted-y).mean()\n",
        "\n",
        "# print(f'Prediction before training: f(5) = {forward(5):.3f}')\n",
        "\n",
        "# #training\n",
        "# learning_rate = 0.01\n",
        "# n_iters = 20\n",
        "\n",
        "# for epoch in range(n_iters):\n",
        "#   #prediction = forwad pass\n",
        "#   y_pred = forward(X)\n",
        "#   #loss\n",
        "#   l = loss(Y, y_pred)\n",
        "#   #gradients\n",
        "\n",
        "#   dw = gradient(X, Y, y_pred)\n",
        "#   #update weights\n",
        "#   w -= learning_rate * dw\n",
        "#   if epoch % 2 == 0:\n",
        "#     print(f'epoch {epoch+1}: w = {w:.3f}, loss={l:.8f}')\n",
        "# print(f'Prediction after training: f(5) = {forward(5):.3f}')\n"
      ],
      "metadata": {
        "id": "vGeLTWYcq3a5"
      },
      "execution_count": 86,
      "outputs": []
    },
    {
      "cell_type": "markdown",
      "source": [
        "#built this gradients with torch "
      ],
      "metadata": {
        "id": "bBlTyyyowJz1"
      }
    },
    {
      "cell_type": "code",
      "source": [
        "# # f = w * x\n",
        "# # f = 2 * x\n",
        "\n",
        "# X = torch.tensor([1,2,3,4], dtype=torch.float32)\n",
        "# Y = torch.tensor([2,4,6,8], dtype=torch.float32) # since our formular above comment 2 * x \n",
        "# w = torch.tensor(0.0, dtype=torch.float32, requires_grad=True)\n",
        "# # model prediction\n",
        "# def forward(x):\n",
        "#   return w*x\n",
        "\n",
        "\n",
        "# # loss  = MSE(MEAN SQUARED ERROR) this happen in case of linear regression\n",
        "# def loss(y, y_predicted):\n",
        "#   return ((y_predicted -y)**2).mean()\n",
        "\n",
        "\n",
        "\n",
        "# print(f'Prediction before training: f(5) = {forward(5):.3f}')\n",
        "\n",
        "# #training\n",
        "# learning_rate = 0.01\n",
        "# n_iters = 100\n",
        "\n",
        "# for epoch in range(n_iters):\n",
        "#   #prediction = forwad pass\n",
        "#   y_pred = forward(X)\n",
        "#   #loss\n",
        "#   l = loss(Y, y_pred)\n",
        "\n",
        "#   #gradients = backward pass\n",
        "\n",
        "#   l.backward()\n",
        "#   #update weights\n",
        "#   with torch.no_grad():\n",
        "#     w -= learning_rate * w.grad\n",
        "#   # zero gradients this is for help us to put this w 0 after our epoch\n",
        "#   w.grad.zero_()\n",
        "#   if epoch % 10 == 0:\n",
        "#     print(f'epoch {epoch+1}: w = {w:.3f}, loss={l:.8f}')\n",
        "# print(f'Prediction after training: f(5) = {forward(5):.3f}')\n"
      ],
      "metadata": {
        "id": "PAiueNA9wYyB"
      },
      "execution_count": 87,
      "outputs": []
    },
    {
      "cell_type": "markdown",
      "source": [
        "#Training pipeline\n",
        "model/loss/optimizer\n",
        " ##step2\n",
        "1.   prediction:Manually\n",
        "2.   Gradients Computation: Autograd\n",
        "2.   loss Computation: Manually\n",
        "2.   Parameter updates: Manually"
      ],
      "metadata": {
        "id": "3RbVGYrZRIbu"
      }
    },
    {
      "cell_type": "code",
      "source": [
        "# 1) Design model(input, output size, forwad pass)\n",
        "# 2) construct loass and optimizer\n",
        "# 3) training loop\n",
        "#   -forward pass: compute predicition\n",
        "#   -backward pass: gradients\n",
        "#   -update weights"
      ],
      "metadata": {
        "id": "rFIMT-OGzXxN"
      },
      "execution_count": 88,
      "outputs": []
    },
    {
      "cell_type": "code",
      "source": [
        "# import torch\n",
        "# import torch.nn as nn\n",
        "# # f = w * x\n",
        "# # f = 2 * x\n",
        "\n",
        "# X = torch.tensor([1,2,3,4], dtype=torch.float32)\n",
        "# Y = torch.tensor([2,4,6,8], dtype=torch.float32) # since our formular above comment 2 * x \n",
        "# w = torch.tensor(0.0, dtype=torch.float32, requires_grad=True)\n",
        "# # model prediction\n",
        "# def forward(x):\n",
        "#   return w*x\n",
        "# print(f'Prediction before training: f(5) = {forward(5):.3f}')\n",
        "\n",
        "# #training\n",
        "# learning_rate = 0.01\n",
        "# n_iters = 100\n",
        "# loss = nn.MSELoss() # mean squared error(MSE) so we don't have again to call function manually here we are using provided from torch\n",
        "# optimizer = torch.optim.SGD([w], lr=learning_rate) # here again we are optimizer our model again by using SGD\n",
        "\n",
        "# for epoch in range(n_iters):\n",
        "#   #prediction = forwad pass\n",
        "#   y_pred = forward(X)\n",
        "#   #loss\n",
        "#   l = loss(Y, y_pred)\n",
        "\n",
        "#   #gradients = backward pass\n",
        "\n",
        "#   l.backward()\n",
        "#   #update weights\n",
        "#   optimizer.step() # here we are in process of optimization\n",
        "#   # zero gradients this is for help us to put this w 0 after our epoch\n",
        "#   optimizer.zero_grad() # here we are emptying the gradient after optimization step\n",
        "#   if epoch % 10 == 0:\n",
        "#     print(f'epoch {epoch+1}: w = {w:.3f}, loss={l:.8f}')\n",
        "# print(f'Prediction after training: f(5) = {forward(5):.3f}')\n"
      ],
      "metadata": {
        "id": "eKecMs30XckQ"
      },
      "execution_count": 89,
      "outputs": []
    },
    {
      "cell_type": "markdown",
      "source": [
        "# here we are going to pursuide in step 3\n",
        "so above we compute forward pass manually so we are going to change it\n",
        "\n",
        "\n",
        "*   so here we don't need forward pass manually\n",
        "*   here we don't need initialization of weights so our pytorch model know our parameter\n",
        "*   our x, y must have different shapes this must be 2d array \n",
        "\n"
      ],
      "metadata": {
        "id": "NVuQGtr_aB66"
      }
    },
    {
      "cell_type": "code",
      "source": [
        "# 1) Design model(input, output size, forwad pass)\n",
        "# 2) construct loass and optimizer\n",
        "# 3) training loop\n",
        "#   -forward pass: compute predicition\n",
        "#   -backward pass: gradients\n",
        "#   -update weights"
      ],
      "metadata": {
        "id": "1VW_UBVveMSt"
      },
      "execution_count": 90,
      "outputs": []
    },
    {
      "cell_type": "code",
      "source": [
        "import torch\n",
        "import torch.nn as nn\n",
        "# f = w * x\n",
        "# f = 2 * x\n",
        "\n",
        "X = torch.tensor([[1], [2], [3], [4]], dtype=torch.float32)\n",
        "Y = torch.tensor([[2], [4], [6], [8]], dtype=torch.float32) # since our formular above comment 2 * x \n",
        "\n",
        "X_test = torch.tensor([6], dtype=torch.float32)\n",
        "\n",
        "n_samples, n_features = X.shape\n",
        "print(n_samples, n_features)\n",
        "input_size = n_features\n",
        "output_size = n_features\n",
        "\n",
        "# so you can use this line for initialize our model but also down side we can do it by overlide the class for it then do the same job\n",
        "#model = nn.Linear(input_size, output_size)\n",
        "\n",
        "class LinearRegression(nn.Module):\n",
        "  def __init__(self, input_dim, output_dim):\n",
        "    super(LinearRegression, self).__init__()\n",
        "    self.lin = nn.Linear(input_dim, output_dim)\n",
        "  def forward(self, x):\n",
        "    return self.lin(x)\n",
        "model = LinearRegression(input_size, output_size)\n",
        "\n",
        "print(f'Prediction before training: f(5) = {model(X_test).item():.3f}')\n",
        "\n",
        "#training\n",
        "learning_rate = 0.01\n",
        "n_iters = 10000\n",
        "loss = nn.MSELoss() # mean squared error(MSE) so we don't have again to call function manually here we are using provided from torch\n",
        "optimizer = torch.optim.SGD(model.parameters(), lr=learning_rate) # here again we are optimizer our model again by using SGD\n",
        "# model.parameters() is replacing weights(w) as will be optimized\n",
        "\n",
        "for epoch in range(n_iters):\n",
        "  #prediction = forwad pass\n",
        "  y_pred = model(X)\n",
        "  #loss\n",
        "  l = loss(Y, y_pred)\n",
        "\n",
        "  #gradients = backward pass\n",
        "\n",
        "  l.backward()\n",
        "  #update weights\n",
        "  optimizer.step() # here we are in process of optimization\n",
        "  # zero gradients this is for help us to put this w 0 after our epoch\n",
        "  optimizer.zero_grad() # here we are emptying the gradient after optimization step\n",
        "  if epoch % 1000 == 0:\n",
        "    [w, b] = model.parameters()\n",
        "    print(f'epoch {epoch+1}: w = {w[0][0].item():.3f}, loss={l:.8f}')\n",
        "print(f'Prediction after training: f(6) = {model(X_test).item():.3f}')\n"
      ],
      "metadata": {
        "colab": {
          "base_uri": "https://localhost:8080/"
        },
        "id": "uwFBDfWiZar1",
        "outputId": "d39ee820-5bf2-4ebb-8393-f880558ba034"
      },
      "execution_count": 91,
      "outputs": [
        {
          "output_type": "stream",
          "name": "stdout",
          "text": [
            "4 1\n",
            "Prediction before training: f(5) = 2.534\n",
            "epoch 1: w = 0.557, loss=16.67970085\n",
            "epoch 1001: w = 1.983, loss=0.00040233\n",
            "epoch 2001: w = 1.999, loss=0.00000100\n",
            "epoch 3001: w = 2.000, loss=0.00000000\n",
            "epoch 4001: w = 2.000, loss=0.00000000\n",
            "epoch 5001: w = 2.000, loss=0.00000000\n",
            "epoch 6001: w = 2.000, loss=0.00000000\n",
            "epoch 7001: w = 2.000, loss=0.00000000\n",
            "epoch 8001: w = 2.000, loss=0.00000000\n",
            "epoch 9001: w = 2.000, loss=0.00000000\n",
            "Prediction after training: f(6) = 12.000\n"
          ]
        }
      ]
    },
    {
      "cell_type": "markdown",
      "source": [
        "#Linear Regression"
      ],
      "metadata": {
        "id": "KQMbeppdNZYy"
      }
    },
    {
      "cell_type": "code",
      "source": [
        "# 1) Design model(input, output size, forwad pass)\n",
        "# 2) construct loass and optimizer\n",
        "# 3) training loop\n",
        "#   -forward pass: compute predicition\n",
        "#   -backward pass: gradients\n",
        "#   -update weights"
      ],
      "metadata": {
        "id": "CqWMmsJ8c5Ee"
      },
      "execution_count": 92,
      "outputs": []
    },
    {
      "cell_type": "code",
      "source": [
        "import torch\n",
        "import torch.nn as nn\n",
        "import numpy as np\n",
        "from sklearn import datasets\n",
        "import matplotlib.pyplot as plt"
      ],
      "metadata": {
        "id": "OXMt8PViNhUR"
      },
      "execution_count": 93,
      "outputs": []
    },
    {
      "cell_type": "code",
      "source": [
        "#0)prepare our data\n",
        "# generate regression dataset\n",
        "X_numpy, y_numpy = datasets.make_regression(n_samples=100, n_features=1, noise=20, random_state=1)\n",
        "# convert to torch tensor\n",
        "X = torch.from_numpy(X_numpy.astype(np.float32))\n",
        "y = torch.from_numpy(y_numpy.astype(np.float32))\n",
        "# let's reshape our y , this have one row we want to make it column vector\n",
        "# this view is built in help to reshape our tensor\n",
        "y = y.view(y.shape[0], 1)\n",
        "\n",
        "n_samples, n_features = X.shape\n",
        "\n",
        "#1)model\n",
        "input_size = n_features\n",
        "output_size = 1\n",
        "model = nn.Linear(input_size, output_size)\n",
        "\n",
        "\n",
        "\n",
        "#2) loss and optimizer\n",
        "learning_rate = 0.01\n",
        "criterion = nn.MSELoss()\n",
        "optimizer = torch.optim.SGD(model.parameters(), lr=learning_rate)\n",
        "#3) training loop\n",
        "num_epochs = 100\n",
        "for epoch in range(num_epochs):\n",
        "  #forward pass and loss\n",
        "  y_predicted = model(X)\n",
        "  loss = criterion(y_predicted, y)\n",
        "  #backward pass\n",
        "  loss.backward()\n",
        "  #update\n",
        "  optimizer.step()\n",
        "  # empty our gradient to zero\n",
        "  optimizer.zero_grad()\n",
        "\n",
        "  if(epoch+1) % 10 ==0:\n",
        "    print(f'epoch: {epoch+1}, loss={loss.item():.4f}')\n",
        "\n",
        "#plot\n",
        "predicted = model(X).detach().numpy()\n",
        "plt.plot(X_numpy, y_numpy, 'ro')\n",
        "plt.plot(X_numpy, predicted, 'b')\n",
        "plt.show()"
      ],
      "metadata": {
        "colab": {
          "base_uri": "https://localhost:8080/",
          "height": 439
        },
        "id": "kIy1Lzs-N834",
        "outputId": "f59c6837-5ac6-4f35-ea5e-2891909a86e6"
      },
      "execution_count": 94,
      "outputs": [
        {
          "output_type": "stream",
          "name": "stdout",
          "text": [
            "epoch: 10, loss=4362.9014\n",
            "epoch: 20, loss=3255.1860\n",
            "epoch: 30, loss=2453.8320\n",
            "epoch: 40, loss=1873.4832\n",
            "epoch: 50, loss=1452.7678\n",
            "epoch: 60, loss=1147.4943\n",
            "epoch: 70, loss=925.7968\n",
            "epoch: 80, loss=764.6677\n",
            "epoch: 90, loss=647.4747\n",
            "epoch: 100, loss=562.1809\n"
          ]
        },
        {
          "output_type": "display_data",
          "data": {
            "text/plain": [
              "<Figure size 432x288 with 1 Axes>"
            ],
            "image/png": "[encoded data removed]"
          },
          "metadata": {
            "needs_background": "light"
          }
        }
      ]
    },
    {
      "cell_type": "markdown",
      "source": [
        "#Logistic Regression"
      ],
      "metadata": {
        "id": "06ZruARcdjly"
      }
    },
    {
      "cell_type": "code",
      "source": [
        "# 1) Design model(input, output size, forwad pass)\n",
        "# 2) construct loass and optimizer\n",
        "# 3) training loop\n",
        "#   -forward pass: compute predicition\n",
        "#   -backward pass: gradients\n",
        "#   -update weights"
      ],
      "metadata": {
        "id": "JJvXYTFYdDvD"
      },
      "execution_count": 95,
      "outputs": []
    },
    {
      "cell_type": "code",
      "source": [
        "import torch\n",
        "import torch.nn as nn\n",
        "import numpy as np# to make data transformation\n",
        "from sklearn import datasets # to load binary classification dataset\n",
        "from sklearn.preprocessing import StandardScaler # we want to scale our features\n",
        "from sklearn.model_selection import train_test_split # we want to have speration of training and test data\n"
      ],
      "metadata": {
        "id": "IsmGP2aaPB_h"
      },
      "execution_count": 96,
      "outputs": []
    },
    {
      "cell_type": "code",
      "source": [
        "#0) prepare data\n",
        "bc = datasets.load_breast_cancer()\n",
        "X, y = bc.data, bc.target\n",
        "n_samples, n_features = X.shape\n",
        "\n",
        "X_train, X_test, y_train, y_test = train_test_split(X, y, test_size=0.2, random_state=1234)\n",
        "\n",
        "#scale our features\n",
        "sc = StandardScaler() # this standard or required to do when we are dealing with logistic regression and it will help our features to have 0 mean and unot variance\n",
        "\n",
        "X_train = sc.fit_transform(X_train)\n",
        "X_test = sc.transform(X_test)\n",
        "\n",
        "X_train = torch.from_numpy(X_train.astype(np.float32))\n",
        "X_test = torch.from_numpy(X_test.astype(np.float32))\n",
        "y_train = torch.from_numpy(y_train.astype(np.float32))\n",
        "y_test = torch.from_numpy(y_test.astype(np.float32))\n",
        "\n",
        "# reshape our y\n",
        "y_train = y_train.view(y_train.shape[0], 1) # we want to make it column vector we want to put wach value in row with only one column\n",
        "y_test = y_test.view(y_test.shape[0], 1)\n",
        "\n",
        "\n",
        "\n",
        "\n",
        "\n",
        "#1) set up model\n",
        "#f = wx + b  , sigmoid at the end\n",
        "\n",
        "class LogisticRegression(nn.Module):\n",
        "  def __init__(self, n_input_features):\n",
        "    super(LogisticRegression, self).__init__()\n",
        "    #output size 1\n",
        "    self.linear = nn.Linear(n_input_features, 1)# so we use built in layer we define our layer we only have one layer\n",
        "\n",
        "  def forward(self, x):\n",
        "    y_predicted = torch.sigmoid(self.linear(x))\n",
        "    return y_predicted\n",
        "\n",
        "model = LogisticRegression(n_features)\n",
        "\n",
        "\n",
        "#2) loss and optimizer\n",
        "learning_rate - 0.01\n",
        "criterion = nn.BCELoss()\n",
        "optimizer = torch.optim.SGD(model.parameters(), lr=learning_rate)\n",
        "\n",
        "\n",
        "\n",
        "\n",
        "#3) training loop**** in taining loop we do{forward pass and loss, backwardpass, updates}\n",
        "\n",
        "num_epoch = 100\n",
        "for epoch in range(num_epoch):\n",
        "  #forward pass and loss\n",
        "  y_predicted = model(X_train)\n",
        "  loss = criterion(y_predicted, y_train)\n",
        "\n",
        "  # backward pass\n",
        "  loss.backward()\n",
        "\n",
        "  #updates\n",
        "  optimizer.step()\n",
        "  #zero our gradients\n",
        "  optimizer.zero_grad()\n",
        "  if (epoch+1) % 10 == 0:\n",
        "    print(f'epoch: {epoch+1}, loss = {loss.item():.4f}')\n",
        "\n",
        "with torch.no_grad():\n",
        "  y_predicted = model(X_test)\n",
        "  y_predicted_cls = y_predicted.round() # as sigmod output 0~1 so we round the result\n",
        "  acc = y_predicted_cls.eq(y_test).sum() /float(y_test.shape[0])\n",
        "  print(f'accuracy = {acc:.4f}')\n"
      ],
      "metadata": {
        "id": "B-ed56gLTot2",
        "outputId": "9375ed62-b184-4729-f97c-50df03c16340",
        "colab": {
          "base_uri": "https://localhost:8080/"
        }
      },
      "execution_count": 97,
      "outputs": [
        {
          "output_type": "stream",
          "name": "stdout",
          "text": [
            "epoch: 10, loss = 0.5426\n",
            "epoch: 20, loss = 0.4461\n",
            "epoch: 30, loss = 0.3852\n",
            "epoch: 40, loss = 0.3432\n",
            "epoch: 50, loss = 0.3124\n",
            "epoch: 60, loss = 0.2886\n",
            "epoch: 70, loss = 0.2698\n",
            "epoch: 80, loss = 0.2543\n",
            "epoch: 90, loss = 0.2414\n",
            "epoch: 100, loss = 0.2303\n",
            "accuracy = 0.9298\n"
          ]
        }
      ]
    },
    {
      "cell_type": "markdown",
      "source": [
        "#dataset and dataloader"
      ],
      "metadata": {
        "id": "-orqbneFp6Qm"
      }
    },
    {
      "cell_type": "code",
      "source": [
        "'''\n",
        "epoch = 1 forward and backward pass of all training samples\n",
        "batch_size = number of training samples in one forward & backward pass\n",
        "number of iterations = number of passes, each pass using [batch_size] number of samples\n",
        "e.g. 100 samples, batch_size=20 --> 100/20 = 5 iterations for 1 epoch\n",
        "\n",
        "'''"
      ],
      "metadata": {
        "id": "NHPdPhI0UxmO"
      },
      "execution_count": null,
      "outputs": []
    },
    {
      "cell_type": "code",
      "source": [
        "import torch\n",
        "import torchvision\n",
        "from torch.utils.data import Dataset, DataLoader\n",
        "import numpy as np\n",
        "import math\n",
        "\n",
        "\n",
        "class WineDataset(Dataset):\n",
        "  def __init__(self):\n",
        "    #data loading\n",
        "    xy = np.loadtxt('https://raw.githubusercontent.com/patrickloeber/pytorchTutorial/master/data/wine/wine.csv', delimiter=\",\", dtype=np.float32, skiprows=1)\n",
        "    self.x = xy[:, 1:]\n",
        "  def __getitem__(self, index):\n",
        "    # dataset[0]\n",
        "\n",
        "  def __len__(self):\n",
        "    # len(dataset)"
      ],
      "metadata": {
        "id": "H1JFsuoytAZq",
        "outputId": "ee7b94f0-9823-4ca0-913a-642f3b789f1a",
        "colab": {
          "base_uri": "https://localhost:8080/",
          "height": 131
        }
      },
      "execution_count": 99,
      "outputs": [
        {
          "output_type": "error",
          "ename": "IndentationError",
          "evalue": "ignored",
          "traceback": [
            "\u001b[0;36m  File \u001b[0;32m\"<ipython-input-99-4c8880026fa1>\"\u001b[0;36m, line \u001b[0;32m11\u001b[0m\n\u001b[0;31m    def __getitem__(self, index):\u001b[0m\n\u001b[0m    ^\u001b[0m\n\u001b[0;31mIndentationError\u001b[0m\u001b[0;31m:\u001b[0m expected an indented block\n"
          ]
        }
      ]
    }
  ]
}