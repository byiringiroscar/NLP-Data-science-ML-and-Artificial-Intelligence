{
  "nbformat": 4,
  "nbformat_minor": 0,
  "metadata": {
    "colab": {
      "provenance": [],
      "authorship_tag": "ABX9TyMuLCxVkNpJTAkrwZIuHWGq",
      "include_colab_link": true
    },
    "kernelspec": {
      "name": "python3",
      "display_name": "Python 3"
    },
    "language_info": {
      "name": "python"
    }
  },
  "cells": [
    {
      "cell_type": "markdown",
      "metadata": {
        "id": "view-in-github",
        "colab_type": "text"
      },
      "source": [
        "<a href=\"https://colab.research.google.com/github/byiringiroscar/NLP-Data-science-ML-and-Artificial-Intelligence/blob/main/Scrap_linkedin_profile_with_selenium.ipynb\" target=\"_parent\"><img src=\"https://colab.research.google.com/assets/colab-badge.svg\" alt=\"Open In Colab\"/></a>"
      ]
    },
    {
      "cell_type": "code",
      "execution_count": 12,
      "metadata": {
        "colab": {
          "base_uri": "https://localhost:8080/"
        },
        "id": "qd_f90afmSmd",
        "outputId": "72aed339-72ef-4298-b16b-c432b58e79b8"
      },
      "outputs": [
        {
          "output_type": "stream",
          "name": "stdout",
          "text": [
            "Warning: apt-key is deprecated. Manage keyring files in trusted.gpg.d instead (see apt-key(8)).\n",
            "Executing: /tmp/apt-key-gpghome.ATtUqbJCGn/gpg.1.sh --keyserver keyserver.ubuntu.com --recv-keys DCC9EFBF77E11517\n",
            "gpg: key DCC9EFBF77E11517: \"Debian Stable Release Key (10/buster) <debian-release@lists.debian.org>\" not changed\n",
            "gpg: Total number processed: 1\n",
            "gpg:              unchanged: 1\n",
            "Warning: apt-key is deprecated. Manage keyring files in trusted.gpg.d instead (see apt-key(8)).\n",
            "Executing: /tmp/apt-key-gpghome.iyEUjqnAKi/gpg.1.sh --keyserver keyserver.ubuntu.com --recv-keys 648ACFD622F3D138\n",
            "gpg: key DC30D7C23CBBABEE: \"Debian Archive Automatic Signing Key (10/buster) <ftpmaster@debian.org>\" not changed\n",
            "gpg: Total number processed: 1\n",
            "gpg:              unchanged: 1\n",
            "Warning: apt-key is deprecated. Manage keyring files in trusted.gpg.d instead (see apt-key(8)).\n",
            "Executing: /tmp/apt-key-gpghome.nsD02bJzk0/gpg.1.sh --keyserver keyserver.ubuntu.com --recv-keys 112695A0E562B32A\n",
            "gpg: key 4DFAB270CAA96DFA: \"Debian Security Archive Automatic Signing Key (10/buster) <ftpmaster@debian.org>\" not changed\n",
            "gpg: Total number processed: 1\n",
            "gpg:              unchanged: 1\n",
            "gpg: cannot open '/dev/tty': No such device or address\n",
            "Warning: apt-key is deprecated. Manage keyring files in trusted.gpg.d instead (see apt-key(8)).\n",
            "gpg: [stdout]: write error: Broken pipe\n",
            "gpg: filter_flush failed on close: Broken pipe\n",
            "gpg: cannot open '/dev/tty': No such device or address\n",
            "Warning: apt-key is deprecated. Manage keyring files in trusted.gpg.d instead (see apt-key(8)).\n",
            "gpg: [stdout]: write error: Broken pipe\n",
            "gpg: filter_flush failed on close: Broken pipe\n",
            "gpg: cannot open '/dev/tty': No such device or address\n",
            "Warning: apt-key is deprecated. Manage keyring files in trusted.gpg.d instead (see apt-key(8)).\n",
            "gpg: [stdout]: write error: Broken pipe\n",
            "gpg: filter_flush failed on close: Broken pipe\n",
            "Hit:1 http://deb.debian.org/debian buster InRelease\n",
            "Hit:2 https://cloud.r-project.org/bin/linux/ubuntu jammy-cran40/ InRelease\n",
            "Hit:3 http://deb.debian.org/debian buster-updates InRelease\n",
            "Hit:4 http://deb.debian.org/debian-security buster/updates InRelease\n",
            "Hit:5 https://developer.download.nvidia.com/compute/cuda/repos/ubuntu2204/x86_64  InRelease\n",
            "Get:6 http://security.ubuntu.com/ubuntu jammy-security InRelease [110 kB]\n",
            "Hit:7 http://archive.ubuntu.com/ubuntu jammy InRelease\n",
            "Get:8 http://archive.ubuntu.com/ubuntu jammy-updates InRelease [119 kB]\n",
            "Hit:9 https://ppa.launchpadcontent.net/c2d4u.team/c2d4u4.0+/ubuntu jammy InRelease\n",
            "Hit:10 http://archive.ubuntu.com/ubuntu jammy-backports InRelease\n",
            "Hit:11 https://ppa.launchpadcontent.net/deadsnakes/ppa/ubuntu jammy InRelease\n",
            "Hit:12 https://ppa.launchpadcontent.net/graphics-drivers/ppa/ubuntu jammy InRelease\n",
            "Hit:13 https://ppa.launchpadcontent.net/ubuntugis/ppa/ubuntu jammy InRelease\n",
            "Fetched 229 kB in 2s (112 kB/s)\n",
            "Reading package lists... Done\n",
            "Reading package lists... Done\n",
            "Building dependency tree... Done\n",
            "Reading state information... Done\n",
            "chromium is already the newest version (90.0.4430.212-1~deb10u1).\n",
            "chromium-driver is already the newest version (90.0.4430.212-1~deb10u1).\n",
            "0 upgraded, 0 newly installed, 0 to remove and 18 not upgraded.\n",
            "Requirement already satisfied: selenium in /usr/local/lib/python3.10/dist-packages (4.15.2)\n",
            "Requirement already satisfied: urllib3[socks]<3,>=1.26 in /usr/local/lib/python3.10/dist-packages (from selenium) (2.0.7)\n",
            "Requirement already satisfied: trio~=0.17 in /usr/local/lib/python3.10/dist-packages (from selenium) (0.23.1)\n",
            "Requirement already satisfied: trio-websocket~=0.9 in /usr/local/lib/python3.10/dist-packages (from selenium) (0.11.1)\n",
            "Requirement already satisfied: certifi>=2021.10.8 in /usr/local/lib/python3.10/dist-packages (from selenium) (2023.7.22)\n",
            "Requirement already satisfied: attrs>=20.1.0 in /usr/local/lib/python3.10/dist-packages (from trio~=0.17->selenium) (23.1.0)\n",
            "Requirement already satisfied: sortedcontainers in /usr/local/lib/python3.10/dist-packages (from trio~=0.17->selenium) (2.4.0)\n",
            "Requirement already satisfied: idna in /usr/local/lib/python3.10/dist-packages (from trio~=0.17->selenium) (3.4)\n",
            "Requirement already satisfied: outcome in /usr/local/lib/python3.10/dist-packages (from trio~=0.17->selenium) (1.3.0.post0)\n",
            "Requirement already satisfied: sniffio>=1.3.0 in /usr/local/lib/python3.10/dist-packages (from trio~=0.17->selenium) (1.3.0)\n",
            "Requirement already satisfied: exceptiongroup>=1.0.0rc9 in /usr/local/lib/python3.10/dist-packages (from trio~=0.17->selenium) (1.1.3)\n",
            "Requirement already satisfied: wsproto>=0.14 in /usr/local/lib/python3.10/dist-packages (from trio-websocket~=0.9->selenium) (1.2.0)\n",
            "Requirement already satisfied: pysocks!=1.5.7,<2.0,>=1.5.6 in /usr/local/lib/python3.10/dist-packages (from urllib3[socks]<3,>=1.26->selenium) (1.7.1)\n",
            "Requirement already satisfied: h11<1,>=0.9.0 in /usr/local/lib/python3.10/dist-packages (from wsproto>=0.14->trio-websocket~=0.9->selenium) (0.14.0)\n"
          ]
        },
        {
          "output_type": "execute_result",
          "data": {
            "text/plain": []
          },
          "metadata": {},
          "execution_count": 12
        }
      ],
      "source": [
        "%%shell\n",
        "# Ubuntu no longer distributes chromium-browser outside of snap\n",
        "#\n",
        "# Proposed solution: https://askubuntu.com/questions/1204571/how-to-install-chromium-without-snap\n",
        "\n",
        "# Add debian buster\n",
        "cat > /etc/apt/sources.list.d/debian.list <<'EOF'\n",
        "deb [arch=amd64 signed-by=/usr/share/keyrings/debian-buster.gpg] http://deb.debian.org/debian buster main\n",
        "deb [arch=amd64 signed-by=/usr/share/keyrings/debian-buster-updates.gpg] http://deb.debian.org/debian buster-updates main\n",
        "deb [arch=amd64 signed-by=/usr/share/keyrings/debian-security-buster.gpg] http://deb.debian.org/debian-security buster/updates main\n",
        "EOF\n",
        "\n",
        "# Add keys\n",
        "apt-key adv --keyserver keyserver.ubuntu.com --recv-keys DCC9EFBF77E11517\n",
        "apt-key adv --keyserver keyserver.ubuntu.com --recv-keys 648ACFD622F3D138\n",
        "apt-key adv --keyserver keyserver.ubuntu.com --recv-keys 112695A0E562B32A\n",
        "\n",
        "apt-key export 77E11517 | gpg --dearmour -o /usr/share/keyrings/debian-buster.gpg\n",
        "apt-key export 22F3D138 | gpg --dearmour -o /usr/share/keyrings/debian-buster-updates.gpg\n",
        "apt-key export E562B32A | gpg --dearmour -o /usr/share/keyrings/debian-security-buster.gpg\n",
        "\n",
        "# Prefer debian repo for chromium* packages only\n",
        "# Note the double-blank lines between entries\n",
        "cat > /etc/apt/preferences.d/chromium.pref << 'EOF'\n",
        "Package: *\n",
        "Pin: release a=eoan\n",
        "Pin-Priority: 500\n",
        "\n",
        "\n",
        "Package: *\n",
        "Pin: origin \"deb.debian.org\"\n",
        "Pin-Priority: 300\n",
        "\n",
        "\n",
        "Package: chromium*\n",
        "Pin: origin \"deb.debian.org\"\n",
        "Pin-Priority: 700\n",
        "EOF\n",
        "\n",
        "# Install chromium and chromium-driver\n",
        "apt-get update\n",
        "apt-get install chromium chromium-driver\n",
        "\n",
        "# Install selenium\n",
        "pip install selenium"
      ]
    },
    {
      "cell_type": "code",
      "source": [
        "from selenium import webdriver\n",
        "from selenium.webdriver.chrome.service import Service\n",
        "from selenium.webdriver.chrome.options import Options\n",
        "from selenium.webdriver.support import expected_conditions as EC\n",
        "from selenium.webdriver.support.ui import WebDriverWait\n",
        "import json\n",
        "import time\n",
        "import os\n",
        "import requests\n",
        "from urllib.parse import urlparse, unquote\n",
        "from bs4 import BeautifulSoup\n",
        "from urllib.parse import urljoin\n",
        "from selenium.webdriver.common.by import By\n",
        "import pandas as pd\n",
        "import re\n",
        "\n",
        "chrome_options = Options()\n",
        "\n",
        "\n",
        "service = Service(executable_path=r'/usr/bin/chromedriver')\n",
        "chrome_options.add_argument('--disable-blink-features=AutomationControlled')\n",
        "chrome_options.add_argument('--headless')\n",
        "chrome_options.add_argument('--no-sandbox')\n",
        "chrome_options.add_argument('--disable-dev-shm-usage')\n",
        "\n",
        "\n",
        "driver = webdriver.Chrome(service=service, options=chrome_options)"
      ],
      "metadata": {
        "id": "9-FSPDVtoEHZ"
      },
      "execution_count": 17,
      "outputs": []
    },
    {
      "cell_type": "code",
      "source": [
        "def contains_linkedin(url):\n",
        "    return \"linkedin\" in url and url.startswith('https://rw.linkedin.com/in/')\n"
      ],
      "metadata": {
        "id": "2GPco7fNuTgP"
      },
      "execution_count": 3,
      "outputs": []
    },
    {
      "cell_type": "code",
      "source": [
        "# # Go to the Google homepage\n",
        "# driver.get(\"https://www.google.com/\")\n",
        "\n",
        "# # Find the search bar and enter the search term\n",
        "# key_word = 'linkedin'\n",
        "# word = 'ishimwe diane'\n",
        "# search_bar = driver.find_element(By.NAME, 'q')\n",
        "# search_bar.send_keys(f\"{word} {key_word}\")\n",
        "# path = \"//input[@type='submit']\"\n",
        "\n",
        "# # Wait for the search button to be clickable\n",
        "# search_button = WebDriverWait(driver, 10).until(EC.element_to_be_clickable((By.XPATH, path)))\n",
        "\n",
        "# # Click the search button\n",
        "\n",
        "# # search_button = driver.find_element(By.XPATH, path)\n",
        "# search_button.click()\n",
        "\n",
        "# # Wait for the search results to load\n",
        "# driver.implicitly_wait(10)\n",
        "# items = []\n",
        "# last_height = driver.execute_script(\"return document.body.scrollHeight\")\n",
        "# itemTargetCount = 100\n",
        "\n",
        "# scrapped_links = []\n",
        "\n",
        "# item_count = 0\n",
        "# while item_count < 100:\n",
        "#   # Scroll down the page\n",
        "#   driver.execute_script(\"window.scrollTo(0, document.body.scrollHeight);\")\n",
        "\n",
        "#   # Wait for the page to load\n",
        "#   time.sleep(1)\n",
        "\n",
        "#   # Get the new height of the page\n",
        "#   new_height = driver.execute_script(\"return document.body.scrollHeight\")\n",
        "\n",
        "#   # If the height of the page has not changed, then we have reached the bottom\n",
        "#   if new_height == last_height:\n",
        "#     break\n",
        "\n",
        "#   # Update the last height\n",
        "#   last_height = new_height\n",
        "#   try:\n",
        "\n",
        "#     # Find all of the search results\n",
        "#     search_results = driver.find_elements(By.CLASS_NAME, \"MjjYud\")\n",
        "#   except:\n",
        "#     pass\n",
        "\n",
        "#   # Print the titles of the search results\n",
        "#   for result in search_results:\n",
        "#     try:\n",
        "#         url_searched = result.find_element(By.TAG_NAME, \"a\")\n",
        "#         url_searched = url_searched.get_attribute(\"href\")\n",
        "#         if contains_linkedin(url_searched) and url_searched not in scrapped_links:\n",
        "#           scrapped_links.append(url_searched)\n",
        "#     except:\n",
        "#       pass\n",
        "#     item_count += 1\n",
        "\n",
        "\n",
        "# # Close the browser window\n",
        "# driver.quit()"
      ],
      "metadata": {
        "id": "hmDV_clJoKeW"
      },
      "execution_count": 4,
      "outputs": []
    },
    {
      "cell_type": "code",
      "source": [
        "# len(scrapped_links)"
      ],
      "metadata": {
        "id": "bnVcSdd4xwgL"
      },
      "execution_count": 5,
      "outputs": []
    },
    {
      "cell_type": "code",
      "source": [
        "# for link in scrapped_links:\n",
        "#   print(link)"
      ],
      "metadata": {
        "id": "azmZu54cvDLM"
      },
      "execution_count": 6,
      "outputs": []
    },
    {
      "cell_type": "code",
      "source": [
        "# url = 'https://www.linkedin.com/in/oscar-byiringiro-9baa8313a/'  # Replace with the URL you want to scrape\n",
        "# response = requests.get(url)\n",
        "# html = response.text\n",
        "# soup = BeautifulSoup(html, 'html.parser')\n",
        "# soup\n",
        "\n",
        "# # h1_element = soup.find('h1', class_='text-heading-xlarge')\n",
        "# # if h1_element:\n",
        "# #     print(h1_element.text)\n",
        "# # else:\n",
        "# #     print(\"No h1 element found on the page.\")"
      ],
      "metadata": {
        "id": "pVdqdTd02WhJ"
      },
      "execution_count": 7,
      "outputs": []
    },
    {
      "cell_type": "code",
      "source": [
        "url = 'https://www.linkedin.com/in/oscar-byiringiro-9baa8313a/'  # Replace with the URL you want to scrape\n",
        "# Navigate to the LinkedIn profile\n",
        "driver.get(url)\n",
        "\n",
        "# Wait for the page to load (you might need to adjust the time)\n",
        "driver.implicitly_wait(10)\n",
        "\n",
        "# Find element by id\n",
        "# Get the entire HTML page source\n",
        "page_source = driver.page_source\n",
        "\n",
        "# Print the HTML source\n",
        "print(page_source)\n",
        "# Close the web driver\n",
        "driver.quit()"
      ],
      "metadata": {
        "id": "Qk-vnBvoz_-K",
        "outputId": "1d1ce3bd-78ac-4634-dc6f-e6ce0ab45e8d",
        "colab": {
          "base_uri": "https://localhost:8080/"
        }
      },
      "execution_count": 18,
      "outputs": [
        {
          "output_type": "stream",
          "name": "stdout",
          "text": [
            "<html lang=\"en\"><head>\n",
            "        <meta name=\"pageKey\" content=\"auth_wall_desktop_profile\">\n",
            "<!---->        <meta name=\"locale\" content=\"en_US\">\n",
            "        <meta id=\"config\" data-app-version=\"2.1.46\" data-call-tree-id=\"AAYJuvjPuARCIZUH1pBHiQ==\" data-multiproduct-name=\"seo-directory-frontend\" data-service-name=\"seo-directory-frontend\" data-browser-id=\"e2779b44-59f7-49f2-860b-b8be6fe83606\" data-enable-page-view-heartbeat-tracking=\"\" data-page-instance=\"urn:li:page:auth_wall_desktop_profile;10g3hL9LQjSAAGCohZSL4g==\" data-disable-jsbeacon-pagekey-suffix=\"false\" data-member-id=\"0\" data-msafdf-lib=\"https://static.licdn.com/aero-v1/sc/h/80ndnja80f2uvg4l8sj2su82m\">\n",
            "\n",
            "        <link rel=\"canonical\" href=\"/authwall\">\n",
            "<!----><!---->\n",
            "<!---->\n",
            "<!---->\n",
            "<!---->\n",
            "<!---->\n",
            "          <link rel=\"icon\" href=\"https://static.licdn.com/aero-v1/sc/h/al2o9zrvru7aqj8e1x2rzsrca\">\n",
            "\n",
            "        <script>\n",
            "          function getDfd() {let yFn,nFn;const p=new Promise(function(y, n){yFn=y;nFn=n;});p.resolve=yFn;p.reject=nFn;return p;}\n",
            "          window.lazyloader = getDfd();\n",
            "          window.tracking = getDfd();\n",
            "          window.impressionTracking = getDfd();\n",
            "          window.ingraphTracking = getDfd();\n",
            "          window.appDetection = getDfd();\n",
            "          window.pemTracking = getDfd();\n",
            "        </script>\n",
            "\n",
            "<!---->\n",
            "        \n",
            "      <title>\n",
            "        Sign In | LinkedIn\n",
            "      </title>\n",
            "      <link rel=\"canonical\" href=\"/authwall\">\n",
            "      <meta name=\"description\" content=\"750 million+ members | Manage your professional identity. Build and engage with your professional network. Access knowledge, insights and opportunities.\">\n",
            "      <meta name=\"robots\" content=\"noindex, noarchive\">\n",
            "      <meta name=\"viewport\" content=\"width=device-width, minimum-scale=1.0\">\n",
            "      <meta name=\"locale\" content=\"en_US\">\n",
            "\n",
            "      <meta property=\"og:title\" content=\"Sign Up | LinkedIn\">\n",
            "      <meta property=\"og:image\" content=\"https://static.licdn.com/aero-v1/scds/common/u/images/logos/favicons/v1/favicon.ico\">\n",
            "      <meta property=\"og:type\" content=\"website\">\n",
            "      <meta property=\"og:url\" content=\"/authwall\">\n",
            "      <meta name=\"twitter:card\" content=\"summary\">\n",
            "      <meta name=\"twitter:site\" content=\"@Linkedin\">\n",
            "      <meta name=\"twitter:title\" content=\"Sign Up | LinkedIn\">\n",
            "      <meta name=\"twitter:image\" content=\"https://static.licdn.com/aero-v1/scds/common/u/images/logos/favicons/v1/favicon.ico\">\n",
            "      <meta name=\"platform-worker\" content=\"https://static.licdn.com/aero-v1/sc/h/bxullzz73p3hhf78t6sj3w6pb\">\n",
            "      <meta name=\"litmsProfileName\" content=\"seo-directory-frontend\">\n",
            "<!---->      <script src=\"https://static.licdn.com/aero-v1/sc/h/obrlaav59g6ii1bi1f00nkdb\"></script></head></html>\n"
          ]
        }
      ]
    },
    {
      "cell_type": "code",
      "source": [],
      "metadata": {
        "id": "2uQBIUl51S6r"
      },
      "execution_count": null,
      "outputs": []
    }
  ]
}