{
  "nbformat": 4,
  "nbformat_minor": 0,
  "metadata": {
    "colab": {
      "provenance": [],
      "authorship_tag": "ABX9TyOZ6NGdV+l9qvHILsWGdIiI",
      "include_colab_link": true
    },
    "kernelspec": {
      "name": "python3",
      "display_name": "Python 3"
    },
    "language_info": {
      "name": "python"
    }
  },
  "cells": [
    {
      "cell_type": "markdown",
      "metadata": {
        "id": "view-in-github",
        "colab_type": "text"
      },
      "source": [
        "<a href=\"https://colab.research.google.com/github/byiringiroscar/NLP_FELLOWSHIP/blob/main/ScrapCharactercom.ipynb\" target=\"_parent\"><img src=\"https://colab.research.google.com/assets/colab-badge.svg\" alt=\"Open In Colab\"/></a>"
      ]
    },
    {
      "cell_type": "code",
      "execution_count": 1,
      "metadata": {
        "id": "xavq7fp0Hf_Y"
      },
      "outputs": [],
      "source": [
        "import requests\n",
        "from bs4 import BeautifulSoup\n",
        "import pandas as pd\n",
        "import re"
      ]
    },
    {
      "cell_type": "code",
      "source": [
        "url_links = 'https://www.character.com/pages/character-a-z'\n",
        "content = requests.get(url_links).content"
      ],
      "metadata": {
        "id": "1arnQ1rDmZ98"
      },
      "execution_count": 2,
      "outputs": []
    },
    {
      "cell_type": "code",
      "source": [
        "#Initiating the BS4 parser\n",
        "page = BeautifulSoup(content, 'html.parser')"
      ],
      "metadata": {
        "id": "EH6qujwhnFy-"
      },
      "execution_count": 3,
      "outputs": []
    },
    {
      "cell_type": "code",
      "source": [
        "categorycharacter = page.find_all('a', class_=\"card__link\") #\n",
        "len(categorycharacter)"
      ],
      "metadata": {
        "colab": {
          "base_uri": "https://localhost:8080/"
        },
        "id": "1aPPphcHnMdY",
        "outputId": "d3abc555-5701-4027-fc29-4a86d5b621c7"
      },
      "execution_count": 28,
      "outputs": [
        {
          "output_type": "execute_result",
          "data": {
            "text/plain": [
              "203"
            ]
          },
          "metadata": {},
          "execution_count": 28
        }
      ]
    },
    {
      "cell_type": "code",
      "source": [
        "# get all links in specific category\n",
        "def get_links_category(url):\n",
        "  all_links = []\n",
        "  content = requests.get(url).content\n",
        "  soup = BeautifulSoup(content, 'html.parser')\n",
        "  product_card_div = soup.find_all('div', class_='stack stack--s align-center product-card__content')\n",
        "\n",
        "  for link in product_card_div:\n",
        "    # Find the link (a) element within the div\n",
        "    link_element = link.find('a', class_='card__link')\n",
        "    # Extract the href attribute from the link element\n",
        "    base_link = \"https://www.character.com\"\n",
        "    link = link_element['href']\n",
        "    full_link = base_link + link\n",
        "    all_links.append(full_link)\n",
        "  return all_links\n",
        "\n",
        "\n"
      ],
      "metadata": {
        "id": "WIjCF8sxpgAq"
      },
      "execution_count": 66,
      "outputs": []
    },
    {
      "cell_type": "code",
      "source": [
        "links = get_links_category(\"https://www.character.com/collections/aladdin\")\n",
        "for data in links[:5]:\n",
        "  print(data)"
      ],
      "metadata": {
        "colab": {
          "base_uri": "https://localhost:8080/"
        },
        "id": "QTW7acoWyPKy",
        "outputId": "38f73611-e430-4cab-bf28-d25daac03b89"
      },
      "execution_count": 67,
      "outputs": [
        {
          "output_type": "stream",
          "name": "stdout",
          "text": [
            "https://www.character.com/collections/aladdin/products/disney-princess-water-bottle\n",
            "https://www.character.com/collections/aladdin/products/disney-princess-4-piece-swim-set\n",
            "https://www.character.com/collections/aladdin/products/jasmine-aladdin-crystal-art-buddy\n",
            "https://www.character.com/collections/aladdin/products/disney-princess-baseball-cap\n",
            "https://www.character.com/collections/aladdin/products/disney-aladdin-jafar-cobra-head-adults-knitted-jumper\n"
          ]
        }
      ]
    },
    {
      "cell_type": "code",
      "source": [
        "base_link = \"https://www.character.com/collections/\"\n",
        "category_links = []\n",
        "for data in categorycharacter:\n",
        "  data = data['href']\n",
        "  category = data.split('/')\n",
        "  category = category[-1]\n",
        "  full_link = base_link + category\n",
        "  category_links.append({'link': full_link, 'category': category})\n"
      ],
      "metadata": {
        "id": "tvOCVLXqpBjr"
      },
      "execution_count": 33,
      "outputs": []
    },
    {
      "cell_type": "code",
      "source": [],
      "metadata": {
        "id": "wNZTHYjCyNq6"
      },
      "execution_count": null,
      "outputs": []
    },
    {
      "cell_type": "code",
      "source": [
        "len(category_links)"
      ],
      "metadata": {
        "colab": {
          "base_uri": "https://localhost:8080/"
        },
        "id": "kBBlp3C_teYx",
        "outputId": "1f8e6e6f-11c4-4e83-ff78-3e423e0df895"
      },
      "execution_count": 14,
      "outputs": [
        {
          "output_type": "execute_result",
          "data": {
            "text/plain": [
              "203"
            ]
          },
          "metadata": {},
          "execution_count": 14
        }
      ]
    },
    {
      "cell_type": "code",
      "source": [
        "for data in category_links[:2]:\n",
        "  print(data)"
      ],
      "metadata": {
        "colab": {
          "base_uri": "https://localhost:8080/"
        },
        "id": "2qsV7gOvpRaY",
        "outputId": "876bc006-c20d-4804-910d-341dffc00a9d"
      },
      "execution_count": 15,
      "outputs": [
        {
          "output_type": "stream",
          "name": "stdout",
          "text": [
            "{'link': 'https://www.character.com/collections/disney', 'category': 'disney'}\n",
            "{'link': 'https://www.character.com/collections/paw-patrol', 'category': 'paw-patrol'}\n"
          ]
        }
      ]
    },
    {
      "cell_type": "code",
      "source": [],
      "metadata": {
        "id": "Tp0GbFQ4tiyn"
      },
      "execution_count": null,
      "outputs": []
    }
  ]
}